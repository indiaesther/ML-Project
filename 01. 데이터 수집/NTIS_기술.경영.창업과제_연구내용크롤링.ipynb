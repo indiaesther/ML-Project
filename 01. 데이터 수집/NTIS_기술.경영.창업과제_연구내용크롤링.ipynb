{
 "cells": [
  {
   "cell_type": "markdown",
   "metadata": {},
   "source": [
    "# NTIS_과제_연구내용크롤링\n",
    "www.ntis.go.kr  \n",
    "기술.경영.창업 연구과제 내용 수집"
   ]
  },
  {
   "cell_type": "code",
   "execution_count": 5,
   "metadata": {},
   "outputs": [],
   "source": [
    "from selenium import webdriver\n",
    "from selenium.webdriver.common.keys import Keys\n",
    "from selenium.webdriver.common.by import By\n",
    "from tqdm import tqdm_notebook\n",
    "import time\n",
    "from selenium.webdriver.common.alert import Alert"
   ]
  },
  {
   "cell_type": "code",
   "execution_count": 20,
   "metadata": {},
   "outputs": [],
   "source": [
    "path = './chromedriver.exe'\n",
    "driver = webdriver.Chrome(path)\n",
    "\n",
    "url='https://www.ntis.go.kr/ThSearchProjectList.do?gubun=link&searchWord=%EA%B8%B0%EC%88%A0&searchSentence=&searchViewData=&searchType=&oldSearchWord=%EA%B8%B0%EC%88%A0&resultSearch=&pageNumber=1&ssoKnfSlct=0&ascDesc=ASC&useYn=N&oldQuery=%EA%B8%B0%EC%88%A0&oldAddQuery=%26SN04%3D2020%26SN11%3D%EB%8C%80%EA%B8%B0%EC%97%85%7C%EC%A4%91%EA%B2%AC%EA%B8%B0%EC%97%85%7C%EC%A4%91%EC%86%8C%EA%B8%B0%EC%97%85&dbt=project&subPjt=&searchOption16=&pageYn=Y&technologyClassification=ST&directorySearchYear=&directorySearchOption1=&directorySearchOption2=&directorySearchOption3=&searchDirViewOptionST=&searchDirViewOption6T=&searchDirViewOptionIA=&directoryStandClass=&directorySixClass=&directoryImportantClass=&downloadTarget=project&startRow=&endRow=&rqstPurpCd=&infoPrctuseDes=&layerChoice=&sort=RANK%2FDESC&pageSize=100&navigation1%5B0%5D=2020&navigation5%5B0%5D=%EC%A4%91%EC%86%8C%EA%B8%B0%EC%97%85&navigation5%5B1%5D=%EC%A4%91%EA%B2%AC%EA%B8%B0%EC%97%85&navigation5%5B2%5D=%EB%8C%80%EA%B8%B0%EC%97%85'\n",
    "driver.get(url)"
   ]
  },
  {
   "cell_type": "code",
   "execution_count": 7,
   "metadata": {},
   "outputs": [],
   "source": [
    "'''purpose=[]\n",
    "summary=[]\n",
    "effect=[]\n",
    "\n",
    "\n",
    "saup=[]\n",
    "title=[]\n",
    "agency=[]'''"
   ]
  },
  {
   "cell_type": "code",
   "execution_count": 6,
   "metadata": {},
   "outputs": [],
   "source": [
    "p_global=0\n",
    "page_global=0\n",
    "i_global=0"
   ]
  },
  {
   "cell_type": "code",
   "execution_count": 21,
   "metadata": {},
   "outputs": [],
   "source": [
    "for i in range(11):\n",
    "    driver.find_element_by_xpath('//*[@id=\"pageing\"]/a[13]').click()\n",
    "    time.sleep(0.7)"
   ]
  },
  {
   "cell_type": "code",
   "execution_count": 30,
   "metadata": {},
   "outputs": [
    {
     "name": "stderr",
     "output_type": "stream",
     "text": [
      "<ipython-input-30-9ffb933c5fba>:3: TqdmDeprecationWarning: This function will be removed in tqdm==5.0.0\n",
      "Please use `tqdm.notebook.tqdm` instead of `tqdm.tqdm_notebook`\n",
      "  for p in tqdm_notebook(range(11,18)):#111-\n"
     ]
    },
    {
     "data": {
      "application/vnd.jupyter.widget-view+json": {
       "model_id": "b9912bf7477443b689f47970c5c8e54b",
       "version_major": 2,
       "version_minor": 0
      },
      "text/plain": [
       "HBox(children=(HTML(value=''), FloatProgress(value=0.0, max=7.0), HTML(value='')))"
      ]
     },
     "metadata": {},
     "output_type": "display_data"
    },
    {
     "name": "stderr",
     "output_type": "stream",
     "text": [
      "<ipython-input-30-9ffb933c5fba>:6: TqdmDeprecationWarning: This function will be removed in tqdm==5.0.0\n",
      "Please use `tqdm.notebook.tqdm` instead of `tqdm.tqdm_notebook`\n",
      "  for page in tqdm_notebook(range(3,13)): #111-\n"
     ]
    },
    {
     "data": {
      "application/vnd.jupyter.widget-view+json": {
       "model_id": "e8425ac2d40b4cceb734cc4f46e71c14",
       "version_major": 2,
       "version_minor": 0
      },
      "text/plain": [
       "HBox(children=(HTML(value=''), FloatProgress(value=0.0, max=10.0), HTML(value='')))"
      ]
     },
     "metadata": {},
     "output_type": "display_data"
    },
    {
     "name": "stderr",
     "output_type": "stream",
     "text": [
      "<ipython-input-30-9ffb933c5fba>:12: TqdmDeprecationWarning: This function will be removed in tqdm==5.0.0\n",
      "Please use `tqdm.notebook.tqdm` instead of `tqdm.tqdm_notebook`\n",
      "  for i in tqdm_notebook(range(start,end)):\n"
     ]
    },
    {
     "data": {
      "application/vnd.jupyter.widget-view+json": {
       "model_id": "2e2daba64be04fb9ab92bb0f989bdfa6",
       "version_major": 2,
       "version_minor": 0
      },
      "text/plain": [
       "HBox(children=(HTML(value=''), FloatProgress(value=0.0), HTML(value='')))"
      ]
     },
     "metadata": {},
     "output_type": "display_data"
    },
    {
     "name": "stdout",
     "output_type": "stream",
     "text": [
      "\n"
     ]
    },
    {
     "data": {
      "application/vnd.jupyter.widget-view+json": {
       "model_id": "0e41aa747ef745fe8165a7d3dff50c61",
       "version_major": 2,
       "version_minor": 0
      },
      "text/plain": [
       "HBox(children=(HTML(value=''), FloatProgress(value=0.0), HTML(value='')))"
      ]
     },
     "metadata": {},
     "output_type": "display_data"
    },
    {
     "name": "stdout",
     "output_type": "stream",
     "text": [
      "\n"
     ]
    },
    {
     "data": {
      "application/vnd.jupyter.widget-view+json": {
       "model_id": "12ee100ed18b4acd8cfb73a23c400bd7",
       "version_major": 2,
       "version_minor": 0
      },
      "text/plain": [
       "HBox(children=(HTML(value=''), FloatProgress(value=0.0), HTML(value='')))"
      ]
     },
     "metadata": {},
     "output_type": "display_data"
    },
    {
     "name": "stdout",
     "output_type": "stream",
     "text": [
      "\n"
     ]
    },
    {
     "data": {
      "application/vnd.jupyter.widget-view+json": {
       "model_id": "cfbef2171a0741ee92d4c16a33ff132c",
       "version_major": 2,
       "version_minor": 0
      },
      "text/plain": [
       "HBox(children=(HTML(value=''), FloatProgress(value=0.0), HTML(value='')))"
      ]
     },
     "metadata": {},
     "output_type": "display_data"
    },
    {
     "name": "stdout",
     "output_type": "stream",
     "text": [
      "\n"
     ]
    },
    {
     "data": {
      "application/vnd.jupyter.widget-view+json": {
       "model_id": "3f2f22d8f401412a867091cc748d90ce",
       "version_major": 2,
       "version_minor": 0
      },
      "text/plain": [
       "HBox(children=(HTML(value=''), FloatProgress(value=0.0), HTML(value='')))"
      ]
     },
     "metadata": {},
     "output_type": "display_data"
    },
    {
     "name": "stdout",
     "output_type": "stream",
     "text": [
      "\n"
     ]
    },
    {
     "data": {
      "application/vnd.jupyter.widget-view+json": {
       "model_id": "3634a7404dff4d0aab131b6af3e568f6",
       "version_major": 2,
       "version_minor": 0
      },
      "text/plain": [
       "HBox(children=(HTML(value=''), FloatProgress(value=0.0), HTML(value='')))"
      ]
     },
     "metadata": {},
     "output_type": "display_data"
    },
    {
     "name": "stdout",
     "output_type": "stream",
     "text": [
      "\n"
     ]
    },
    {
     "data": {
      "application/vnd.jupyter.widget-view+json": {
       "model_id": "9e34f3d77ea047ddb9872c56b3e7e1ea",
       "version_major": 2,
       "version_minor": 0
      },
      "text/plain": [
       "HBox(children=(HTML(value=''), FloatProgress(value=0.0), HTML(value='')))"
      ]
     },
     "metadata": {},
     "output_type": "display_data"
    },
    {
     "name": "stdout",
     "output_type": "stream",
     "text": [
      "\n"
     ]
    },
    {
     "data": {
      "application/vnd.jupyter.widget-view+json": {
       "model_id": "37aea3b9172e430b828277eab4c32482",
       "version_major": 2,
       "version_minor": 0
      },
      "text/plain": [
       "HBox(children=(HTML(value=''), FloatProgress(value=0.0), HTML(value='')))"
      ]
     },
     "metadata": {},
     "output_type": "display_data"
    },
    {
     "name": "stdout",
     "output_type": "stream",
     "text": [
      "\n"
     ]
    },
    {
     "data": {
      "application/vnd.jupyter.widget-view+json": {
       "model_id": "0f43712b66ef43a895d13eaa93f0987a",
       "version_major": 2,
       "version_minor": 0
      },
      "text/plain": [
       "HBox(children=(HTML(value=''), FloatProgress(value=0.0), HTML(value='')))"
      ]
     },
     "metadata": {},
     "output_type": "display_data"
    },
    {
     "name": "stdout",
     "output_type": "stream",
     "text": [
      "\n"
     ]
    },
    {
     "data": {
      "application/vnd.jupyter.widget-view+json": {
       "model_id": "fdf96b37af824a6ca1d43d5074b5e00c",
       "version_major": 2,
       "version_minor": 0
      },
      "text/plain": [
       "HBox(children=(HTML(value=''), FloatProgress(value=0.0), HTML(value='')))"
      ]
     },
     "metadata": {},
     "output_type": "display_data"
    },
    {
     "name": "stdout",
     "output_type": "stream",
     "text": [
      "\n",
      "\n"
     ]
    },
    {
     "data": {
      "application/vnd.jupyter.widget-view+json": {
       "model_id": "1c11d8e7298546a0889fe090560ffcc4",
       "version_major": 2,
       "version_minor": 0
      },
      "text/plain": [
       "HBox(children=(HTML(value=''), FloatProgress(value=0.0, max=10.0), HTML(value='')))"
      ]
     },
     "metadata": {},
     "output_type": "display_data"
    },
    {
     "data": {
      "application/vnd.jupyter.widget-view+json": {
       "model_id": "93c14fe7191348d386682aa24f95ca08",
       "version_major": 2,
       "version_minor": 0
      },
      "text/plain": [
       "HBox(children=(HTML(value=''), FloatProgress(value=0.0), HTML(value='')))"
      ]
     },
     "metadata": {},
     "output_type": "display_data"
    },
    {
     "name": "stdout",
     "output_type": "stream",
     "text": [
      "\n"
     ]
    },
    {
     "data": {
      "application/vnd.jupyter.widget-view+json": {
       "model_id": "53b24f62801a4864925d70d09cc8b578",
       "version_major": 2,
       "version_minor": 0
      },
      "text/plain": [
       "HBox(children=(HTML(value=''), FloatProgress(value=0.0), HTML(value='')))"
      ]
     },
     "metadata": {},
     "output_type": "display_data"
    },
    {
     "name": "stdout",
     "output_type": "stream",
     "text": [
      "\n"
     ]
    },
    {
     "data": {
      "application/vnd.jupyter.widget-view+json": {
       "model_id": "35ab2e7b732b40af924b09b8cb6f83df",
       "version_major": 2,
       "version_minor": 0
      },
      "text/plain": [
       "HBox(children=(HTML(value=''), FloatProgress(value=0.0), HTML(value='')))"
      ]
     },
     "metadata": {},
     "output_type": "display_data"
    },
    {
     "name": "stdout",
     "output_type": "stream",
     "text": [
      "\n"
     ]
    },
    {
     "data": {
      "application/vnd.jupyter.widget-view+json": {
       "model_id": "c5b3cff427454eef9ff2b2c2c3ed8823",
       "version_major": 2,
       "version_minor": 0
      },
      "text/plain": [
       "HBox(children=(HTML(value=''), FloatProgress(value=0.0), HTML(value='')))"
      ]
     },
     "metadata": {},
     "output_type": "display_data"
    },
    {
     "name": "stdout",
     "output_type": "stream",
     "text": [
      "\n"
     ]
    },
    {
     "data": {
      "application/vnd.jupyter.widget-view+json": {
       "model_id": "3f8e33acb52a464c85204ad2f6d86511",
       "version_major": 2,
       "version_minor": 0
      },
      "text/plain": [
       "HBox(children=(HTML(value=''), FloatProgress(value=0.0), HTML(value='')))"
      ]
     },
     "metadata": {},
     "output_type": "display_data"
    },
    {
     "name": "stdout",
     "output_type": "stream",
     "text": [
      "\n"
     ]
    },
    {
     "data": {
      "application/vnd.jupyter.widget-view+json": {
       "model_id": "31a87458d5284a93a31e50a368fca082",
       "version_major": 2,
       "version_minor": 0
      },
      "text/plain": [
       "HBox(children=(HTML(value=''), FloatProgress(value=0.0), HTML(value='')))"
      ]
     },
     "metadata": {},
     "output_type": "display_data"
    },
    {
     "name": "stdout",
     "output_type": "stream",
     "text": [
      "\n",
      "\n",
      "\n",
      "멈춘페이지:  8\n",
      "오류과제 넘버:  12568\n",
      "오류과제 넘버:  12\n",
      "end:  12601\n",
      "start:  12501\n",
      "3133 3133 3133 3132 3132 3132\n"
     ]
    }
   ],
   "source": [
    "try:\n",
    "    end=11101\n",
    "    for p in tqdm_notebook(range(11,18)):#111-\n",
    "        p_global=p\n",
    "        \n",
    "        for page in tqdm_notebook(range(3,13)): #111-\n",
    "            page_global=page\n",
    "            start=end-100\n",
    "            driver.find_element_by_xpath('//*[@id=\"pageing\"]/a[%d]'%(page)).click()\n",
    "            time.sleep(0.5)\n",
    "            \n",
    "            for i in tqdm_notebook(range(start,end)):\n",
    "                i_global=i\n",
    "                click_list = driver.find_element_by_xpath('//*[@id=\"%d\"]/a'%(i))\n",
    "                link = click_list.get_attribute('href')\n",
    "                driver.execute_script(\"window.open('%s')\"%(link))\n",
    "                driver.switch_to.window(driver.window_handles[1])\n",
    "\n",
    "                time.sleep(0.5)\n",
    "                purpose.append(driver.find_element_by_xpath('//*[@id=\"divSummary\"]/div[2]').text)\n",
    "                summary.append(driver.find_element_by_xpath('//*[@id=\"divSummary\"]/div[3]').text)\n",
    "                effect.append(driver.find_element_by_xpath('//*[@id=\"divSummary\"]/div[4]').text)\n",
    "\n",
    "                click_pjtView = driver.find_element_by_xpath('//*[@id=\"sPjtView\"]').click()\n",
    "                time.sleep(0.3)\n",
    "                saup.append(driver.find_element_by_xpath('//*[@id=\"divMain\"]/table/tbody/tr[1]/td').text)\n",
    "                title.append(driver.find_element_by_xpath('//*[@id=\"divMain\"]/table/tbody/tr[3]/td').text)\n",
    "                agency.append(driver.find_element_by_xpath('//*[@id=\"divMain\"]/table/tbody/tr[5]/td[2]').text)\n",
    "\n",
    "                time.sleep(0.1)\n",
    "                driver.close()\n",
    "                time.sleep(0.4)\n",
    "                driver.switch_to.window(driver.window_handles[0])\n",
    "                time.sleep(0.4)\n",
    "            end+=100\n",
    "        driver.find_element_by_xpath('//*[@id=\"pageing\"]/a[13]').click()\n",
    "        time.sleep(0.5)\n",
    "\n",
    "\n",
    "except:\n",
    "    print('멈춘페이지: ', page_global)\n",
    "    print('오류과제 넘버: ', i_global)\n",
    "    print('오류과제 넘버: ', p_global)\n",
    "    print('end: ', end)  \n",
    "    print('start: ', start)\n",
    "    print(len(purpose),len(summary),len(effect),len(saup),len(title),len(agency))\n",
    "    pass"
   ]
  },
  {
   "cell_type": "code",
   "execution_count": 18,
   "metadata": {},
   "outputs": [],
   "source": [
    "driver.switch_to.window(driver.window_handles[0])\n"
   ]
  },
  {
   "cell_type": "code",
   "execution_count": 19,
   "metadata": {},
   "outputs": [],
   "source": [
    "driver.quit()"
   ]
  },
  {
   "cell_type": "code",
   "execution_count": null,
   "metadata": {},
   "outputs": [],
   "source": [
    "driver.window_handles"
   ]
  },
  {
   "cell_type": "code",
   "execution_count": null,
   "metadata": {},
   "outputs": [],
   "source": []
  },
  {
   "cell_type": "code",
   "execution_count": 49,
   "metadata": {},
   "outputs": [
    {
     "name": "stdout",
     "output_type": "stream",
     "text": [
      "3132\n",
      "3132\n",
      "3132\n",
      "3132\n",
      "3132\n",
      "3132\n"
     ]
    }
   ],
   "source": [
    "print(len(purpose))\n",
    "print(len(summary))\n",
    "print(len(effect))\n",
    "\n",
    "\n",
    "print(len(saup))\n",
    "print(len(title))\n",
    "print(len(agency))"
   ]
  },
  {
   "cell_type": "code",
   "execution_count": 47,
   "metadata": {},
   "outputs": [],
   "source": [
    "purpose=purpose[:3132]\n",
    "summary=summary[:3132]\n",
    "effect=effect[:3132]"
   ]
  },
  {
   "cell_type": "code",
   "execution_count": 34,
   "metadata": {},
   "outputs": [],
   "source": [
    "import pandas as pd"
   ]
  },
  {
   "cell_type": "code",
   "execution_count": 52,
   "metadata": {},
   "outputs": [],
   "source": [
    "data={'과제관리(전문)기관':agency,'내역사업명':saup,'과제명_국문':title,'연구목표':purpose,\\\n",
    "      '연구내용':summary,'기대효과':effect}\n",
    "df= pd.DataFrame(data)"
   ]
  },
  {
   "cell_type": "code",
   "execution_count": 53,
   "metadata": {},
   "outputs": [
    {
     "data": {
      "text/plain": [
       "(3132, 6)"
      ]
     },
     "execution_count": 53,
     "metadata": {},
     "output_type": "execute_result"
    }
   ],
   "source": [
    "df.shape"
   ]
  },
  {
   "cell_type": "code",
   "execution_count": 54,
   "metadata": {},
   "outputs": [],
   "source": [
    "#엑셀파일 저장\n",
    "writer = pd.ExcelWriter('./tech_page_91_126.xlsx', engine='xlsxwriter')  #경로 각자에 맞게 변경\n",
    "df.to_excel(writer)\n",
    "writer.save()"
   ]
  },
  {
   "cell_type": "code",
   "execution_count": null,
   "metadata": {},
   "outputs": [],
   "source": []
  }
 ],
 "metadata": {
  "kernelspec": {
   "display_name": "Python 3",
   "language": "python",
   "name": "python3"
  },
  "language_info": {
   "codemirror_mode": {
    "name": "ipython",
    "version": 3
   },
   "file_extension": ".py",
   "mimetype": "text/x-python",
   "name": "python",
   "nbconvert_exporter": "python",
   "pygments_lexer": "ipython3",
   "version": "3.8.5"
  }
 },
 "nbformat": 4,
 "nbformat_minor": 4
}
