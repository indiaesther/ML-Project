{
 "cells": [
  {
   "cell_type": "code",
   "execution_count": 1,
   "metadata": {},
   "outputs": [],
   "source": [
    "import joblib\n",
    "import pandas as pd\n",
    "import numpy as np\n",
    "from tqdm import tqdm_notebook\n",
    "\n",
    "from sklearn.model_selection import train_test_split\n",
    "from sklearn.feature_extraction.text import TfidfVectorizer\n",
    "\n",
    "#나이브베이즈\n",
    "from sklearn.naive_bayes import MultinomialNB\n",
    "\n",
    "#SVM, SVC\n",
    "from sklearn.svm import SVC\n",
    "from sklearn.linear_model import SGDClassifier\n",
    "from sklearn.svm import SVC, LinearSVC, NuSVC\n",
    "\n",
    "#knn\n",
    "from sklearn.neighbors import KNeighborsClassifier\n",
    "\n",
    "#DecisionTree\n",
    "from sklearn.tree import DecisionTreeClassifier\n",
    "\n",
    "from sklearn.pipeline import Pipeline\n",
    "from sklearn.model_selection import KFold\n",
    "from sklearn.model_selection import cross_val_score, cross_validate\n",
    "from sklearn.model_selection import GridSearchCV\n",
    "\n",
    "from sklearn.metrics import accuracy_score\n",
    "from sklearn.metrics import confusion_matrix\n",
    "from sklearn.metrics import classification_report\n",
    "from sklearn.metrics.pairwise import linear_kernel\n"
   ]
  },
  {
   "cell_type": "code",
   "execution_count": 2,
   "metadata": {},
   "outputs": [],
   "source": [
    "from sklearn.pipeline import Pipeline , make_pipeline\n",
    "from sklearn.compose import ColumnTransformer\n",
    "from sklearn.multiclass import OneVsRestClassifier\n",
    "\n",
    "from sklearn.impute import SimpleImputer\n",
    "##\n",
    "from sklearn import preprocessing\n",
    "from sklearn.model_selection import cross_val_score , ShuffleSplit\n",
    "from sklearn import metrics\n",
    "from sklearn.metrics import roc_curve , roc_auc_score , f1_score , classification_report\n",
    "## plot\n",
    "import matplotlib.pyplot as plt\n",
    "import seaborn as sns\n",
    "from sklearn import datasets\n",
    "\n",
    "##Model classification\n",
    "from sklearn.ensemble import RandomForestClassifier\n",
    "from sklearn.neighbors import KNeighborsClassifier as KNN\n",
    "from sklearn.svm import SVC"
   ]
  },
  {
   "cell_type": "code",
   "execution_count": 4,
   "metadata": {},
   "outputs": [
    {
     "ename": "FileNotFoundError",
     "evalue": "[Errno 2] No such file or directory: './final_data/comp_ver8_210219.xlsx'",
     "output_type": "error",
     "traceback": [
      "\u001b[1;31m---------------------------------------------------------------------------\u001b[0m",
      "\u001b[1;31mFileNotFoundError\u001b[0m                         Traceback (most recent call last)",
      "\u001b[1;32m<ipython-input-4-d30fff2f29ca>\u001b[0m in \u001b[0;36m<module>\u001b[1;34m\u001b[0m\n\u001b[1;32m----> 1\u001b[1;33m \u001b[0mcomp_raw\u001b[0m\u001b[1;33m=\u001b[0m\u001b[0mpd\u001b[0m\u001b[1;33m.\u001b[0m\u001b[0mread_excel\u001b[0m\u001b[1;33m(\u001b[0m\u001b[1;34m'./final_data/comp_ver8_210219.xlsx'\u001b[0m\u001b[1;33m)\u001b[0m\u001b[1;33m\u001b[0m\u001b[1;33m\u001b[0m\u001b[0m\n\u001b[0m\u001b[0;32m      2\u001b[0m \u001b[0msupport_raw\u001b[0m\u001b[1;33m=\u001b[0m\u001b[0mpd\u001b[0m\u001b[1;33m.\u001b[0m\u001b[0mread_excel\u001b[0m\u001b[1;33m(\u001b[0m\u001b[1;34m'./final_data/support_data_ver1_210219.xlsx'\u001b[0m\u001b[1;33m)\u001b[0m\u001b[1;33m\u001b[0m\u001b[1;33m\u001b[0m\u001b[0m\n",
      "\u001b[1;32m~\\anaconda3\\lib\\site-packages\\pandas\\util\\_decorators.py\u001b[0m in \u001b[0;36mwrapper\u001b[1;34m(*args, **kwargs)\u001b[0m\n\u001b[0;32m    294\u001b[0m                 )\n\u001b[0;32m    295\u001b[0m                 \u001b[0mwarnings\u001b[0m\u001b[1;33m.\u001b[0m\u001b[0mwarn\u001b[0m\u001b[1;33m(\u001b[0m\u001b[0mmsg\u001b[0m\u001b[1;33m,\u001b[0m \u001b[0mFutureWarning\u001b[0m\u001b[1;33m,\u001b[0m \u001b[0mstacklevel\u001b[0m\u001b[1;33m=\u001b[0m\u001b[0mstacklevel\u001b[0m\u001b[1;33m)\u001b[0m\u001b[1;33m\u001b[0m\u001b[1;33m\u001b[0m\u001b[0m\n\u001b[1;32m--> 296\u001b[1;33m             \u001b[1;32mreturn\u001b[0m \u001b[0mfunc\u001b[0m\u001b[1;33m(\u001b[0m\u001b[1;33m*\u001b[0m\u001b[0margs\u001b[0m\u001b[1;33m,\u001b[0m \u001b[1;33m**\u001b[0m\u001b[0mkwargs\u001b[0m\u001b[1;33m)\u001b[0m\u001b[1;33m\u001b[0m\u001b[1;33m\u001b[0m\u001b[0m\n\u001b[0m\u001b[0;32m    297\u001b[0m \u001b[1;33m\u001b[0m\u001b[0m\n\u001b[0;32m    298\u001b[0m         \u001b[1;32mreturn\u001b[0m \u001b[0mwrapper\u001b[0m\u001b[1;33m\u001b[0m\u001b[1;33m\u001b[0m\u001b[0m\n",
      "\u001b[1;32m~\\anaconda3\\lib\\site-packages\\pandas\\io\\excel\\_base.py\u001b[0m in \u001b[0;36mread_excel\u001b[1;34m(io, sheet_name, header, names, index_col, usecols, squeeze, dtype, engine, converters, true_values, false_values, skiprows, nrows, na_values, keep_default_na, na_filter, verbose, parse_dates, date_parser, thousands, comment, skipfooter, convert_float, mangle_dupe_cols)\u001b[0m\n\u001b[0;32m    302\u001b[0m \u001b[1;33m\u001b[0m\u001b[0m\n\u001b[0;32m    303\u001b[0m     \u001b[1;32mif\u001b[0m \u001b[1;32mnot\u001b[0m \u001b[0misinstance\u001b[0m\u001b[1;33m(\u001b[0m\u001b[0mio\u001b[0m\u001b[1;33m,\u001b[0m \u001b[0mExcelFile\u001b[0m\u001b[1;33m)\u001b[0m\u001b[1;33m:\u001b[0m\u001b[1;33m\u001b[0m\u001b[1;33m\u001b[0m\u001b[0m\n\u001b[1;32m--> 304\u001b[1;33m         \u001b[0mio\u001b[0m \u001b[1;33m=\u001b[0m \u001b[0mExcelFile\u001b[0m\u001b[1;33m(\u001b[0m\u001b[0mio\u001b[0m\u001b[1;33m,\u001b[0m \u001b[0mengine\u001b[0m\u001b[1;33m=\u001b[0m\u001b[0mengine\u001b[0m\u001b[1;33m)\u001b[0m\u001b[1;33m\u001b[0m\u001b[1;33m\u001b[0m\u001b[0m\n\u001b[0m\u001b[0;32m    305\u001b[0m     \u001b[1;32melif\u001b[0m \u001b[0mengine\u001b[0m \u001b[1;32mand\u001b[0m \u001b[0mengine\u001b[0m \u001b[1;33m!=\u001b[0m \u001b[0mio\u001b[0m\u001b[1;33m.\u001b[0m\u001b[0mengine\u001b[0m\u001b[1;33m:\u001b[0m\u001b[1;33m\u001b[0m\u001b[1;33m\u001b[0m\u001b[0m\n\u001b[0;32m    306\u001b[0m         raise ValueError(\n",
      "\u001b[1;32m~\\anaconda3\\lib\\site-packages\\pandas\\io\\excel\\_base.py\u001b[0m in \u001b[0;36m__init__\u001b[1;34m(self, path_or_buffer, engine)\u001b[0m\n\u001b[0;32m    865\u001b[0m         \u001b[0mself\u001b[0m\u001b[1;33m.\u001b[0m\u001b[0m_io\u001b[0m \u001b[1;33m=\u001b[0m \u001b[0mstringify_path\u001b[0m\u001b[1;33m(\u001b[0m\u001b[0mpath_or_buffer\u001b[0m\u001b[1;33m)\u001b[0m\u001b[1;33m\u001b[0m\u001b[1;33m\u001b[0m\u001b[0m\n\u001b[0;32m    866\u001b[0m \u001b[1;33m\u001b[0m\u001b[0m\n\u001b[1;32m--> 867\u001b[1;33m         \u001b[0mself\u001b[0m\u001b[1;33m.\u001b[0m\u001b[0m_reader\u001b[0m \u001b[1;33m=\u001b[0m \u001b[0mself\u001b[0m\u001b[1;33m.\u001b[0m\u001b[0m_engines\u001b[0m\u001b[1;33m[\u001b[0m\u001b[0mengine\u001b[0m\u001b[1;33m]\u001b[0m\u001b[1;33m(\u001b[0m\u001b[0mself\u001b[0m\u001b[1;33m.\u001b[0m\u001b[0m_io\u001b[0m\u001b[1;33m)\u001b[0m\u001b[1;33m\u001b[0m\u001b[1;33m\u001b[0m\u001b[0m\n\u001b[0m\u001b[0;32m    868\u001b[0m \u001b[1;33m\u001b[0m\u001b[0m\n\u001b[0;32m    869\u001b[0m     \u001b[1;32mdef\u001b[0m \u001b[0m__fspath__\u001b[0m\u001b[1;33m(\u001b[0m\u001b[0mself\u001b[0m\u001b[1;33m)\u001b[0m\u001b[1;33m:\u001b[0m\u001b[1;33m\u001b[0m\u001b[1;33m\u001b[0m\u001b[0m\n",
      "\u001b[1;32m~\\anaconda3\\lib\\site-packages\\pandas\\io\\excel\\_xlrd.py\u001b[0m in \u001b[0;36m__init__\u001b[1;34m(self, filepath_or_buffer)\u001b[0m\n\u001b[0;32m     20\u001b[0m         \u001b[0merr_msg\u001b[0m \u001b[1;33m=\u001b[0m \u001b[1;34m\"Install xlrd >= 1.0.0 for Excel support\"\u001b[0m\u001b[1;33m\u001b[0m\u001b[1;33m\u001b[0m\u001b[0m\n\u001b[0;32m     21\u001b[0m         \u001b[0mimport_optional_dependency\u001b[0m\u001b[1;33m(\u001b[0m\u001b[1;34m\"xlrd\"\u001b[0m\u001b[1;33m,\u001b[0m \u001b[0mextra\u001b[0m\u001b[1;33m=\u001b[0m\u001b[0merr_msg\u001b[0m\u001b[1;33m)\u001b[0m\u001b[1;33m\u001b[0m\u001b[1;33m\u001b[0m\u001b[0m\n\u001b[1;32m---> 22\u001b[1;33m         \u001b[0msuper\u001b[0m\u001b[1;33m(\u001b[0m\u001b[1;33m)\u001b[0m\u001b[1;33m.\u001b[0m\u001b[0m__init__\u001b[0m\u001b[1;33m(\u001b[0m\u001b[0mfilepath_or_buffer\u001b[0m\u001b[1;33m)\u001b[0m\u001b[1;33m\u001b[0m\u001b[1;33m\u001b[0m\u001b[0m\n\u001b[0m\u001b[0;32m     23\u001b[0m \u001b[1;33m\u001b[0m\u001b[0m\n\u001b[0;32m     24\u001b[0m     \u001b[1;33m@\u001b[0m\u001b[0mproperty\u001b[0m\u001b[1;33m\u001b[0m\u001b[1;33m\u001b[0m\u001b[0m\n",
      "\u001b[1;32m~\\anaconda3\\lib\\site-packages\\pandas\\io\\excel\\_base.py\u001b[0m in \u001b[0;36m__init__\u001b[1;34m(self, filepath_or_buffer)\u001b[0m\n\u001b[0;32m    351\u001b[0m             \u001b[0mself\u001b[0m\u001b[1;33m.\u001b[0m\u001b[0mbook\u001b[0m \u001b[1;33m=\u001b[0m \u001b[0mself\u001b[0m\u001b[1;33m.\u001b[0m\u001b[0mload_workbook\u001b[0m\u001b[1;33m(\u001b[0m\u001b[0mfilepath_or_buffer\u001b[0m\u001b[1;33m)\u001b[0m\u001b[1;33m\u001b[0m\u001b[1;33m\u001b[0m\u001b[0m\n\u001b[0;32m    352\u001b[0m         \u001b[1;32melif\u001b[0m \u001b[0misinstance\u001b[0m\u001b[1;33m(\u001b[0m\u001b[0mfilepath_or_buffer\u001b[0m\u001b[1;33m,\u001b[0m \u001b[0mstr\u001b[0m\u001b[1;33m)\u001b[0m\u001b[1;33m:\u001b[0m\u001b[1;33m\u001b[0m\u001b[1;33m\u001b[0m\u001b[0m\n\u001b[1;32m--> 353\u001b[1;33m             \u001b[0mself\u001b[0m\u001b[1;33m.\u001b[0m\u001b[0mbook\u001b[0m \u001b[1;33m=\u001b[0m \u001b[0mself\u001b[0m\u001b[1;33m.\u001b[0m\u001b[0mload_workbook\u001b[0m\u001b[1;33m(\u001b[0m\u001b[0mfilepath_or_buffer\u001b[0m\u001b[1;33m)\u001b[0m\u001b[1;33m\u001b[0m\u001b[1;33m\u001b[0m\u001b[0m\n\u001b[0m\u001b[0;32m    354\u001b[0m         \u001b[1;32melif\u001b[0m \u001b[0misinstance\u001b[0m\u001b[1;33m(\u001b[0m\u001b[0mfilepath_or_buffer\u001b[0m\u001b[1;33m,\u001b[0m \u001b[0mbytes\u001b[0m\u001b[1;33m)\u001b[0m\u001b[1;33m:\u001b[0m\u001b[1;33m\u001b[0m\u001b[1;33m\u001b[0m\u001b[0m\n\u001b[0;32m    355\u001b[0m             \u001b[0mself\u001b[0m\u001b[1;33m.\u001b[0m\u001b[0mbook\u001b[0m \u001b[1;33m=\u001b[0m \u001b[0mself\u001b[0m\u001b[1;33m.\u001b[0m\u001b[0mload_workbook\u001b[0m\u001b[1;33m(\u001b[0m\u001b[0mBytesIO\u001b[0m\u001b[1;33m(\u001b[0m\u001b[0mfilepath_or_buffer\u001b[0m\u001b[1;33m)\u001b[0m\u001b[1;33m)\u001b[0m\u001b[1;33m\u001b[0m\u001b[1;33m\u001b[0m\u001b[0m\n",
      "\u001b[1;32m~\\anaconda3\\lib\\site-packages\\pandas\\io\\excel\\_xlrd.py\u001b[0m in \u001b[0;36mload_workbook\u001b[1;34m(self, filepath_or_buffer)\u001b[0m\n\u001b[0;32m     35\u001b[0m             \u001b[1;32mreturn\u001b[0m \u001b[0mopen_workbook\u001b[0m\u001b[1;33m(\u001b[0m\u001b[0mfile_contents\u001b[0m\u001b[1;33m=\u001b[0m\u001b[0mdata\u001b[0m\u001b[1;33m)\u001b[0m\u001b[1;33m\u001b[0m\u001b[1;33m\u001b[0m\u001b[0m\n\u001b[0;32m     36\u001b[0m         \u001b[1;32melse\u001b[0m\u001b[1;33m:\u001b[0m\u001b[1;33m\u001b[0m\u001b[1;33m\u001b[0m\u001b[0m\n\u001b[1;32m---> 37\u001b[1;33m             \u001b[1;32mreturn\u001b[0m \u001b[0mopen_workbook\u001b[0m\u001b[1;33m(\u001b[0m\u001b[0mfilepath_or_buffer\u001b[0m\u001b[1;33m)\u001b[0m\u001b[1;33m\u001b[0m\u001b[1;33m\u001b[0m\u001b[0m\n\u001b[0m\u001b[0;32m     38\u001b[0m \u001b[1;33m\u001b[0m\u001b[0m\n\u001b[0;32m     39\u001b[0m     \u001b[1;33m@\u001b[0m\u001b[0mproperty\u001b[0m\u001b[1;33m\u001b[0m\u001b[1;33m\u001b[0m\u001b[0m\n",
      "\u001b[1;32m~\\anaconda3\\lib\\site-packages\\xlrd\\__init__.py\u001b[0m in \u001b[0;36mopen_workbook\u001b[1;34m(filename, logfile, verbosity, use_mmap, file_contents, encoding_override, formatting_info, on_demand, ragged_rows)\u001b[0m\n\u001b[0;32m    109\u001b[0m     \u001b[1;32melse\u001b[0m\u001b[1;33m:\u001b[0m\u001b[1;33m\u001b[0m\u001b[1;33m\u001b[0m\u001b[0m\n\u001b[0;32m    110\u001b[0m         \u001b[0mfilename\u001b[0m \u001b[1;33m=\u001b[0m \u001b[0mos\u001b[0m\u001b[1;33m.\u001b[0m\u001b[0mpath\u001b[0m\u001b[1;33m.\u001b[0m\u001b[0mexpanduser\u001b[0m\u001b[1;33m(\u001b[0m\u001b[0mfilename\u001b[0m\u001b[1;33m)\u001b[0m\u001b[1;33m\u001b[0m\u001b[1;33m\u001b[0m\u001b[0m\n\u001b[1;32m--> 111\u001b[1;33m         \u001b[1;32mwith\u001b[0m \u001b[0mopen\u001b[0m\u001b[1;33m(\u001b[0m\u001b[0mfilename\u001b[0m\u001b[1;33m,\u001b[0m \u001b[1;34m\"rb\"\u001b[0m\u001b[1;33m)\u001b[0m \u001b[1;32mas\u001b[0m \u001b[0mf\u001b[0m\u001b[1;33m:\u001b[0m\u001b[1;33m\u001b[0m\u001b[1;33m\u001b[0m\u001b[0m\n\u001b[0m\u001b[0;32m    112\u001b[0m             \u001b[0mpeek\u001b[0m \u001b[1;33m=\u001b[0m \u001b[0mf\u001b[0m\u001b[1;33m.\u001b[0m\u001b[0mread\u001b[0m\u001b[1;33m(\u001b[0m\u001b[0mpeeksz\u001b[0m\u001b[1;33m)\u001b[0m\u001b[1;33m\u001b[0m\u001b[1;33m\u001b[0m\u001b[0m\n\u001b[0;32m    113\u001b[0m     \u001b[1;32mif\u001b[0m \u001b[0mpeek\u001b[0m \u001b[1;33m==\u001b[0m \u001b[1;34mb\"PK\\x03\\x04\"\u001b[0m\u001b[1;33m:\u001b[0m \u001b[1;31m# a ZIP file\u001b[0m\u001b[1;33m\u001b[0m\u001b[1;33m\u001b[0m\u001b[0m\n",
      "\u001b[1;31mFileNotFoundError\u001b[0m: [Errno 2] No such file or directory: './final_data/comp_ver8_210219.xlsx'"
     ]
    } 
   ],
   "source": [
    "comp_raw=pd.read_excel('./data/comp_ver8_210219.xlsx')\n",
    "support_raw=pd.read_excel('./data/support_data_ver1_210219.xlsx')"
   ]
  },
  {
   "cell_type": "code",
   "execution_count": null,
   "metadata": {},
   "outputs": [],
   "source": [
    "company=comp_raw\n",
    "support=support_raw"
   ]
  },
  {
   "cell_type": "code",
   "execution_count": 75,
   "metadata": {},
   "outputs": [],
   "source": [
    "del company['Unnamed: 0']\n",
    "del support['Unnamed: 0']"
   ]
  },
  {
   "cell_type": "code",
   "execution_count": 76,
   "metadata": {},
   "outputs": [
    {
     "name": "stdout",
     "output_type": "stream",
     "text": [
      "(7202, 21)\n",
      "(1787, 16)\n"
     ]
    }
   ],
   "source": [
    "print(company.shape)\n",
    "print(support.shape)"
   ]
  },
  {
   "cell_type": "code",
   "execution_count": 77,
   "metadata": {},
   "outputs": [
    {
     "name": "stdout",
     "output_type": "stream",
     "text": [
      "{'중소벤처기업부': 0, '과학기술정보통신부': 1, '교육부': 2, '행정안전부': 3, '농촌진흥청': 4, '산업통상자원부': 5, '문화체육관광부': 6}\n",
      "{0: '중소벤처기업부', 1: '과학기술정보통신부', 2: '교육부', 3: '행정안전부', 4: '농촌진흥청', 5: '산업통상자원부', 6: '문화체육관광부'}\n"
     ]
    }
   ],
   "source": [
    "comp_comp = company['부처명'].tolist()\n",
    "sup_comp = support['소관부처'].tolist()\n",
    "comp_list=list(set(comp_comp+sup_comp))\n",
    "\n",
    "category_dict_encod={}\n",
    "category_dict_decod={}\n",
    "\n",
    "for key,name in enumerate(comp_list):\n",
    "    category_dict_encod.update({name:key})\n",
    "    category_dict_decod.update({key:name})\n",
    "print(category_dict_encod)\n",
    "print(category_dict_decod)"
   ]
  },
  {
   "cell_type": "code",
   "execution_count": 78,
   "metadata": {},
   "outputs": [],
   "source": [
    "company['category']=company['부처명'].apply(lambda x:category_dict_encod[x])"
   ]
  },
  {
   "cell_type": "code",
   "execution_count": null,
   "metadata": {},
   "outputs": [],
   "source": []
  },
  {
   "cell_type": "markdown",
   "metadata": {},
   "source": [
    "tfidf 파라미터 설명 사이트 참고\n",
    "https://chan-lab.tistory.com/27"
   ]
  },
  {
   "cell_type": "code",
   "execution_count": 91,
   "metadata": {},
   "outputs": [],
   "source": [
    "X_train, X_test, y_train, y_test = train_test_split(company['all_word'], company.category,\\\n",
    "                                                    shuffle=True, random_state=1, \\\n",
    "                                                    stratify = company.category)"
   ]
  },
  {
   "cell_type": "code",
   "execution_count": 92,
   "metadata": {},
   "outputs": [
    {
     "data": {
      "text/plain": [
       "TfidfVectorizer(min_df=5, ngram_range=(1, 2), sublinear_tf=True)"
      ]
     },
     "execution_count": 92,
     "metadata": {},
     "output_type": "execute_result"
    }
   ],
   "source": [
    "#comp_word=company['all_word'].tolist()\n",
    "X_train_pd=pd.DataFrame(X_train)\n",
    "comp_word=X_train_pd['all_word'].tolist()\n",
    "sup_word=support['all_word'].tolist()\n",
    "word_list=list(set(comp_word+sup_word))\n",
    "\n",
    "tfidf = TfidfVectorizer(analyzer = 'word', ngram_range = (1,2), min_df =5, sublinear_tf = True)\n",
    "tfidf.fit(word_list)"
   ]
  },
  {
   "cell_type": "code",
   "execution_count": null,
   "metadata": {},
   "outputs": [],
   "source": []
  },
  {
   "cell_type": "code",
   "execution_count": null,
   "metadata": {},
   "outputs": [],
   "source": []
  },
  {
   "cell_type": "markdown",
   "metadata": {},
   "source": [
    "svc 파라미터 설명  \n",
    "C는 '얼마나 많은 데이터 샘플이 다른 클래스에 놓이는 것을 허용하는 정도이다.(soft margin)'\n",
    "Gamma는 '하나의 데이터 샘플이 영향력을 행사하는 거리이다. 가우시안의 표준편차 역할을 한다고 생각하면 좋다.'\n",
    "참고로 linear로 하면 파라미터 gamma는 영향이 없게 된다\n",
    "  \n",
    "  https://blog.naver.com/twinvest/221587526019\n"
   ]
  },
  {
   "cell_type": "markdown",
   "metadata": {},
   "source": [
    "grid_param_svc = [\n",
    "#{\"C\" : [1,10,100,1000], \"kernel\":[\"linear\"]}, # kernel => activation function\n",
    "{\"C\" : [1,10,100,1000],\"kernel\":[\"sigmoid\"], \"gamma\":[0.001,0.01,0.1,1]}\n",
    "#{\"C\" : [1,10,100,1000],\"kernel\":[\"rbf\"], \"gamma\":[0.001,0.01,0.1,1]},\n",
    "#{\"C\" : [1,10,100,1000],\"kernel\":[\"poly\"], \"gamma\":[0.001,0.01,0.1,1]}    \n",
    "]"
   ]
  },
  {
   "cell_type": "code",
   "execution_count": 100,
   "metadata": {},
   "outputs": [
    {
     "name": "stdout",
     "output_type": "stream",
     "text": [
      "Fitting 5 folds for each of 16 candidates, totalling 80 fits\n"
     ]
    },
    {
     "name": "stderr",
     "output_type": "stream",
     "text": [
      "[Parallel(n_jobs=1)]: Using backend SequentialBackend with 1 concurrent workers.\n",
      "[Parallel(n_jobs=1)]: Done  80 out of  80 | elapsed: 78.3min finished\n"
     ]
    },
    {
     "name": "stdout",
     "output_type": "stream",
     "text": [
      "{'svc__C': 10, 'svc__gamma': 1, 'svc__kernel': 'sigmoid'} 0.9376026998321171\n"
     ]
    }
   ],
   "source": [
    "pipe_svc=Pipeline([\n",
    "    ('tfidf', tfidf),\n",
    "    ('svc', SVC(random_state=42))\n",
    "])\n",
    "\n",
    "\n",
    "grid_param_svc={\n",
    "    'svc__C':[1,10,100,1000],\n",
    "    'svc__kernel':['sigmoid'],\n",
    "    'svc__gamma':[0.001,0.01,0.1,1]\n",
    "    #'svc__max_iter':[500,1000,1500,2000]\n",
    "}\n",
    "kfold = KFold(n_splits=5, shuffle=True, random_state=42)\n",
    "\n",
    "grid_pipe_svc = GridSearchCV(pipe_svc, grid_param_svc, cv=kfold, scoring='accuracy', verbose=1)\n",
    "\n",
    "grid_pipe_svc.fit(X_train, y_train)\n",
    "print(grid_pipe_svc.best_params_, grid_pipe_svc.best_score_)"
   ]
  },
  {
   "cell_type": "code",
   "execution_count": 101,
   "metadata": {},
   "outputs": [
    {
     "name": "stdout",
     "output_type": "stream",
     "text": [
      "예측 정확도 : 0.947\n"
     ]
    }
   ],
   "source": [
    "pred_svc=grid_pipe_svc.predict(X_test)\n",
    "print(\"예측 정확도 : {0:.3f}\".format(accuracy_score(y_test,pred_svc)))"
   ]
  },
  {
   "cell_type": "code",
   "execution_count": null,
   "metadata": {},
   "outputs": [],
   "source": []
  },
  {
   "cell_type": "code",
   "execution_count": 102,
   "metadata": {},
   "outputs": [
    {
     "name": "stdout",
     "output_type": "stream",
     "text": [
      "Fitting 5 folds for each of 32 candidates, totalling 160 fits\n"
     ]
    },
    {
     "name": "stderr",
     "output_type": "stream",
     "text": [
      "[Parallel(n_jobs=1)]: Using backend SequentialBackend with 1 concurrent workers.\n",
      "C:\\Users\\user\\anaconda3\\lib\\site-packages\\sklearn\\model_selection\\_validation.py:548: FitFailedWarning: Estimator fit failed. The score on this train-test partition for these parameters will be set to nan. Details: \n",
      "Traceback (most recent call last):\n",
      "  File \"C:\\Users\\user\\anaconda3\\lib\\site-packages\\sklearn\\model_selection\\_validation.py\", line 531, in _fit_and_score\n",
      "    estimator.fit(X_train, y_train, **fit_params)\n",
      "  File \"C:\\Users\\user\\anaconda3\\lib\\site-packages\\sklearn\\pipeline.py\", line 335, in fit\n",
      "    self._final_estimator.fit(Xt, y, **fit_params_last_step)\n",
      "  File \"C:\\Users\\user\\anaconda3\\lib\\site-packages\\sklearn\\svm\\_classes.py\", line 233, in fit\n",
      "    self.coef_, self.intercept_, self.n_iter_ = _fit_liblinear(\n",
      "  File \"C:\\Users\\user\\anaconda3\\lib\\site-packages\\sklearn\\svm\\_base.py\", line 965, in _fit_liblinear\n",
      "    solver_type = _get_liblinear_solver_type(multi_class, penalty, loss, dual)\n",
      "  File \"C:\\Users\\user\\anaconda3\\lib\\site-packages\\sklearn\\svm\\_base.py\", line 821, in _get_liblinear_solver_type\n",
      "    raise ValueError('Unsupported set of arguments: %s, '\n",
      "ValueError: Unsupported set of arguments: The combination of penalty='l1' and loss='squared_hinge' are not supported when dual=True, Parameters: penalty='l1', loss='squared_hinge', dual=True\n",
      "\n",
      "  warnings.warn(\"Estimator fit failed. The score on this train-test\"\n",
      "C:\\Users\\user\\anaconda3\\lib\\site-packages\\sklearn\\svm\\_base.py:976: ConvergenceWarning: Liblinear failed to converge, increase the number of iterations.\n",
      "  warnings.warn(\"Liblinear failed to converge, increase \"\n",
      "[Parallel(n_jobs=1)]: Done 160 out of 160 | elapsed: 15.0min finished\n"
     ]
    },
    {
     "name": "stdout",
     "output_type": "stream",
     "text": [
      "{'svc__C': 1000, 'svc__max_iter': 500, 'svc__penalty': 'l2'} 0.9401959776612875\n"
     ]
    }
   ],
   "source": [
    "pipe_lisvc=Pipeline([\n",
    "    ('tfidf', tfidf),\n",
    "    ('svc', LinearSVC(random_state=42))\n",
    "])\n",
    "\n",
    "grid_param_lisvc={\n",
    "    'svc__C':[1,10,100,1000],\n",
    "    'svc__penalty':['l1', 'l2'],\n",
    "    'svc__max_iter':[500,1000,1500,2000]\n",
    "}\n",
    "\n",
    "grid_pipe_lisvc = GridSearchCV(pipe_lisvc, param_grid=grid_param_lisvc, cv=kfold, scoring='accuracy', verbose=1)\n",
    "grid_pipe_lisvc.fit(X_train, y_train)\n",
    "print(grid_pipe_lisvc.best_params_, grid_pipe_lisvc.best_score_)"
   ]
  },
  {
   "cell_type": "code",
   "execution_count": 103,
   "metadata": {},
   "outputs": [
    {
     "name": "stdout",
     "output_type": "stream",
     "text": [
      "예측 정확도 : 0.944\n"
     ]
    }
   ],
   "source": [
    "pred_lisvc=grid_pipe_lisvc.predict(X_test)\n",
    "print(\"예측 정확도 : {0:.3f}\".format(accuracy_score(y_test,pred_lisvc)))"
   ]
  },
  {
   "cell_type": "code",
   "execution_count": null,
   "metadata": {},
   "outputs": [],
   "source": []
  },
  {
   "cell_type": "code",
   "execution_count": 106,
   "metadata": {},
   "outputs": [
    {
     "data": {
      "text/plain": [
       "['./data/model/210220_01_grid_pipe_lisvc.pkl']"
      ]
     },
     "execution_count": 106,
     "metadata": {},
     "output_type": "execute_result"
    }
   ],
   "source": [
    "import joblib\n",
    "joblib.dump(grid_pipe_svc,'./data/model/210220_01_grid_pipe_svc.pkl')\n",
    "joblib.dump(grid_pipe_lisvc,'./data/model/210220_01_grid_pipe_lisvc.pkl')"
   ]
  },
  {
   "cell_type": "markdown",
   "metadata": {},
   "source": []
  },
  {
   "cell_type": "code",
   "execution_count": null,
   "metadata": {},
   "outputs": [],
   "source": []
  },
  {
   "cell_type": "code",
   "execution_count": 108,
   "metadata": {},
   "outputs": [
    {
     "name": "stderr",
     "output_type": "stream",
     "text": [
      "<ipython-input-108-c7905a4f2151>:12: TqdmDeprecationWarning: This function will be removed in tqdm==5.0.0\n",
      "Please use `tqdm.notebook.tqdm` instead of `tqdm.tqdm_notebook`\n",
      "  for ind in tqdm_notebook(train_col_list):\n"
     ]
    },
    {
     "data": {
      "application/vnd.jupyter.widget-view+json": {
       "model_id": "5cdbdf6263b347abaca8afa6d863dd7e",
       "version_major": 2,
       "version_minor": 0
      },
      "text/plain": [
       "HBox(children=(HTML(value=''), FloatProgress(value=0.0, max=7.0), HTML(value='')))"
      ]
     },
     "metadata": {},
     "output_type": "display_data"
    },
    {
     "name": "stderr",
     "output_type": "stream",
     "text": [
      "[Parallel(n_jobs=1)]: Using backend SequentialBackend with 1 concurrent workers.\n"
     ]
    },
    {
     "name": "stdout",
     "output_type": "stream",
     "text": [
      "Fitting 5 folds for each of 16 candidates, totalling 80 fits\n"
     ]
    },
    {
     "name": "stderr",
     "output_type": "stream",
     "text": [
      "[Parallel(n_jobs=1)]: Done  80 out of  80 | elapsed: 39.4min finished\n"
     ]
    },
    {
     "name": "stdout",
     "output_type": "stream",
     "text": [
      "Fitting 5 folds for each of 32 candidates, totalling 160 fits\n"
     ]
    },
    {
     "name": "stderr",
     "output_type": "stream",
     "text": [
      "[Parallel(n_jobs=1)]: Using backend SequentialBackend with 1 concurrent workers.\n",
      "C:\\Users\\user\\anaconda3\\lib\\site-packages\\sklearn\\model_selection\\_validation.py:548: FitFailedWarning: Estimator fit failed. The score on this train-test partition for these parameters will be set to nan. Details: \n",
      "Traceback (most recent call last):\n",
      "  File \"C:\\Users\\user\\anaconda3\\lib\\site-packages\\sklearn\\model_selection\\_validation.py\", line 531, in _fit_and_score\n",
      "    estimator.fit(X_train, y_train, **fit_params)\n",
      "  File \"C:\\Users\\user\\anaconda3\\lib\\site-packages\\sklearn\\pipeline.py\", line 335, in fit\n",
      "    self._final_estimator.fit(Xt, y, **fit_params_last_step)\n",
      "  File \"C:\\Users\\user\\anaconda3\\lib\\site-packages\\sklearn\\svm\\_classes.py\", line 233, in fit\n",
      "    self.coef_, self.intercept_, self.n_iter_ = _fit_liblinear(\n",
      "  File \"C:\\Users\\user\\anaconda3\\lib\\site-packages\\sklearn\\svm\\_base.py\", line 965, in _fit_liblinear\n",
      "    solver_type = _get_liblinear_solver_type(multi_class, penalty, loss, dual)\n",
      "  File \"C:\\Users\\user\\anaconda3\\lib\\site-packages\\sklearn\\svm\\_base.py\", line 821, in _get_liblinear_solver_type\n",
      "    raise ValueError('Unsupported set of arguments: %s, '\n",
      "ValueError: Unsupported set of arguments: The combination of penalty='l1' and loss='squared_hinge' are not supported when dual=True, Parameters: penalty='l1', loss='squared_hinge', dual=True\n",
      "\n",
      "  warnings.warn(\"Estimator fit failed. The score on this train-test\"\n",
      "C:\\Users\\user\\anaconda3\\lib\\site-packages\\sklearn\\svm\\_base.py:976: ConvergenceWarning: Liblinear failed to converge, increase the number of iterations.\n",
      "  warnings.warn(\"Liblinear failed to converge, increase \"\n",
      "[Parallel(n_jobs=1)]: Done 160 out of 160 | elapsed:  8.6min finished\n"
     ]
    },
    {
     "name": "stdout",
     "output_type": "stream",
     "text": [
      "==============X_train data :  연구_okt ==============\n",
      "###SVC_94###\n",
      "Accuracy Score : 0.909\n",
      "Classification Report\n",
      "              precision    recall  f1-score   support\n",
      "\n",
      "           0       0.92      0.98      0.95      1210\n",
      "           1       0.88      0.67      0.76       189\n",
      "           2       0.00      0.00      0.00         1\n",
      "           3       0.00      0.00      0.00         3\n",
      "           4       1.00      0.89      0.94        18\n",
      "           5       0.86      0.84      0.85       371\n",
      "           6       1.00      0.22      0.36         9\n",
      "\n",
      "    accuracy                           0.91      1801\n",
      "   macro avg       0.67      0.51      0.55      1801\n",
      "weighted avg       0.91      0.91      0.90      1801\n",
      "\n",
      "###liSVC_94###\n",
      "Accuracy Score : 0.904\n",
      "Classification Report\n",
      "              precision    recall  f1-score   support\n",
      "\n",
      "           0       0.92      0.98      0.95      1210\n",
      "           1       0.86      0.65      0.74       189\n",
      "           2       0.00      0.00      0.00         1\n",
      "           3       1.00      0.33      0.50         3\n",
      "           4       1.00      0.83      0.91        18\n",
      "           5       0.85      0.82      0.84       371\n",
      "           6       1.00      0.44      0.62         9\n",
      "\n",
      "    accuracy                           0.90      1801\n",
      "   macro avg       0.80      0.58      0.65      1801\n",
      "weighted avg       0.90      0.90      0.90      1801\n",
      "\n",
      "Fitting 5 folds for each of 16 candidates, totalling 80 fits\n"
     ]
    },
    {
     "name": "stderr",
     "output_type": "stream",
     "text": [
      "C:\\Users\\user\\anaconda3\\lib\\site-packages\\sklearn\\metrics\\_classification.py:1221: UndefinedMetricWarning: Precision and F-score are ill-defined and being set to 0.0 in labels with no predicted samples. Use `zero_division` parameter to control this behavior.\n",
      "  _warn_prf(average, modifier, msg_start, len(result))\n",
      "[Parallel(n_jobs=1)]: Using backend SequentialBackend with 1 concurrent workers.\n",
      "[Parallel(n_jobs=1)]: Done  80 out of  80 | elapsed: 39.7min finished\n"
     ]
    },
    {
     "name": "stdout",
     "output_type": "stream",
     "text": [
      "Fitting 5 folds for each of 32 candidates, totalling 160 fits\n"
     ]
    },
    {
     "name": "stderr",
     "output_type": "stream",
     "text": [
      "[Parallel(n_jobs=1)]: Using backend SequentialBackend with 1 concurrent workers.\n",
      "C:\\Users\\user\\anaconda3\\lib\\site-packages\\sklearn\\model_selection\\_validation.py:548: FitFailedWarning: Estimator fit failed. The score on this train-test partition for these parameters will be set to nan. Details: \n",
      "Traceback (most recent call last):\n",
      "  File \"C:\\Users\\user\\anaconda3\\lib\\site-packages\\sklearn\\model_selection\\_validation.py\", line 531, in _fit_and_score\n",
      "    estimator.fit(X_train, y_train, **fit_params)\n",
      "  File \"C:\\Users\\user\\anaconda3\\lib\\site-packages\\sklearn\\pipeline.py\", line 335, in fit\n",
      "    self._final_estimator.fit(Xt, y, **fit_params_last_step)\n",
      "  File \"C:\\Users\\user\\anaconda3\\lib\\site-packages\\sklearn\\svm\\_classes.py\", line 233, in fit\n",
      "    self.coef_, self.intercept_, self.n_iter_ = _fit_liblinear(\n",
      "  File \"C:\\Users\\user\\anaconda3\\lib\\site-packages\\sklearn\\svm\\_base.py\", line 965, in _fit_liblinear\n",
      "    solver_type = _get_liblinear_solver_type(multi_class, penalty, loss, dual)\n",
      "  File \"C:\\Users\\user\\anaconda3\\lib\\site-packages\\sklearn\\svm\\_base.py\", line 821, in _get_liblinear_solver_type\n",
      "    raise ValueError('Unsupported set of arguments: %s, '\n",
      "ValueError: Unsupported set of arguments: The combination of penalty='l1' and loss='squared_hinge' are not supported when dual=True, Parameters: penalty='l1', loss='squared_hinge', dual=True\n",
      "\n",
      "  warnings.warn(\"Estimator fit failed. The score on this train-test\"\n",
      "C:\\Users\\user\\anaconda3\\lib\\site-packages\\sklearn\\svm\\_base.py:976: ConvergenceWarning: Liblinear failed to converge, increase the number of iterations.\n",
      "  warnings.warn(\"Liblinear failed to converge, increase \"\n",
      "[Parallel(n_jobs=1)]: Done 160 out of 160 | elapsed: 10.3min finished\n"
     ]
    },
    {
     "name": "stdout",
     "output_type": "stream",
     "text": [
      "==============X_train data :  연구_hannanum ==============\n",
      "###SVC_94###\n",
      "Accuracy Score : 0.936\n",
      "Classification Report\n",
      "              precision    recall  f1-score   support\n",
      "\n",
      "           0       0.96      0.99      0.98      1210\n",
      "           1       0.85      0.73      0.78       189\n",
      "           2       0.00      0.00      0.00         1\n",
      "           3       1.00      0.33      0.50         3\n",
      "           4       1.00      0.78      0.88        18\n",
      "           5       0.89      0.89      0.89       371\n",
      "           6       1.00      0.33      0.50         9\n",
      "\n",
      "    accuracy                           0.94      1801\n",
      "   macro avg       0.81      0.58      0.65      1801\n",
      "weighted avg       0.93      0.94      0.93      1801\n",
      "\n",
      "###liSVC_94###\n",
      "Accuracy Score : 0.936\n",
      "Classification Report\n",
      "              precision    recall  f1-score   support\n",
      "\n",
      "           0       0.96      0.99      0.98      1210\n",
      "           1       0.85      0.69      0.76       189\n",
      "           2       0.00      0.00      0.00         1\n",
      "           3       1.00      0.33      0.50         3\n",
      "           4       0.95      1.00      0.97        18\n",
      "           5       0.88      0.90      0.89       371\n",
      "           6       1.00      0.33      0.50         9\n",
      "\n",
      "    accuracy                           0.94      1801\n",
      "   macro avg       0.81      0.61      0.66      1801\n",
      "weighted avg       0.93      0.94      0.93      1801\n",
      "\n",
      "Fitting 5 folds for each of 16 candidates, totalling 80 fits\n"
     ]
    },
    {
     "name": "stderr",
     "output_type": "stream",
     "text": [
      "C:\\Users\\user\\anaconda3\\lib\\site-packages\\sklearn\\metrics\\_classification.py:1221: UndefinedMetricWarning: Precision and F-score are ill-defined and being set to 0.0 in labels with no predicted samples. Use `zero_division` parameter to control this behavior.\n",
      "  _warn_prf(average, modifier, msg_start, len(result))\n",
      "[Parallel(n_jobs=1)]: Using backend SequentialBackend with 1 concurrent workers.\n",
      "[Parallel(n_jobs=1)]: Done  80 out of  80 | elapsed: 30.0min finished\n"
     ]
    },
    {
     "name": "stdout",
     "output_type": "stream",
     "text": [
      "Fitting 5 folds for each of 32 candidates, totalling 160 fits\n"
     ]
    },
    {
     "name": "stderr",
     "output_type": "stream",
     "text": [
      "[Parallel(n_jobs=1)]: Using backend SequentialBackend with 1 concurrent workers.\n",
      "C:\\Users\\user\\anaconda3\\lib\\site-packages\\sklearn\\model_selection\\_validation.py:548: FitFailedWarning: Estimator fit failed. The score on this train-test partition for these parameters will be set to nan. Details: \n",
      "Traceback (most recent call last):\n",
      "  File \"C:\\Users\\user\\anaconda3\\lib\\site-packages\\sklearn\\model_selection\\_validation.py\", line 531, in _fit_and_score\n",
      "    estimator.fit(X_train, y_train, **fit_params)\n",
      "  File \"C:\\Users\\user\\anaconda3\\lib\\site-packages\\sklearn\\pipeline.py\", line 335, in fit\n",
      "    self._final_estimator.fit(Xt, y, **fit_params_last_step)\n",
      "  File \"C:\\Users\\user\\anaconda3\\lib\\site-packages\\sklearn\\svm\\_classes.py\", line 233, in fit\n",
      "    self.coef_, self.intercept_, self.n_iter_ = _fit_liblinear(\n",
      "  File \"C:\\Users\\user\\anaconda3\\lib\\site-packages\\sklearn\\svm\\_base.py\", line 965, in _fit_liblinear\n",
      "    solver_type = _get_liblinear_solver_type(multi_class, penalty, loss, dual)\n",
      "  File \"C:\\Users\\user\\anaconda3\\lib\\site-packages\\sklearn\\svm\\_base.py\", line 821, in _get_liblinear_solver_type\n",
      "    raise ValueError('Unsupported set of arguments: %s, '\n",
      "ValueError: Unsupported set of arguments: The combination of penalty='l1' and loss='squared_hinge' are not supported when dual=True, Parameters: penalty='l1', loss='squared_hinge', dual=True\n",
      "\n",
      "  warnings.warn(\"Estimator fit failed. The score on this train-test\"\n",
      "C:\\Users\\user\\anaconda3\\lib\\site-packages\\sklearn\\svm\\_base.py:976: ConvergenceWarning: Liblinear failed to converge, increase the number of iterations.\n",
      "  warnings.warn(\"Liblinear failed to converge, increase \"\n",
      "[Parallel(n_jobs=1)]: Done 160 out of 160 | elapsed:  7.3min finished\n"
     ]
    },
    {
     "name": "stdout",
     "output_type": "stream",
     "text": [
      "==============X_train data :  연구_krwordrank ==============\n",
      "###SVC_94###\n",
      "Accuracy Score : 0.896\n",
      "Classification Report\n",
      "              precision    recall  f1-score   support\n",
      "\n",
      "           0       0.92      0.98      0.95      1210\n",
      "           1       0.81      0.62      0.70       189\n",
      "           2       0.00      0.00      0.00         1\n",
      "           3       0.00      0.00      0.00         3\n",
      "           4       1.00      0.83      0.91        18\n",
      "           5       0.85      0.80      0.82       371\n",
      "           6       1.00      0.33      0.50         9\n",
      "\n",
      "    accuracy                           0.90      1801\n",
      "   macro avg       0.65      0.51      0.55      1801\n",
      "weighted avg       0.89      0.90      0.89      1801\n",
      "\n",
      "###liSVC_94###\n",
      "Accuracy Score : 0.901\n",
      "Classification Report\n",
      "              precision    recall  f1-score   support\n",
      "\n",
      "           0       0.93      0.98      0.95      1210\n",
      "           1       0.80      0.62      0.70       189\n",
      "           2       0.00      0.00      0.00         1\n",
      "           3       0.00      0.00      0.00         3\n",
      "           4       1.00      0.89      0.94        18\n",
      "           5       0.85      0.81      0.83       371\n",
      "           6       1.00      0.33      0.50         9\n",
      "\n",
      "    accuracy                           0.90      1801\n",
      "   macro avg       0.65      0.52      0.56      1801\n",
      "weighted avg       0.90      0.90      0.90      1801\n",
      "\n",
      "Fitting 5 folds for each of 16 candidates, totalling 80 fits\n"
     ]
    },
    {
     "name": "stderr",
     "output_type": "stream",
     "text": [
      "C:\\Users\\user\\anaconda3\\lib\\site-packages\\sklearn\\metrics\\_classification.py:1221: UndefinedMetricWarning: Precision and F-score are ill-defined and being set to 0.0 in labels with no predicted samples. Use `zero_division` parameter to control this behavior.\n",
      "  _warn_prf(average, modifier, msg_start, len(result))\n",
      "[Parallel(n_jobs=1)]: Using backend SequentialBackend with 1 concurrent workers.\n",
      "[Parallel(n_jobs=1)]: Done  80 out of  80 | elapsed: 39.4min finished\n"
     ]
    },
    {
     "name": "stdout",
     "output_type": "stream",
     "text": [
      "Fitting 5 folds for each of 32 candidates, totalling 160 fits\n"
     ]
    },
    {
     "name": "stderr",
     "output_type": "stream",
     "text": [
      "[Parallel(n_jobs=1)]: Using backend SequentialBackend with 1 concurrent workers.\n",
      "C:\\Users\\user\\anaconda3\\lib\\site-packages\\sklearn\\model_selection\\_validation.py:548: FitFailedWarning: Estimator fit failed. The score on this train-test partition for these parameters will be set to nan. Details: \n",
      "Traceback (most recent call last):\n",
      "  File \"C:\\Users\\user\\anaconda3\\lib\\site-packages\\sklearn\\model_selection\\_validation.py\", line 531, in _fit_and_score\n",
      "    estimator.fit(X_train, y_train, **fit_params)\n",
      "  File \"C:\\Users\\user\\anaconda3\\lib\\site-packages\\sklearn\\pipeline.py\", line 335, in fit\n",
      "    self._final_estimator.fit(Xt, y, **fit_params_last_step)\n",
      "  File \"C:\\Users\\user\\anaconda3\\lib\\site-packages\\sklearn\\svm\\_classes.py\", line 233, in fit\n",
      "    self.coef_, self.intercept_, self.n_iter_ = _fit_liblinear(\n",
      "  File \"C:\\Users\\user\\anaconda3\\lib\\site-packages\\sklearn\\svm\\_base.py\", line 965, in _fit_liblinear\n",
      "    solver_type = _get_liblinear_solver_type(multi_class, penalty, loss, dual)\n",
      "  File \"C:\\Users\\user\\anaconda3\\lib\\site-packages\\sklearn\\svm\\_base.py\", line 821, in _get_liblinear_solver_type\n",
      "    raise ValueError('Unsupported set of arguments: %s, '\n",
      "ValueError: Unsupported set of arguments: The combination of penalty='l1' and loss='squared_hinge' are not supported when dual=True, Parameters: penalty='l1', loss='squared_hinge', dual=True\n",
      "\n",
      "  warnings.warn(\"Estimator fit failed. The score on this train-test\"\n",
      "C:\\Users\\user\\anaconda3\\lib\\site-packages\\sklearn\\svm\\_base.py:976: ConvergenceWarning: Liblinear failed to converge, increase the number of iterations.\n",
      "  warnings.warn(\"Liblinear failed to converge, increase \"\n",
      "[Parallel(n_jobs=1)]: Done 160 out of 160 | elapsed:  8.3min finished\n"
     ]
    },
    {
     "name": "stdout",
     "output_type": "stream",
     "text": [
      "==============X_train data :  연구_kkma ==============\n",
      "###SVC_94###\n",
      "Accuracy Score : 0.883\n",
      "Classification Report\n",
      "              precision    recall  f1-score   support\n",
      "\n",
      "           0       0.89      0.97      0.93      1210\n",
      "           1       0.87      0.60      0.71       189\n",
      "           2       0.00      0.00      0.00         1\n",
      "           3       0.00      0.00      0.00         3\n",
      "           4       1.00      0.89      0.94        18\n",
      "           5       0.84      0.78      0.81       371\n",
      "           6       1.00      0.33      0.50         9\n",
      "\n",
      "    accuracy                           0.88      1801\n",
      "   macro avg       0.66      0.51      0.56      1801\n",
      "weighted avg       0.88      0.88      0.88      1801\n",
      "\n",
      "###liSVC_94###\n",
      "Accuracy Score : 0.879\n",
      "Classification Report\n",
      "              precision    recall  f1-score   support\n",
      "\n",
      "           0       0.90      0.96      0.93      1210\n",
      "           1       0.86      0.62      0.72       189\n",
      "           2       0.00      0.00      0.00         1\n",
      "           3       0.00      0.00      0.00         3\n",
      "           4       0.94      0.94      0.94        18\n",
      "           5       0.80      0.78      0.79       371\n",
      "           6       1.00      0.33      0.50         9\n",
      "\n",
      "    accuracy                           0.88      1801\n",
      "   macro avg       0.64      0.52      0.55      1801\n",
      "weighted avg       0.88      0.88      0.87      1801\n",
      "\n",
      "Fitting 5 folds for each of 16 candidates, totalling 80 fits\n"
     ]
    },
    {
     "name": "stderr",
     "output_type": "stream",
     "text": [
      "C:\\Users\\user\\anaconda3\\lib\\site-packages\\sklearn\\metrics\\_classification.py:1221: UndefinedMetricWarning: Precision and F-score are ill-defined and being set to 0.0 in labels with no predicted samples. Use `zero_division` parameter to control this behavior.\n",
      "  _warn_prf(average, modifier, msg_start, len(result))\n",
      "[Parallel(n_jobs=1)]: Using backend SequentialBackend with 1 concurrent workers.\n",
      "[Parallel(n_jobs=1)]: Done  80 out of  80 | elapsed: 26.2min finished\n"
     ]
    },
    {
     "name": "stdout",
     "output_type": "stream",
     "text": [
      "Fitting 5 folds for each of 32 candidates, totalling 160 fits\n"
     ]
    },
    {
     "name": "stderr",
     "output_type": "stream",
     "text": [
      "[Parallel(n_jobs=1)]: Using backend SequentialBackend with 1 concurrent workers.\n",
      "C:\\Users\\user\\anaconda3\\lib\\site-packages\\sklearn\\model_selection\\_validation.py:548: FitFailedWarning: Estimator fit failed. The score on this train-test partition for these parameters will be set to nan. Details: \n",
      "Traceback (most recent call last):\n",
      "  File \"C:\\Users\\user\\anaconda3\\lib\\site-packages\\sklearn\\model_selection\\_validation.py\", line 531, in _fit_and_score\n",
      "    estimator.fit(X_train, y_train, **fit_params)\n",
      "  File \"C:\\Users\\user\\anaconda3\\lib\\site-packages\\sklearn\\pipeline.py\", line 335, in fit\n",
      "    self._final_estimator.fit(Xt, y, **fit_params_last_step)\n",
      "  File \"C:\\Users\\user\\anaconda3\\lib\\site-packages\\sklearn\\svm\\_classes.py\", line 233, in fit\n",
      "    self.coef_, self.intercept_, self.n_iter_ = _fit_liblinear(\n",
      "  File \"C:\\Users\\user\\anaconda3\\lib\\site-packages\\sklearn\\svm\\_base.py\", line 965, in _fit_liblinear\n",
      "    solver_type = _get_liblinear_solver_type(multi_class, penalty, loss, dual)\n",
      "  File \"C:\\Users\\user\\anaconda3\\lib\\site-packages\\sklearn\\svm\\_base.py\", line 821, in _get_liblinear_solver_type\n",
      "    raise ValueError('Unsupported set of arguments: %s, '\n",
      "ValueError: Unsupported set of arguments: The combination of penalty='l1' and loss='squared_hinge' are not supported when dual=True, Parameters: penalty='l1', loss='squared_hinge', dual=True\n",
      "\n",
      "  warnings.warn(\"Estimator fit failed. The score on this train-test\"\n",
      "C:\\Users\\user\\anaconda3\\lib\\site-packages\\sklearn\\svm\\_base.py:976: ConvergenceWarning: Liblinear failed to converge, increase the number of iterations.\n",
      "  warnings.warn(\"Liblinear failed to converge, increase \"\n",
      "[Parallel(n_jobs=1)]: Done 160 out of 160 | elapsed:  5.7min finished\n"
     ]
    },
    {
     "name": "stdout",
     "output_type": "stream",
     "text": [
      "==============X_train data :  krwr_okt ==============\n",
      "###SVC_94###\n",
      "Accuracy Score : 0.858\n",
      "Classification Report\n",
      "              precision    recall  f1-score   support\n",
      "\n",
      "           0       0.88      0.95      0.92      1210\n",
      "           1       0.78      0.54      0.64       189\n",
      "           2       0.00      0.00      0.00         1\n",
      "           3       0.00      0.00      0.00         3\n",
      "           4       1.00      0.89      0.94        18\n",
      "           5       0.80      0.73      0.76       371\n",
      "           6       1.00      0.22      0.36         9\n",
      "\n",
      "    accuracy                           0.86      1801\n",
      "   macro avg       0.64      0.48      0.52      1801\n",
      "weighted avg       0.85      0.86      0.85      1801\n",
      "\n",
      "###liSVC_94###\n",
      "Accuracy Score : 0.862\n",
      "Classification Report\n",
      "              precision    recall  f1-score   support\n",
      "\n",
      "           0       0.87      0.97      0.92      1210\n",
      "           1       0.86      0.50      0.63       189\n",
      "           2       0.00      0.00      0.00         1\n",
      "           3       0.00      0.00      0.00         3\n",
      "           4       1.00      0.83      0.91        18\n",
      "           5       0.83      0.72      0.77       371\n",
      "           6       1.00      0.33      0.50         9\n",
      "\n",
      "    accuracy                           0.86      1801\n",
      "   macro avg       0.65      0.48      0.53      1801\n",
      "weighted avg       0.86      0.86      0.85      1801\n",
      "\n",
      "Fitting 5 folds for each of 16 candidates, totalling 80 fits\n"
     ]
    },
    {
     "name": "stderr",
     "output_type": "stream",
     "text": [
      "C:\\Users\\user\\anaconda3\\lib\\site-packages\\sklearn\\metrics\\_classification.py:1221: UndefinedMetricWarning: Precision and F-score are ill-defined and being set to 0.0 in labels with no predicted samples. Use `zero_division` parameter to control this behavior.\n",
      "  _warn_prf(average, modifier, msg_start, len(result))\n",
      "[Parallel(n_jobs=1)]: Using backend SequentialBackend with 1 concurrent workers.\n",
      "[Parallel(n_jobs=1)]: Done  80 out of  80 | elapsed: 24.1min finished\n"
     ]
    },
    {
     "name": "stdout",
     "output_type": "stream",
     "text": [
      "Fitting 5 folds for each of 32 candidates, totalling 160 fits\n"
     ]
    },
    {
     "name": "stderr",
     "output_type": "stream",
     "text": [
      "[Parallel(n_jobs=1)]: Using backend SequentialBackend with 1 concurrent workers.\n",
      "C:\\Users\\user\\anaconda3\\lib\\site-packages\\sklearn\\model_selection\\_validation.py:548: FitFailedWarning: Estimator fit failed. The score on this train-test partition for these parameters will be set to nan. Details: \n",
      "Traceback (most recent call last):\n",
      "  File \"C:\\Users\\user\\anaconda3\\lib\\site-packages\\sklearn\\model_selection\\_validation.py\", line 531, in _fit_and_score\n",
      "    estimator.fit(X_train, y_train, **fit_params)\n",
      "  File \"C:\\Users\\user\\anaconda3\\lib\\site-packages\\sklearn\\pipeline.py\", line 335, in fit\n",
      "    self._final_estimator.fit(Xt, y, **fit_params_last_step)\n",
      "  File \"C:\\Users\\user\\anaconda3\\lib\\site-packages\\sklearn\\svm\\_classes.py\", line 233, in fit\n",
      "    self.coef_, self.intercept_, self.n_iter_ = _fit_liblinear(\n",
      "  File \"C:\\Users\\user\\anaconda3\\lib\\site-packages\\sklearn\\svm\\_base.py\", line 965, in _fit_liblinear\n",
      "    solver_type = _get_liblinear_solver_type(multi_class, penalty, loss, dual)\n",
      "  File \"C:\\Users\\user\\anaconda3\\lib\\site-packages\\sklearn\\svm\\_base.py\", line 821, in _get_liblinear_solver_type\n",
      "    raise ValueError('Unsupported set of arguments: %s, '\n",
      "ValueError: Unsupported set of arguments: The combination of penalty='l1' and loss='squared_hinge' are not supported when dual=True, Parameters: penalty='l1', loss='squared_hinge', dual=True\n",
      "\n",
      "  warnings.warn(\"Estimator fit failed. The score on this train-test\"\n",
      "C:\\Users\\user\\anaconda3\\lib\\site-packages\\sklearn\\svm\\_base.py:976: ConvergenceWarning: Liblinear failed to converge, increase the number of iterations.\n",
      "  warnings.warn(\"Liblinear failed to converge, increase \"\n",
      "[Parallel(n_jobs=1)]: Done 160 out of 160 | elapsed:  5.8min finished\n"
     ]
    },
    {
     "name": "stdout",
     "output_type": "stream",
     "text": [
      "==============X_train data :  krwr_han ==============\n",
      "###SVC_94###\n",
      "Accuracy Score : 0.893\n",
      "Classification Report\n",
      "              precision    recall  f1-score   support\n",
      "\n",
      "           0       0.92      0.97      0.94      1210\n",
      "           1       0.80      0.61      0.69       189\n",
      "           2       0.00      0.00      0.00         1\n",
      "           3       0.00      0.00      0.00         3\n",
      "           4       1.00      0.89      0.94        18\n",
      "           5       0.83      0.81      0.82       371\n",
      "           6       1.00      0.22      0.36         9\n",
      "\n",
      "    accuracy                           0.89      1801\n",
      "   macro avg       0.65      0.50      0.54      1801\n",
      "weighted avg       0.89      0.89      0.89      1801\n",
      "\n",
      "###liSVC_94###\n",
      "Accuracy Score : 0.901\n",
      "Classification Report\n",
      "              precision    recall  f1-score   support\n",
      "\n",
      "           0       0.93      0.98      0.95      1210\n",
      "           1       0.80      0.62      0.70       189\n",
      "           2       0.00      0.00      0.00         1\n",
      "           3       0.00      0.00      0.00         3\n",
      "           4       0.94      0.89      0.91        18\n",
      "           5       0.84      0.82      0.83       371\n",
      "           6       1.00      0.22      0.36         9\n",
      "\n",
      "    accuracy                           0.90      1801\n",
      "   macro avg       0.64      0.50      0.54      1801\n",
      "weighted avg       0.90      0.90      0.90      1801\n",
      "\n",
      "Fitting 5 folds for each of 16 candidates, totalling 80 fits\n"
     ]
    },
    {
     "name": "stderr",
     "output_type": "stream",
     "text": [
      "C:\\Users\\user\\anaconda3\\lib\\site-packages\\sklearn\\metrics\\_classification.py:1221: UndefinedMetricWarning: Precision and F-score are ill-defined and being set to 0.0 in labels with no predicted samples. Use `zero_division` parameter to control this behavior.\n",
      "  _warn_prf(average, modifier, msg_start, len(result))\n",
      "[Parallel(n_jobs=1)]: Using backend SequentialBackend with 1 concurrent workers.\n",
      "[Parallel(n_jobs=1)]: Done  80 out of  80 | elapsed: 60.1min finished\n"
     ]
    },
    {
     "name": "stdout",
     "output_type": "stream",
     "text": [
      "Fitting 5 folds for each of 32 candidates, totalling 160 fits\n"
     ]
    },
    {
     "name": "stderr",
     "output_type": "stream",
     "text": [
      "[Parallel(n_jobs=1)]: Using backend SequentialBackend with 1 concurrent workers.\n",
      "C:\\Users\\user\\anaconda3\\lib\\site-packages\\sklearn\\model_selection\\_validation.py:548: FitFailedWarning: Estimator fit failed. The score on this train-test partition for these parameters will be set to nan. Details: \n",
      "Traceback (most recent call last):\n",
      "  File \"C:\\Users\\user\\anaconda3\\lib\\site-packages\\sklearn\\model_selection\\_validation.py\", line 531, in _fit_and_score\n",
      "    estimator.fit(X_train, y_train, **fit_params)\n",
      "  File \"C:\\Users\\user\\anaconda3\\lib\\site-packages\\sklearn\\pipeline.py\", line 335, in fit\n",
      "    self._final_estimator.fit(Xt, y, **fit_params_last_step)\n",
      "  File \"C:\\Users\\user\\anaconda3\\lib\\site-packages\\sklearn\\svm\\_classes.py\", line 233, in fit\n",
      "    self.coef_, self.intercept_, self.n_iter_ = _fit_liblinear(\n",
      "  File \"C:\\Users\\user\\anaconda3\\lib\\site-packages\\sklearn\\svm\\_base.py\", line 965, in _fit_liblinear\n",
      "    solver_type = _get_liblinear_solver_type(multi_class, penalty, loss, dual)\n",
      "  File \"C:\\Users\\user\\anaconda3\\lib\\site-packages\\sklearn\\svm\\_base.py\", line 821, in _get_liblinear_solver_type\n",
      "    raise ValueError('Unsupported set of arguments: %s, '\n",
      "ValueError: Unsupported set of arguments: The combination of penalty='l1' and loss='squared_hinge' are not supported when dual=True, Parameters: penalty='l1', loss='squared_hinge', dual=True\n",
      "\n",
      "  warnings.warn(\"Estimator fit failed. The score on this train-test\"\n",
      "C:\\Users\\user\\anaconda3\\lib\\site-packages\\sklearn\\svm\\_base.py:976: ConvergenceWarning: Liblinear failed to converge, increase the number of iterations.\n",
      "  warnings.warn(\"Liblinear failed to converge, increase \"\n",
      "[Parallel(n_jobs=1)]: Done 160 out of 160 | elapsed: 15.2min finished\n"
     ]
    },
    {
     "name": "stdout",
     "output_type": "stream",
     "text": [
      "==============X_train data :  all_word ==============\n",
      "###SVC_94###\n",
      "Accuracy Score : 0.947\n",
      "Classification Report\n",
      "              precision    recall  f1-score   support\n",
      "\n",
      "           0       0.97      0.99      0.98      1210\n",
      "           1       0.88      0.76      0.81       189\n",
      "           2       0.00      0.00      0.00         1\n",
      "           3       0.00      0.00      0.00         3\n",
      "           4       1.00      1.00      1.00        18\n",
      "           5       0.91      0.92      0.92       371\n",
      "           6       1.00      0.22      0.36         9\n",
      "\n",
      "    accuracy                           0.95      1801\n",
      "   macro avg       0.68      0.56      0.58      1801\n",
      "weighted avg       0.94      0.95      0.94      1801\n",
      "\n",
      "###liSVC_94###\n",
      "Accuracy Score : 0.944\n",
      "Classification Report\n",
      "              precision    recall  f1-score   support\n",
      "\n",
      "           0       0.96      0.99      0.98      1210\n",
      "           1       0.88      0.74      0.80       189\n",
      "           2       0.00      0.00      0.00         1\n",
      "           3       0.00      0.00      0.00         3\n",
      "           4       1.00      1.00      1.00        18\n",
      "           5       0.90      0.92      0.91       371\n",
      "           6       1.00      0.33      0.50         9\n",
      "\n",
      "    accuracy                           0.94      1801\n",
      "   macro avg       0.68      0.57      0.60      1801\n",
      "weighted avg       0.94      0.94      0.94      1801\n",
      "\n",
      "\n"
     ]
    },
    {
     "name": "stderr",
     "output_type": "stream",
     "text": [
      "C:\\Users\\user\\anaconda3\\lib\\site-packages\\sklearn\\metrics\\_classification.py:1221: UndefinedMetricWarning: Precision and F-score are ill-defined and being set to 0.0 in labels with no predicted samples. Use `zero_division` parameter to control this behavior.\n",
      "  _warn_prf(average, modifier, msg_start, len(result))\n"
     ]
    }
   ],
   "source": [
    "train_col_list = [ '연구_okt', '연구_hannanum', '연구_krwordrank', '연구_kkma', 'krwr_okt', 'krwr_han','all_word']\n",
    "\n",
    "svc_94_best_params=[]\n",
    "svc_94_best_score=[]\n",
    "svc_94_accuracy=[]\n",
    "\n",
    "lisvc_94_best_params=[]\n",
    "lisvc_94_best_score=[]\n",
    "lisvc_94_accuracy=[]\n",
    "\n",
    "\n",
    "for ind in tqdm_notebook(train_col_list):    \n",
    "    X_train, X_test, y_train, y_test = train_test_split(company[ind], company.category,\\\n",
    "                                                    shuffle=True, random_state=1, \\\n",
    "                                                    stratify = company.category)\n",
    "    ####SVC_94####\n",
    "    #fit\n",
    "    grid_pipe_svc.fit(X_train, y_train)\n",
    "    svc_94_best_params.append(grid_pipe_svc.best_params_)\n",
    "    svc_94_best_score.append(np.round(grid_pipe_svc.best_score_,3))\n",
    "    #predict\n",
    "    pred_svc=grid_pipe_svc.predict(X_test)\n",
    "    \n",
    "    \n",
    "    ####liSVC_94####\n",
    "    #fit\n",
    "    grid_pipe_lisvc.fit(X_train, y_train)\n",
    "    lisvc_94_best_params.append(grid_pipe_lisvc.best_params_)\n",
    "    lisvc_94_best_score.append(np.round(grid_pipe_lisvc.best_score_,3))\n",
    "    #predict\n",
    "    pred_lisvc=grid_pipe_lisvc.predict(X_test)\n",
    "        \n",
    "    #정확도\n",
    "    accuracy_svc=np.round(accuracy_score(pred_svc, y_test),3)\n",
    "    accuracy_lisvc=np.round(accuracy_score(pred_lisvc, y_test),3)\n",
    "    \n",
    "    #리스트에 정확도 저장\n",
    "    svc_94_accuracy.append(accuracy_svc)\n",
    "    lisvc_94_accuracy.append(accuracy_lisvc)\n",
    "    \n",
    "    print('==============X_train data : ', ind, '==============')\n",
    "    print('###SVC_94###')\n",
    "    print(\"Accuracy Score : {0:.3f}\".format(accuracy_svc))\n",
    "    print('Classification Report')\n",
    "    print(classification_report(y_test, pred_svc))\n",
    "    \n",
    "    print('###liSVC_94###')\n",
    "    print(\"Accuracy Score : {0:.3f}\".format(accuracy_lisvc))\n",
    "    print('Classification Report')\n",
    "    print(classification_report(y_test, pred_lisvc))\n",
    "\n",
    "\n",
    "#######model Prediction 결과#########\n",
    "col_name=['svc_94_best_params', 'svc_94_best_score', 'svc_94_accuracy','lisvc_94_best_params',\n",
    "          'lisvc_94_best_score','lisvc_94_accuracy']\n",
    "pred_df=pd.DataFrame({col_name[0]:svc_94_best_params,\n",
    "                      col_name[1]:svc_94_best_score,\n",
    "                      col_name[2]:svc_94_accuracy,\n",
    "                      col_name[3]:lisvc_94_best_params,\n",
    "                      col_name[4]:lisvc_94_best_score,\n",
    "                      col_name[5]:lisvc_94_accuracy},\n",
    "                     index=train_col_list)"
   ]
  },
  {
   "cell_type": "code",
   "execution_count": 109,
   "metadata": {},
   "outputs": [
    {
     "data": {
      "text/html": [
       "<div>\n",
       "<style scoped>\n",
       "    .dataframe tbody tr th:only-of-type {\n",
       "        vertical-align: middle;\n",
       "    }\n",
       "\n",
       "    .dataframe tbody tr th {\n",
       "        vertical-align: top;\n",
       "    }\n",
       "\n",
       "    .dataframe thead th {\n",
       "        text-align: right;\n",
       "    }\n",
       "</style>\n",
       "<table border=\"1\" class=\"dataframe\">\n",
       "  <thead>\n",
       "    <tr style=\"text-align: right;\">\n",
       "      <th></th>\n",
       "      <th>svc_94_best_params</th>\n",
       "      <th>svc_94_best_score</th>\n",
       "      <th>svc_94_accuracy</th>\n",
       "      <th>lisvc_94_best_params</th>\n",
       "      <th>lisvc_94_best_score</th>\n",
       "      <th>lisvc_94_accuracy</th>\n",
       "    </tr>\n",
       "  </thead>\n",
       "  <tbody>\n",
       "    <tr>\n",
       "      <th>연구_okt</th>\n",
       "      <td>{'svc__C': 100, 'svc__gamma': 0.1, 'svc__kerne...</td>\n",
       "      <td>0.890</td>\n",
       "      <td>0.909</td>\n",
       "      <td>{'svc__C': 10, 'svc__max_iter': 500, 'svc__pen...</td>\n",
       "      <td>0.896</td>\n",
       "      <td>0.904</td>\n",
       "    </tr>\n",
       "    <tr>\n",
       "      <th>연구_hannanum</th>\n",
       "      <td>{'svc__C': 10, 'svc__gamma': 1, 'svc__kernel':...</td>\n",
       "      <td>0.927</td>\n",
       "      <td>0.936</td>\n",
       "      <td>{'svc__C': 1000, 'svc__max_iter': 500, 'svc__p...</td>\n",
       "      <td>0.929</td>\n",
       "      <td>0.936</td>\n",
       "    </tr>\n",
       "    <tr>\n",
       "      <th>연구_krwordrank</th>\n",
       "      <td>{'svc__C': 100, 'svc__gamma': 0.1, 'svc__kerne...</td>\n",
       "      <td>0.888</td>\n",
       "      <td>0.896</td>\n",
       "      <td>{'svc__C': 10, 'svc__max_iter': 500, 'svc__pen...</td>\n",
       "      <td>0.894</td>\n",
       "      <td>0.901</td>\n",
       "    </tr>\n",
       "    <tr>\n",
       "      <th>연구_kkma</th>\n",
       "      <td>{'svc__C': 100, 'svc__gamma': 0.1, 'svc__kerne...</td>\n",
       "      <td>0.876</td>\n",
       "      <td>0.883</td>\n",
       "      <td>{'svc__C': 100, 'svc__max_iter': 500, 'svc__pe...</td>\n",
       "      <td>0.875</td>\n",
       "      <td>0.879</td>\n",
       "    </tr>\n",
       "    <tr>\n",
       "      <th>krwr_okt</th>\n",
       "      <td>{'svc__C': 1000, 'svc__gamma': 0.01, 'svc__ker...</td>\n",
       "      <td>0.838</td>\n",
       "      <td>0.858</td>\n",
       "      <td>{'svc__C': 1, 'svc__max_iter': 500, 'svc__pena...</td>\n",
       "      <td>0.841</td>\n",
       "      <td>0.862</td>\n",
       "    </tr>\n",
       "    <tr>\n",
       "      <th>krwr_han</th>\n",
       "      <td>{'svc__C': 1000, 'svc__gamma': 0.01, 'svc__ker...</td>\n",
       "      <td>0.882</td>\n",
       "      <td>0.893</td>\n",
       "      <td>{'svc__C': 10, 'svc__max_iter': 500, 'svc__pen...</td>\n",
       "      <td>0.886</td>\n",
       "      <td>0.901</td>\n",
       "    </tr>\n",
       "    <tr>\n",
       "      <th>all_word</th>\n",
       "      <td>{'svc__C': 10, 'svc__gamma': 1, 'svc__kernel':...</td>\n",
       "      <td>0.938</td>\n",
       "      <td>0.947</td>\n",
       "      <td>{'svc__C': 1000, 'svc__max_iter': 500, 'svc__p...</td>\n",
       "      <td>0.940</td>\n",
       "      <td>0.944</td>\n",
       "    </tr>\n",
       "  </tbody>\n",
       "</table>\n",
       "</div>"
      ],
      "text/plain": [
       "                                              svc_94_best_params  \\\n",
       "연구_okt         {'svc__C': 100, 'svc__gamma': 0.1, 'svc__kerne...   \n",
       "연구_hannanum    {'svc__C': 10, 'svc__gamma': 1, 'svc__kernel':...   \n",
       "연구_krwordrank  {'svc__C': 100, 'svc__gamma': 0.1, 'svc__kerne...   \n",
       "연구_kkma        {'svc__C': 100, 'svc__gamma': 0.1, 'svc__kerne...   \n",
       "krwr_okt       {'svc__C': 1000, 'svc__gamma': 0.01, 'svc__ker...   \n",
       "krwr_han       {'svc__C': 1000, 'svc__gamma': 0.01, 'svc__ker...   \n",
       "all_word       {'svc__C': 10, 'svc__gamma': 1, 'svc__kernel':...   \n",
       "\n",
       "               svc_94_best_score  svc_94_accuracy  \\\n",
       "연구_okt                     0.890            0.909   \n",
       "연구_hannanum                0.927            0.936   \n",
       "연구_krwordrank              0.888            0.896   \n",
       "연구_kkma                    0.876            0.883   \n",
       "krwr_okt                   0.838            0.858   \n",
       "krwr_han                   0.882            0.893   \n",
       "all_word                   0.938            0.947   \n",
       "\n",
       "                                            lisvc_94_best_params  \\\n",
       "연구_okt         {'svc__C': 10, 'svc__max_iter': 500, 'svc__pen...   \n",
       "연구_hannanum    {'svc__C': 1000, 'svc__max_iter': 500, 'svc__p...   \n",
       "연구_krwordrank  {'svc__C': 10, 'svc__max_iter': 500, 'svc__pen...   \n",
       "연구_kkma        {'svc__C': 100, 'svc__max_iter': 500, 'svc__pe...   \n",
       "krwr_okt       {'svc__C': 1, 'svc__max_iter': 500, 'svc__pena...   \n",
       "krwr_han       {'svc__C': 10, 'svc__max_iter': 500, 'svc__pen...   \n",
       "all_word       {'svc__C': 1000, 'svc__max_iter': 500, 'svc__p...   \n",
       "\n",
       "               lisvc_94_best_score  lisvc_94_accuracy  \n",
       "연구_okt                       0.896              0.904  \n",
       "연구_hannanum                  0.929              0.936  \n",
       "연구_krwordrank                0.894              0.901  \n",
       "연구_kkma                      0.875              0.879  \n",
       "krwr_okt                     0.841              0.862  \n",
       "krwr_han                     0.886              0.901  \n",
       "all_word                     0.940              0.944  "
      ]
     },
     "execution_count": 109,
     "metadata": {},
     "output_type": "execute_result"
    }
   ],
   "source": [
    "pred_df"
   ]
  },
  {
   "cell_type": "code",
   "execution_count": 110,
   "metadata": {},
   "outputs": [],
   "source": [
    "#엑셀파일 저장\n",
    "writer = pd.ExcelWriter('./data/model/svc_accuracy.xlsx', engine='xlsxwriter')  #경로 각자에 맞게 변경\n",
    "pred_df.to_excel(writer)\n",
    "writer.save()"
   ]
  },
  {
   "cell_type": "code",
   "execution_count": null,
   "metadata": {},
   "outputs": [],
   "source": []
  },
  {
   "cell_type": "code",
   "execution_count": 111,
   "metadata": {},
   "outputs": [
    {
     "data": {
      "text/plain": [
       "Index(['내역사업명', 'title', '연구목표', '연구내용', '기대효과', '사업명', '부처명', '지역구분',\n",
       "       '6T관련기술분류', '국가전략기술', '한글키워드', '영문키워드', '과제관리(전문)기관명', '연구', '연구_okt',\n",
       "       '연구_hannanum', '연구_krwordrank', '연구_kkma', 'krwr_okt', 'krwr_han',\n",
       "       'all_word', 'category'],\n",
       "      dtype='object')"
      ]
     },
     "execution_count": 111,
     "metadata": {},
     "output_type": "execute_result"
    }
   ],
   "source": [
    "company.columns"
   ]
  },
  {
   "cell_type": "code",
   "execution_count": 113,
   "metadata": {},
   "outputs": [
    {
     "name": "stderr",
     "output_type": "stream",
     "text": [
      "<ipython-input-113-dbbc91bf32ee>:4: TqdmDeprecationWarning: This function will be removed in tqdm==5.0.0\n",
      "Please use `tqdm.notebook.tqdm` instead of `tqdm.tqdm_notebook`\n",
      "  for i in tqdm_notebook(range(company.shape[0])):\n"
     ]
    },
    {
     "data": {
      "application/vnd.jupyter.widget-view+json": {
       "model_id": "3f1a273baae3493e9ab54bd82567133e",
       "version_major": 2,
       "version_minor": 0
      },
      "text/plain": [
       "HBox(children=(HTML(value=''), FloatProgress(value=0.0, max=7202.0), HTML(value='')))"
      ]
     },
     "metadata": {},
     "output_type": "display_data"
    },
    {
     "name": "stderr",
     "output_type": "stream",
     "text": [
      "C:\\Users\\user\\anaconda3\\lib\\site-packages\\pandas\\core\\indexing.py:670: SettingWithCopyWarning: \n",
      "A value is trying to be set on a copy of a slice from a DataFrame\n",
      "\n",
      "See the caveats in the documentation: https://pandas.pydata.org/pandas-docs/stable/user_guide/indexing.html#returning-a-view-versus-a-copy\n",
      "  iloc._setitem_with_indexer(indexer, value)\n"
     ]
    },
    {
     "name": "stdout",
     "output_type": "stream",
     "text": [
      "\n"
     ]
    }
   ],
   "source": [
    "# okt + hannnanum + kkma + krwr_han\n",
    "col_index=[-8,-7,-5,-3]\n",
    "company['okt_han_krwrhan']=''\n",
    "for i in tqdm_notebook(range(company.shape[0])):\n",
    "    comp_word_list=[]\n",
    "    for j in col_index:\n",
    "        temp=company.iloc[i,j]\n",
    "        comp_word_list.append(temp)\n",
    "        comp_word_list=' '.join(comp_word_list)\n",
    "        comp_word_list=list(set(comp_word_list.split()))\n",
    "    company['okt_han_krwrhan'].iloc[i]=' '.join(comp_word_list)"
   ]
  },
  {
   "cell_type": "code",
   "execution_count": 116,
   "metadata": {},
   "outputs": [
    {
     "name": "stderr",
     "output_type": "stream",
     "text": [
      "<ipython-input-116-832ad7afaf34>:12: TqdmDeprecationWarning: This function will be removed in tqdm==5.0.0\n",
      "Please use `tqdm.notebook.tqdm` instead of `tqdm.tqdm_notebook`\n",
      "  for ind in tqdm_notebook(train_col_list):\n"
     ]
    },
    {
     "data": {
      "application/vnd.jupyter.widget-view+json": {
       "model_id": "8935f246f77a4c56a69c60623b96574c",
       "version_major": 2,
       "version_minor": 0
      },
      "text/plain": [
       "HBox(children=(HTML(value=''), FloatProgress(value=0.0, max=1.0), HTML(value='')))"
      ]
     },
     "metadata": {},
     "output_type": "display_data"
    },
    {
     "name": "stderr",
     "output_type": "stream",
     "text": [
      "[Parallel(n_jobs=1)]: Using backend SequentialBackend with 1 concurrent workers.\n"
     ]
    },
    {
     "name": "stdout",
     "output_type": "stream",
     "text": [
      "Fitting 5 folds for each of 16 candidates, totalling 80 fits\n"
     ]
    },
    {
     "name": "stderr",
     "output_type": "stream",
     "text": [
      "[Parallel(n_jobs=1)]: Done  80 out of  80 | elapsed: 61.6min finished\n"
     ]
    },
    {
     "name": "stdout",
     "output_type": "stream",
     "text": [
      "Fitting 5 folds for each of 32 candidates, totalling 160 fits\n"
     ]
    },
    {
     "name": "stderr",
     "output_type": "stream",
     "text": [
      "[Parallel(n_jobs=1)]: Using backend SequentialBackend with 1 concurrent workers.\n",
      "C:\\Users\\user\\anaconda3\\lib\\site-packages\\sklearn\\model_selection\\_validation.py:548: FitFailedWarning: Estimator fit failed. The score on this train-test partition for these parameters will be set to nan. Details: \n",
      "Traceback (most recent call last):\n",
      "  File \"C:\\Users\\user\\anaconda3\\lib\\site-packages\\sklearn\\model_selection\\_validation.py\", line 531, in _fit_and_score\n",
      "    estimator.fit(X_train, y_train, **fit_params)\n",
      "  File \"C:\\Users\\user\\anaconda3\\lib\\site-packages\\sklearn\\pipeline.py\", line 335, in fit\n",
      "    self._final_estimator.fit(Xt, y, **fit_params_last_step)\n",
      "  File \"C:\\Users\\user\\anaconda3\\lib\\site-packages\\sklearn\\svm\\_classes.py\", line 233, in fit\n",
      "    self.coef_, self.intercept_, self.n_iter_ = _fit_liblinear(\n",
      "  File \"C:\\Users\\user\\anaconda3\\lib\\site-packages\\sklearn\\svm\\_base.py\", line 965, in _fit_liblinear\n",
      "    solver_type = _get_liblinear_solver_type(multi_class, penalty, loss, dual)\n",
      "  File \"C:\\Users\\user\\anaconda3\\lib\\site-packages\\sklearn\\svm\\_base.py\", line 821, in _get_liblinear_solver_type\n",
      "    raise ValueError('Unsupported set of arguments: %s, '\n",
      "ValueError: Unsupported set of arguments: The combination of penalty='l1' and loss='squared_hinge' are not supported when dual=True, Parameters: penalty='l1', loss='squared_hinge', dual=True\n",
      "\n",
      "  warnings.warn(\"Estimator fit failed. The score on this train-test\"\n",
      "C:\\Users\\user\\anaconda3\\lib\\site-packages\\sklearn\\svm\\_base.py:976: ConvergenceWarning: Liblinear failed to converge, increase the number of iterations.\n",
      "  warnings.warn(\"Liblinear failed to converge, increase \"\n",
      "[Parallel(n_jobs=1)]: Done 160 out of 160 | elapsed: 16.8min finished\n"
     ]
    },
    {
     "name": "stdout",
     "output_type": "stream",
     "text": [
      "==============X_train data :  okt_han_krwrhan ==============\n",
      "###SVC_94###\n",
      "Accuracy Score : 0.951\n",
      "Classification Report\n",
      "              precision    recall  f1-score   support\n",
      "\n",
      "           0       0.97      0.99      0.98      1210\n",
      "           1       0.90      0.78      0.83       189\n",
      "           2       0.00      0.00      0.00         1\n",
      "           3       0.00      0.00      0.00         3\n",
      "           4       1.00      1.00      1.00        18\n",
      "           5       0.92      0.92      0.92       371\n",
      "           6       1.00      0.22      0.36         9\n",
      "\n",
      "    accuracy                           0.95      1801\n",
      "   macro avg       0.68      0.56      0.59      1801\n",
      "weighted avg       0.95      0.95      0.95      1801\n",
      "\n",
      "###liSVC_94###\n",
      "Accuracy Score : 0.952\n",
      "Classification Report\n",
      "              precision    recall  f1-score   support\n",
      "\n",
      "           0       0.97      0.99      0.98      1210\n",
      "           1       0.91      0.76      0.82       189\n",
      "           2       0.00      0.00      0.00         1\n",
      "           3       0.00      0.00      0.00         3\n",
      "           4       1.00      1.00      1.00        18\n",
      "           5       0.92      0.94      0.93       371\n",
      "           6       1.00      0.33      0.50         9\n",
      "\n",
      "    accuracy                           0.95      1801\n",
      "   macro avg       0.68      0.57      0.60      1801\n",
      "weighted avg       0.95      0.95      0.95      1801\n",
      "\n",
      "\n"
     ]
    },
    {
     "name": "stderr",
     "output_type": "stream",
     "text": [
      "C:\\Users\\user\\anaconda3\\lib\\site-packages\\sklearn\\metrics\\_classification.py:1221: UndefinedMetricWarning: Precision and F-score are ill-defined and being set to 0.0 in labels with no predicted samples. Use `zero_division` parameter to control this behavior.\n",
      "  _warn_prf(average, modifier, msg_start, len(result))\n"
     ]
    }
   ],
   "source": [
    "train_col_list = ['okt_han_krwrhan']\n",
    "\n",
    "svc_94_best_params=[]\n",
    "svc_94_best_score=[]\n",
    "svc_94_accuracy=[]\n",
    "\n",
    "lisvc_94_best_params=[]\n",
    "lisvc_94_best_score=[]\n",
    "lisvc_94_accuracy=[]\n",
    "\n",
    "\n",
    "for ind in tqdm_notebook(train_col_list):    \n",
    "    X_train, X_test, y_train, y_test = train_test_split(company[ind], company.category,\\\n",
    "                                                    shuffle=True, random_state=1, \\\n",
    "                                                    stratify = company.category)\n",
    "    ####SVC_94####\n",
    "    #fit\n",
    "    grid_pipe_svc.fit(X_train, y_train)\n",
    "    svc_94_best_params.append(grid_pipe_svc.best_params_)\n",
    "    svc_94_best_score.append(np.round(grid_pipe_svc.best_score_,3))\n",
    "    #predict\n",
    "    pred_svc=grid_pipe_svc.predict(X_test)\n",
    "    \n",
    "    \n",
    "    ####liSVC_94####\n",
    "    #fit\n",
    "    grid_pipe_lisvc.fit(X_train, y_train)\n",
    "    lisvc_94_best_params.append(grid_pipe_lisvc.best_params_)\n",
    "    lisvc_94_best_score.append(np.round(grid_pipe_lisvc.best_score_,3))\n",
    "    #predict\n",
    "    pred_lisvc=grid_pipe_lisvc.predict(X_test)\n",
    "        \n",
    "    #정확도\n",
    "    accuracy_svc=np.round(accuracy_score(pred_svc, y_test),3)\n",
    "    accuracy_lisvc=np.round(accuracy_score(pred_lisvc, y_test),3)\n",
    "    \n",
    "    #리스트에 정확도 저장\n",
    "    svc_94_accuracy.append(accuracy_svc)\n",
    "    lisvc_94_accuracy.append(accuracy_lisvc)\n",
    "    \n",
    "    print('==============X_train data : ', ind, '==============')\n",
    "    print('###SVC_94###')\n",
    "    print(\"Accuracy Score : {0:.3f}\".format(accuracy_svc))\n",
    "    print('Classification Report')\n",
    "    print(classification_report(y_test, pred_svc))\n",
    "    \n",
    "    print('###liSVC_94###')\n",
    "    print(\"Accuracy Score : {0:.3f}\".format(accuracy_lisvc))\n",
    "    print('Classification Report')\n",
    "    print(classification_report(y_test, pred_lisvc))\n",
    "\n",
    "\n",
    "#######model Prediction 결과#########\n",
    "col_name=['svc_94_best_params', 'svc_94_best_score', 'svc_94_accuracy','lisvc_94_best_params','lisvc_94_best_score','lisvc_94_accuracy']\n",
    "pred_df=pd.DataFrame({col_name[0]:svc_94_best_params,\n",
    "                      col_name[1]:svc_94_best_score,\n",
    "                      col_name[2]:svc_94_accuracy,\n",
    "                      col_name[3]:lisvc_94_best_params,\n",
    "                      col_name[4]:lisvc_94_best_score,\n",
    "                      col_name[5]:lisvc_94_accuracy},\n",
    "                     index=train_col_list)"
   ]
  },
  {
   "cell_type": "code",
   "execution_count": 208,
   "metadata": {},
   "outputs": [
    {
     "data": {
      "text/html": [
       "<div>\n",
       "<style scoped>\n",
       "    .dataframe tbody tr th:only-of-type {\n",
       "        vertical-align: middle;\n",
       "    }\n",
       "\n",
       "    .dataframe tbody tr th {\n",
       "        vertical-align: top;\n",
       "    }\n",
       "\n",
       "    .dataframe thead th {\n",
       "        text-align: right;\n",
       "    }\n",
       "</style>\n",
       "<table border=\"1\" class=\"dataframe\">\n",
       "  <thead>\n",
       "    <tr style=\"text-align: right;\">\n",
       "      <th></th>\n",
       "      <th>mean_fit_time</th>\n",
       "      <th>std_fit_time</th>\n",
       "      <th>mean_score_time</th>\n",
       "      <th>std_score_time</th>\n",
       "      <th>param_svc__C</th>\n",
       "      <th>param_svc__gamma</th>\n",
       "      <th>param_svc__kernel</th>\n",
       "      <th>params</th>\n",
       "      <th>split0_test_score</th>\n",
       "      <th>split1_test_score</th>\n",
       "      <th>split2_test_score</th>\n",
       "      <th>split3_test_score</th>\n",
       "      <th>split4_test_score</th>\n",
       "      <th>mean_test_score</th>\n",
       "      <th>std_test_score</th>\n",
       "      <th>rank_test_score</th>\n",
       "    </tr>\n",
       "  </thead>\n",
       "  <tbody>\n",
       "    <tr>\n",
       "      <th>0</th>\n",
       "      <td>25.555447</td>\n",
       "      <td>0.320774</td>\n",
       "      <td>5.519638</td>\n",
       "      <td>0.050525</td>\n",
       "      <td>1</td>\n",
       "      <td>0.001</td>\n",
       "      <td>sigmoid</td>\n",
       "      <td>{'svc__C': 1, 'svc__gamma': 0.001, 'svc__kerne...</td>\n",
       "      <td>0.672525</td>\n",
       "      <td>0.679630</td>\n",
       "      <td>0.666667</td>\n",
       "      <td>0.656481</td>\n",
       "      <td>0.682407</td>\n",
       "      <td>0.671542</td>\n",
       "      <td>0.009328</td>\n",
       "      <td>14</td>\n",
       "    </tr>\n",
       "    <tr>\n",
       "      <th>1</th>\n",
       "      <td>34.651310</td>\n",
       "      <td>0.296919</td>\n",
       "      <td>6.740969</td>\n",
       "      <td>0.028808</td>\n",
       "      <td>1</td>\n",
       "      <td>0.01</td>\n",
       "      <td>sigmoid</td>\n",
       "      <td>{'svc__C': 1, 'svc__gamma': 0.01, 'svc__kernel...</td>\n",
       "      <td>0.672525</td>\n",
       "      <td>0.679630</td>\n",
       "      <td>0.666667</td>\n",
       "      <td>0.656481</td>\n",
       "      <td>0.682407</td>\n",
       "      <td>0.671542</td>\n",
       "      <td>0.009328</td>\n",
       "      <td>14</td>\n",
       "    </tr>\n",
       "    <tr>\n",
       "      <th>2</th>\n",
       "      <td>39.658326</td>\n",
       "      <td>0.481215</td>\n",
       "      <td>7.066900</td>\n",
       "      <td>0.048974</td>\n",
       "      <td>1</td>\n",
       "      <td>0.1</td>\n",
       "      <td>sigmoid</td>\n",
       "      <td>{'svc__C': 1, 'svc__gamma': 0.1, 'svc__kernel'...</td>\n",
       "      <td>0.677151</td>\n",
       "      <td>0.681481</td>\n",
       "      <td>0.674074</td>\n",
       "      <td>0.664815</td>\n",
       "      <td>0.689815</td>\n",
       "      <td>0.677467</td>\n",
       "      <td>0.008250</td>\n",
       "      <td>11</td>\n",
       "    </tr>\n",
       "    <tr>\n",
       "      <th>3</th>\n",
       "      <td>33.525930</td>\n",
       "      <td>0.514460</td>\n",
       "      <td>6.237318</td>\n",
       "      <td>0.034607</td>\n",
       "      <td>1</td>\n",
       "      <td>1</td>\n",
       "      <td>sigmoid</td>\n",
       "      <td>{'svc__C': 1, 'svc__gamma': 1, 'svc__kernel': ...</td>\n",
       "      <td>0.918594</td>\n",
       "      <td>0.938889</td>\n",
       "      <td>0.912037</td>\n",
       "      <td>0.916667</td>\n",
       "      <td>0.921296</td>\n",
       "      <td>0.921497</td>\n",
       "      <td>0.009206</td>\n",
       "      <td>10</td>\n",
       "    </tr>\n",
       "    <tr>\n",
       "      <th>4</th>\n",
       "      <td>34.562159</td>\n",
       "      <td>0.285657</td>\n",
       "      <td>6.728003</td>\n",
       "      <td>0.048296</td>\n",
       "      <td>10</td>\n",
       "      <td>0.001</td>\n",
       "      <td>sigmoid</td>\n",
       "      <td>{'svc__C': 10, 'svc__gamma': 0.001, 'svc__kern...</td>\n",
       "      <td>0.672525</td>\n",
       "      <td>0.679630</td>\n",
       "      <td>0.666667</td>\n",
       "      <td>0.656481</td>\n",
       "      <td>0.682407</td>\n",
       "      <td>0.671542</td>\n",
       "      <td>0.009328</td>\n",
       "      <td>14</td>\n",
       "    </tr>\n",
       "    <tr>\n",
       "      <th>5</th>\n",
       "      <td>40.003004</td>\n",
       "      <td>0.575882</td>\n",
       "      <td>7.059326</td>\n",
       "      <td>0.054950</td>\n",
       "      <td>10</td>\n",
       "      <td>0.01</td>\n",
       "      <td>sigmoid</td>\n",
       "      <td>{'svc__C': 10, 'svc__gamma': 0.01, 'svc__kerne...</td>\n",
       "      <td>0.677151</td>\n",
       "      <td>0.681481</td>\n",
       "      <td>0.674074</td>\n",
       "      <td>0.664815</td>\n",
       "      <td>0.689815</td>\n",
       "      <td>0.677467</td>\n",
       "      <td>0.008250</td>\n",
       "      <td>11</td>\n",
       "    </tr>\n",
       "    <tr>\n",
       "      <th>6</th>\n",
       "      <td>41.090100</td>\n",
       "      <td>2.312168</td>\n",
       "      <td>7.261773</td>\n",
       "      <td>0.720529</td>\n",
       "      <td>10</td>\n",
       "      <td>0.1</td>\n",
       "      <td>sigmoid</td>\n",
       "      <td>{'svc__C': 10, 'svc__gamma': 0.1, 'svc__kernel...</td>\n",
       "      <td>0.924144</td>\n",
       "      <td>0.943519</td>\n",
       "      <td>0.912963</td>\n",
       "      <td>0.917593</td>\n",
       "      <td>0.921296</td>\n",
       "      <td>0.923903</td>\n",
       "      <td>0.010499</td>\n",
       "      <td>7</td>\n",
       "    </tr>\n",
       "    <tr>\n",
       "      <th>7</th>\n",
       "      <td>32.425473</td>\n",
       "      <td>0.615455</td>\n",
       "      <td>6.007333</td>\n",
       "      <td>0.092423</td>\n",
       "      <td>10</td>\n",
       "      <td>1</td>\n",
       "      <td>sigmoid</td>\n",
       "      <td>{'svc__C': 10, 'svc__gamma': 1, 'svc__kernel':...</td>\n",
       "      <td>0.936170</td>\n",
       "      <td>0.949074</td>\n",
       "      <td>0.925000</td>\n",
       "      <td>0.928704</td>\n",
       "      <td>0.937963</td>\n",
       "      <td>0.935382</td>\n",
       "      <td>0.008332</td>\n",
       "      <td>1</td>\n",
       "    </tr>\n",
       "    <tr>\n",
       "      <th>8</th>\n",
       "      <td>41.518152</td>\n",
       "      <td>0.901466</td>\n",
       "      <td>7.320024</td>\n",
       "      <td>0.247253</td>\n",
       "      <td>100</td>\n",
       "      <td>0.001</td>\n",
       "      <td>sigmoid</td>\n",
       "      <td>{'svc__C': 100, 'svc__gamma': 0.001, 'svc__ker...</td>\n",
       "      <td>0.677151</td>\n",
       "      <td>0.681481</td>\n",
       "      <td>0.674074</td>\n",
       "      <td>0.664815</td>\n",
       "      <td>0.689815</td>\n",
       "      <td>0.677467</td>\n",
       "      <td>0.008250</td>\n",
       "      <td>11</td>\n",
       "    </tr>\n",
       "    <tr>\n",
       "      <th>9</th>\n",
       "      <td>42.802319</td>\n",
       "      <td>1.676831</td>\n",
       "      <td>7.217102</td>\n",
       "      <td>0.234931</td>\n",
       "      <td>100</td>\n",
       "      <td>0.01</td>\n",
       "      <td>sigmoid</td>\n",
       "      <td>{'svc__C': 100, 'svc__gamma': 0.01, 'svc__kern...</td>\n",
       "      <td>0.924144</td>\n",
       "      <td>0.943519</td>\n",
       "      <td>0.912963</td>\n",
       "      <td>0.917593</td>\n",
       "      <td>0.921296</td>\n",
       "      <td>0.923903</td>\n",
       "      <td>0.010499</td>\n",
       "      <td>7</td>\n",
       "    </tr>\n",
       "    <tr>\n",
       "      <th>10</th>\n",
       "      <td>48.278188</td>\n",
       "      <td>0.760087</td>\n",
       "      <td>7.070259</td>\n",
       "      <td>0.307381</td>\n",
       "      <td>100</td>\n",
       "      <td>0.1</td>\n",
       "      <td>sigmoid</td>\n",
       "      <td>{'svc__C': 100, 'svc__gamma': 0.1, 'svc__kerne...</td>\n",
       "      <td>0.928770</td>\n",
       "      <td>0.945370</td>\n",
       "      <td>0.926852</td>\n",
       "      <td>0.923148</td>\n",
       "      <td>0.934259</td>\n",
       "      <td>0.931680</td>\n",
       "      <td>0.007729</td>\n",
       "      <td>4</td>\n",
       "    </tr>\n",
       "    <tr>\n",
       "      <th>11</th>\n",
       "      <td>36.320688</td>\n",
       "      <td>0.946560</td>\n",
       "      <td>6.940088</td>\n",
       "      <td>0.568145</td>\n",
       "      <td>100</td>\n",
       "      <td>1</td>\n",
       "      <td>sigmoid</td>\n",
       "      <td>{'svc__C': 100, 'svc__gamma': 1, 'svc__kernel'...</td>\n",
       "      <td>0.936170</td>\n",
       "      <td>0.949074</td>\n",
       "      <td>0.925000</td>\n",
       "      <td>0.928704</td>\n",
       "      <td>0.937963</td>\n",
       "      <td>0.935382</td>\n",
       "      <td>0.008332</td>\n",
       "      <td>1</td>\n",
       "    </tr>\n",
       "    <tr>\n",
       "      <th>12</th>\n",
       "      <td>43.921676</td>\n",
       "      <td>0.803805</td>\n",
       "      <td>7.408385</td>\n",
       "      <td>0.504132</td>\n",
       "      <td>1000</td>\n",
       "      <td>0.001</td>\n",
       "      <td>sigmoid</td>\n",
       "      <td>{'svc__C': 1000, 'svc__gamma': 0.001, 'svc__ke...</td>\n",
       "      <td>0.924144</td>\n",
       "      <td>0.943519</td>\n",
       "      <td>0.912963</td>\n",
       "      <td>0.917593</td>\n",
       "      <td>0.921296</td>\n",
       "      <td>0.923903</td>\n",
       "      <td>0.010499</td>\n",
       "      <td>7</td>\n",
       "    </tr>\n",
       "    <tr>\n",
       "      <th>13</th>\n",
       "      <td>48.797267</td>\n",
       "      <td>1.162769</td>\n",
       "      <td>7.312133</td>\n",
       "      <td>0.218469</td>\n",
       "      <td>1000</td>\n",
       "      <td>0.01</td>\n",
       "      <td>sigmoid</td>\n",
       "      <td>{'svc__C': 1000, 'svc__gamma': 0.01, 'svc__ker...</td>\n",
       "      <td>0.928770</td>\n",
       "      <td>0.945370</td>\n",
       "      <td>0.926852</td>\n",
       "      <td>0.923148</td>\n",
       "      <td>0.934259</td>\n",
       "      <td>0.931680</td>\n",
       "      <td>0.007729</td>\n",
       "      <td>4</td>\n",
       "    </tr>\n",
       "    <tr>\n",
       "      <th>14</th>\n",
       "      <td>48.738067</td>\n",
       "      <td>0.602238</td>\n",
       "      <td>7.481996</td>\n",
       "      <td>0.241238</td>\n",
       "      <td>1000</td>\n",
       "      <td>0.1</td>\n",
       "      <td>sigmoid</td>\n",
       "      <td>{'svc__C': 1000, 'svc__gamma': 0.1, 'svc__kern...</td>\n",
       "      <td>0.928770</td>\n",
       "      <td>0.945370</td>\n",
       "      <td>0.926852</td>\n",
       "      <td>0.923148</td>\n",
       "      <td>0.934259</td>\n",
       "      <td>0.931680</td>\n",
       "      <td>0.007729</td>\n",
       "      <td>4</td>\n",
       "    </tr>\n",
       "    <tr>\n",
       "      <th>15</th>\n",
       "      <td>35.668927</td>\n",
       "      <td>0.241373</td>\n",
       "      <td>6.443368</td>\n",
       "      <td>0.157639</td>\n",
       "      <td>1000</td>\n",
       "      <td>1</td>\n",
       "      <td>sigmoid</td>\n",
       "      <td>{'svc__C': 1000, 'svc__gamma': 1, 'svc__kernel...</td>\n",
       "      <td>0.936170</td>\n",
       "      <td>0.949074</td>\n",
       "      <td>0.925000</td>\n",
       "      <td>0.928704</td>\n",
       "      <td>0.937963</td>\n",
       "      <td>0.935382</td>\n",
       "      <td>0.008332</td>\n",
       "      <td>1</td>\n",
       "    </tr>\n",
       "  </tbody>\n",
       "</table>\n",
       "</div>"
      ],
      "text/plain": [
       "    mean_fit_time  std_fit_time  mean_score_time  std_score_time param_svc__C  \\\n",
       "0       25.555447      0.320774         5.519638        0.050525            1   \n",
       "1       34.651310      0.296919         6.740969        0.028808            1   \n",
       "2       39.658326      0.481215         7.066900        0.048974            1   \n",
       "3       33.525930      0.514460         6.237318        0.034607            1   \n",
       "4       34.562159      0.285657         6.728003        0.048296           10   \n",
       "5       40.003004      0.575882         7.059326        0.054950           10   \n",
       "6       41.090100      2.312168         7.261773        0.720529           10   \n",
       "7       32.425473      0.615455         6.007333        0.092423           10   \n",
       "8       41.518152      0.901466         7.320024        0.247253          100   \n",
       "9       42.802319      1.676831         7.217102        0.234931          100   \n",
       "10      48.278188      0.760087         7.070259        0.307381          100   \n",
       "11      36.320688      0.946560         6.940088        0.568145          100   \n",
       "12      43.921676      0.803805         7.408385        0.504132         1000   \n",
       "13      48.797267      1.162769         7.312133        0.218469         1000   \n",
       "14      48.738067      0.602238         7.481996        0.241238         1000   \n",
       "15      35.668927      0.241373         6.443368        0.157639         1000   \n",
       "\n",
       "   param_svc__gamma param_svc__kernel  \\\n",
       "0             0.001           sigmoid   \n",
       "1              0.01           sigmoid   \n",
       "2               0.1           sigmoid   \n",
       "3                 1           sigmoid   \n",
       "4             0.001           sigmoid   \n",
       "5              0.01           sigmoid   \n",
       "6               0.1           sigmoid   \n",
       "7                 1           sigmoid   \n",
       "8             0.001           sigmoid   \n",
       "9              0.01           sigmoid   \n",
       "10              0.1           sigmoid   \n",
       "11                1           sigmoid   \n",
       "12            0.001           sigmoid   \n",
       "13             0.01           sigmoid   \n",
       "14              0.1           sigmoid   \n",
       "15                1           sigmoid   \n",
       "\n",
       "                                               params  split0_test_score  \\\n",
       "0   {'svc__C': 1, 'svc__gamma': 0.001, 'svc__kerne...           0.672525   \n",
       "1   {'svc__C': 1, 'svc__gamma': 0.01, 'svc__kernel...           0.672525   \n",
       "2   {'svc__C': 1, 'svc__gamma': 0.1, 'svc__kernel'...           0.677151   \n",
       "3   {'svc__C': 1, 'svc__gamma': 1, 'svc__kernel': ...           0.918594   \n",
       "4   {'svc__C': 10, 'svc__gamma': 0.001, 'svc__kern...           0.672525   \n",
       "5   {'svc__C': 10, 'svc__gamma': 0.01, 'svc__kerne...           0.677151   \n",
       "6   {'svc__C': 10, 'svc__gamma': 0.1, 'svc__kernel...           0.924144   \n",
       "7   {'svc__C': 10, 'svc__gamma': 1, 'svc__kernel':...           0.936170   \n",
       "8   {'svc__C': 100, 'svc__gamma': 0.001, 'svc__ker...           0.677151   \n",
       "9   {'svc__C': 100, 'svc__gamma': 0.01, 'svc__kern...           0.924144   \n",
       "10  {'svc__C': 100, 'svc__gamma': 0.1, 'svc__kerne...           0.928770   \n",
       "11  {'svc__C': 100, 'svc__gamma': 1, 'svc__kernel'...           0.936170   \n",
       "12  {'svc__C': 1000, 'svc__gamma': 0.001, 'svc__ke...           0.924144   \n",
       "13  {'svc__C': 1000, 'svc__gamma': 0.01, 'svc__ker...           0.928770   \n",
       "14  {'svc__C': 1000, 'svc__gamma': 0.1, 'svc__kern...           0.928770   \n",
       "15  {'svc__C': 1000, 'svc__gamma': 1, 'svc__kernel...           0.936170   \n",
       "\n",
       "    split1_test_score  split2_test_score  split3_test_score  \\\n",
       "0            0.679630           0.666667           0.656481   \n",
       "1            0.679630           0.666667           0.656481   \n",
       "2            0.681481           0.674074           0.664815   \n",
       "3            0.938889           0.912037           0.916667   \n",
       "4            0.679630           0.666667           0.656481   \n",
       "5            0.681481           0.674074           0.664815   \n",
       "6            0.943519           0.912963           0.917593   \n",
       "7            0.949074           0.925000           0.928704   \n",
       "8            0.681481           0.674074           0.664815   \n",
       "9            0.943519           0.912963           0.917593   \n",
       "10           0.945370           0.926852           0.923148   \n",
       "11           0.949074           0.925000           0.928704   \n",
       "12           0.943519           0.912963           0.917593   \n",
       "13           0.945370           0.926852           0.923148   \n",
       "14           0.945370           0.926852           0.923148   \n",
       "15           0.949074           0.925000           0.928704   \n",
       "\n",
       "    split4_test_score  mean_test_score  std_test_score  rank_test_score  \n",
       "0            0.682407         0.671542        0.009328               14  \n",
       "1            0.682407         0.671542        0.009328               14  \n",
       "2            0.689815         0.677467        0.008250               11  \n",
       "3            0.921296         0.921497        0.009206               10  \n",
       "4            0.682407         0.671542        0.009328               14  \n",
       "5            0.689815         0.677467        0.008250               11  \n",
       "6            0.921296         0.923903        0.010499                7  \n",
       "7            0.937963         0.935382        0.008332                1  \n",
       "8            0.689815         0.677467        0.008250               11  \n",
       "9            0.921296         0.923903        0.010499                7  \n",
       "10           0.934259         0.931680        0.007729                4  \n",
       "11           0.937963         0.935382        0.008332                1  \n",
       "12           0.921296         0.923903        0.010499                7  \n",
       "13           0.934259         0.931680        0.007729                4  \n",
       "14           0.934259         0.931680        0.007729                4  \n",
       "15           0.937963         0.935382        0.008332                1  "
      ]
     },
     "execution_count": 208,
     "metadata": {},
     "output_type": "execute_result"
    }
   ],
   "source": [
    "scores_df = pd.DataFrame(grid_pipe_svc.cv_results_)\n",
    "scores_df"
   ]
  },
  {
   "cell_type": "code",
   "execution_count": 130,
   "metadata": {},
   "outputs": [],
   "source": [
    "#엑셀파일 저장\n",
    "writer = pd.ExcelWriter('./data/model/svc_accuracy_add.xlsx', engine='xlsxwriter')  #경로 각자에 맞게 변경\n",
    "pred_df.to_excel(writer)\n",
    "writer.save()"
   ]
  },
  {
   "cell_type": "code",
   "execution_count": null,
   "metadata": {},
   "outputs": [],
   "source": [
    "writer = pd.ExcelWriter('./data/model/svc_accuracy_add.xlsx', engine='xlsxwriter')  #경로 각자에 맞게 변경\n",
    "pred_df.to_excel(writer)\n",
    "writer.save()"
   ]
  },
  {
   "cell_type": "code",
   "execution_count": 190,
   "metadata": {},
   "outputs": [
    {
     "name": "stdout",
     "output_type": "stream",
     "text": [
      "Collecting yellowbrick\n",
      "  Downloading yellowbrick-1.3.post1-py3-none-any.whl (271 kB)\n",
      "Requirement already satisfied: matplotlib!=3.0.0,>=2.0.2 in c:\\users\\user\\anaconda3\\lib\\site-packages (from yellowbrick) (3.3.2)\n",
      "Requirement already satisfied: scipy>=1.0.0 in c:\\users\\user\\anaconda3\\lib\\site-packages (from yellowbrick) (1.5.2)\n",
      "Requirement already satisfied: numpy<1.20,>=1.16.0 in c:\\users\\user\\anaconda3\\lib\\site-packages (from yellowbrick) (1.19.2)\n",
      "Requirement already satisfied: scikit-learn>=0.20 in c:\\users\\user\\anaconda3\\lib\\site-packages (from yellowbrick) (0.23.2)\n",
      "Requirement already satisfied: cycler>=0.10.0 in c:\\users\\user\\anaconda3\\lib\\site-packages (from yellowbrick) (0.10.0)\n",
      "Requirement already satisfied: kiwisolver>=1.0.1 in c:\\users\\user\\anaconda3\\lib\\site-packages (from matplotlib!=3.0.0,>=2.0.2->yellowbrick) (1.3.0)\n",
      "Requirement already satisfied: pillow>=6.2.0 in c:\\users\\user\\anaconda3\\lib\\site-packages (from matplotlib!=3.0.0,>=2.0.2->yellowbrick) (8.0.1)\n",
      "Requirement already satisfied: python-dateutil>=2.1 in c:\\users\\user\\anaconda3\\lib\\site-packages (from matplotlib!=3.0.0,>=2.0.2->yellowbrick) (2.8.1)\n",
      "Requirement already satisfied: certifi>=2020.06.20 in c:\\users\\user\\anaconda3\\lib\\site-packages (from matplotlib!=3.0.0,>=2.0.2->yellowbrick) (2020.6.20)\n",
      "Requirement already satisfied: pyparsing!=2.0.4,!=2.1.2,!=2.1.6,>=2.0.3 in c:\\users\\user\\anaconda3\\lib\\site-packages (from matplotlib!=3.0.0,>=2.0.2->yellowbrick) (2.4.7)\n",
      "Requirement already satisfied: threadpoolctl>=2.0.0 in c:\\users\\user\\anaconda3\\lib\\site-packages (from scikit-learn>=0.20->yellowbrick) (2.1.0)\n",
      "Requirement already satisfied: joblib>=0.11 in c:\\users\\user\\anaconda3\\lib\\site-packages (from scikit-learn>=0.20->yellowbrick) (0.17.0)\n",
      "Requirement already satisfied: six in c:\\users\\user\\anaconda3\\lib\\site-packages (from cycler>=0.10.0->yellowbrick) (1.15.0)\n",
      "Installing collected packages: yellowbrick\n",
      "Successfully installed yellowbrick-1.3.post1\n"
     ]
    }
   ],
   "source": [
    "#!pip install yellowbrick"
   ]
  },
  {
   "cell_type": "code",
   "execution_count": 202,
   "metadata": {},
   "outputs": [
    {
     "name": "stdout",
     "output_type": "stream",
     "text": [
      "(5401, 33248)\n",
      "(1801, 33248)\n"
     ]
    }
   ],
   "source": [
    "from yellowbrick.classifier import ROCAUC\n",
    "\n",
    "X_train, X_test, y_train, y_test = train_test_split(company['all_word'], company.category,\\\n",
    "                                                    shuffle=True, random_state=1, \\\n",
    "                                                    stratify = company.category)\n",
    " #X_train 벡터화\n",
    "temp =X_train.tolist()\n",
    "X_train_tfidf = tfidf.transform(temp)\n",
    "print(X_train_tfidf.shape)\n",
    "\n",
    "#X_test 벡터화\n",
    "temp =X_test.tolist()\n",
    "X_test_tfidf = tfidf.transform(temp)\n",
    "print(X_test_tfidf.shape)"
   ]
  },
  {
   "cell_type": "code",
   "execution_count": 206,
   "metadata": {},
   "outputs": [
    {
     "name": "stdout",
     "output_type": "stream",
     "text": [
      "[LibLinear]"
     ]
    },
    {
     "data": {
      "image/png": "[encoded data removed]",
      "text/plain": [
       "<Figure size 576x396 with 1 Axes>"
      ]
     },
     "metadata": {},
     "output_type": "display_data"
    },
    {
     "data": {
      "text/plain": [
       "<AxesSubplot:title={'center':'ROC Curves for LinearSVC'}, xlabel='False Positive Rate', ylabel='True Positive Rate'>"
      ]
     },
     "execution_count": 206,
     "metadata": {},
     "output_type": "execute_result"
    }
   ],
   "source": [
    "clf = LinearSVC(C=1000,max_iter=500, penalty='l2',verbose=True)\n",
    "\n",
    "visualizer = ROCAUC(clf, classes=[0,1,2,3,4,5,6], micro=False, macro=True, per_class=False)\n",
    "visualizer.fit(X_train_tfidf, y_train)\n",
    "visualizer.score(X_test_tfidf, y_test)\n",
    "visualizer.show()"
   ]
  },
  {
   "cell_type": "code",
   "execution_count": 201,
   "metadata": {},
   "outputs": [
    {
     "data": {
      "text/plain": [
       "<AxesSubplot:title={'center':'ROC Curves for SVC'}, xlabel='False Positive Rate', ylabel='True Positive Rate'>"
      ]
     },
     "execution_count": 201,
     "metadata": {},
     "output_type": "execute_result"
    }
   ],
   "source": [
    "clf = SVC(kernel='linear',C=100,gamma=0.01, verbose=True)\n",
    "visualizer = ROCAUC(clf, classes=[0,1,2,3,4,5,6], micro=False, macro=True, per_class=False)\n",
    "visualizer.fit(X_train_tfidf, y_train)\n",
    "visualizer.score(X_train_tfidf, y_train)\n",
    "visualizer.show()"
   ]
  },
  {
   "cell_type": "code",
   "execution_count": 128,
   "metadata": {},
   "outputs": [
    {
     "data": {
      "text/html": [
       "<div>\n",
       "<style scoped>\n",
       "    .dataframe tbody tr th:only-of-type {\n",
       "        vertical-align: middle;\n",
       "    }\n",
       "\n",
       "    .dataframe tbody tr th {\n",
       "        vertical-align: top;\n",
       "    }\n",
       "\n",
       "    .dataframe thead th {\n",
       "        text-align: right;\n",
       "    }\n",
       "</style>\n",
       "<table border=\"1\" class=\"dataframe\">\n",
       "  <thead>\n",
       "    <tr style=\"text-align: right;\">\n",
       "      <th></th>\n",
       "      <th>svc_94_best_params</th>\n",
       "      <th>svc_94_best_score</th>\n",
       "      <th>svc_94_accuracy</th>\n",
       "      <th>lisvc_94_best_params</th>\n",
       "      <th>lisvc_94_best_score</th>\n",
       "      <th>lisvc_94_accuracy</th>\n",
       "    </tr>\n",
       "    <tr>\n",
       "      <th>Unnamed: 0</th>\n",
       "      <th></th>\n",
       "      <th></th>\n",
       "      <th></th>\n",
       "      <th></th>\n",
       "      <th></th>\n",
       "      <th></th>\n",
       "    </tr>\n",
       "  </thead>\n",
       "  <tbody>\n",
       "    <tr>\n",
       "      <th>연구_okt</th>\n",
       "      <td>{'svc__C': 100, 'svc__gamma': 0.1, 'svc__kerne...</td>\n",
       "      <td>0.890</td>\n",
       "      <td>0.909</td>\n",
       "      <td>{'svc__C': 10, 'svc__max_iter': 500, 'svc__pen...</td>\n",
       "      <td>0.896</td>\n",
       "      <td>0.904</td>\n",
       "    </tr>\n",
       "    <tr>\n",
       "      <th>연구_hannanum</th>\n",
       "      <td>{'svc__C': 10, 'svc__gamma': 1, 'svc__kernel':...</td>\n",
       "      <td>0.927</td>\n",
       "      <td>0.936</td>\n",
       "      <td>{'svc__C': 1000, 'svc__max_iter': 500, 'svc__p...</td>\n",
       "      <td>0.929</td>\n",
       "      <td>0.936</td>\n",
       "    </tr>\n",
       "    <tr>\n",
       "      <th>연구_krwordrank</th>\n",
       "      <td>{'svc__C': 100, 'svc__gamma': 0.1, 'svc__kerne...</td>\n",
       "      <td>0.888</td>\n",
       "      <td>0.896</td>\n",
       "      <td>{'svc__C': 10, 'svc__max_iter': 500, 'svc__pen...</td>\n",
       "      <td>0.894</td>\n",
       "      <td>0.901</td>\n",
       "    </tr>\n",
       "    <tr>\n",
       "      <th>연구_kkma</th>\n",
       "      <td>{'svc__C': 100, 'svc__gamma': 0.1, 'svc__kerne...</td>\n",
       "      <td>0.876</td>\n",
       "      <td>0.883</td>\n",
       "      <td>{'svc__C': 100, 'svc__max_iter': 500, 'svc__pe...</td>\n",
       "      <td>0.875</td>\n",
       "      <td>0.879</td>\n",
       "    </tr>\n",
       "    <tr>\n",
       "      <th>krwr_okt</th>\n",
       "      <td>{'svc__C': 1000, 'svc__gamma': 0.01, 'svc__ker...</td>\n",
       "      <td>0.838</td>\n",
       "      <td>0.858</td>\n",
       "      <td>{'svc__C': 1, 'svc__max_iter': 500, 'svc__pena...</td>\n",
       "      <td>0.841</td>\n",
       "      <td>0.862</td>\n",
       "    </tr>\n",
       "    <tr>\n",
       "      <th>krwr_han</th>\n",
       "      <td>{'svc__C': 1000, 'svc__gamma': 0.01, 'svc__ker...</td>\n",
       "      <td>0.882</td>\n",
       "      <td>0.893</td>\n",
       "      <td>{'svc__C': 10, 'svc__max_iter': 500, 'svc__pen...</td>\n",
       "      <td>0.886</td>\n",
       "      <td>0.901</td>\n",
       "    </tr>\n",
       "    <tr>\n",
       "      <th>all_word</th>\n",
       "      <td>{'svc__C': 10, 'svc__gamma': 1, 'svc__kernel':...</td>\n",
       "      <td>0.938</td>\n",
       "      <td>0.947</td>\n",
       "      <td>{'svc__C': 1000, 'svc__max_iter': 500, 'svc__p...</td>\n",
       "      <td>0.940</td>\n",
       "      <td>0.944</td>\n",
       "    </tr>\n",
       "  </tbody>\n",
       "</table>\n",
       "</div>"
      ],
      "text/plain": [
       "                                              svc_94_best_params  \\\n",
       "Unnamed: 0                                                         \n",
       "연구_okt         {'svc__C': 100, 'svc__gamma': 0.1, 'svc__kerne...   \n",
       "연구_hannanum    {'svc__C': 10, 'svc__gamma': 1, 'svc__kernel':...   \n",
       "연구_krwordrank  {'svc__C': 100, 'svc__gamma': 0.1, 'svc__kerne...   \n",
       "연구_kkma        {'svc__C': 100, 'svc__gamma': 0.1, 'svc__kerne...   \n",
       "krwr_okt       {'svc__C': 1000, 'svc__gamma': 0.01, 'svc__ker...   \n",
       "krwr_han       {'svc__C': 1000, 'svc__gamma': 0.01, 'svc__ker...   \n",
       "all_word       {'svc__C': 10, 'svc__gamma': 1, 'svc__kernel':...   \n",
       "\n",
       "               svc_94_best_score  svc_94_accuracy  \\\n",
       "Unnamed: 0                                          \n",
       "연구_okt                     0.890            0.909   \n",
       "연구_hannanum                0.927            0.936   \n",
       "연구_krwordrank              0.888            0.896   \n",
       "연구_kkma                    0.876            0.883   \n",
       "krwr_okt                   0.838            0.858   \n",
       "krwr_han                   0.882            0.893   \n",
       "all_word                   0.938            0.947   \n",
       "\n",
       "                                            lisvc_94_best_params  \\\n",
       "Unnamed: 0                                                         \n",
       "연구_okt         {'svc__C': 10, 'svc__max_iter': 500, 'svc__pen...   \n",
       "연구_hannanum    {'svc__C': 1000, 'svc__max_iter': 500, 'svc__p...   \n",
       "연구_krwordrank  {'svc__C': 10, 'svc__max_iter': 500, 'svc__pen...   \n",
       "연구_kkma        {'svc__C': 100, 'svc__max_iter': 500, 'svc__pe...   \n",
       "krwr_okt       {'svc__C': 1, 'svc__max_iter': 500, 'svc__pena...   \n",
       "krwr_han       {'svc__C': 10, 'svc__max_iter': 500, 'svc__pen...   \n",
       "all_word       {'svc__C': 1000, 'svc__max_iter': 500, 'svc__p...   \n",
       "\n",
       "               lisvc_94_best_score  lisvc_94_accuracy  \n",
       "Unnamed: 0                                             \n",
       "연구_okt                       0.896              0.904  \n",
       "연구_hannanum                  0.929              0.936  \n",
       "연구_krwordrank                0.894              0.901  \n",
       "연구_kkma                      0.875              0.879  \n",
       "krwr_okt                     0.841              0.862  \n",
       "krwr_han                     0.886              0.901  \n",
       "all_word                     0.940              0.944  "
      ]
     },
     "execution_count": 128,
     "metadata": {},
     "output_type": "execute_result"
    }
   ],
   "source": [
    "df"
   ]
  },
  {
   "cell_type": "code",
   "execution_count": 131,
   "metadata": {},
   "outputs": [],
   "source": [
    "df=pd.read_excel('./data/model/svc_accuracy.xlsx')\n",
    "dff=pd.read_excel('./data/model/svc_accuracy_add.xlsx')"
   ]
  },
  {
   "cell_type": "code",
   "execution_count": 143,
   "metadata": {},
   "outputs": [],
   "source": [
    "df_table = pd.concat([df,dff], axis=0)"
   ]
  },
  {
   "cell_type": "code",
   "execution_count": 145,
   "metadata": {},
   "outputs": [],
   "source": [
    "#엑셀파일 저장\n",
    "writer = pd.ExcelWriter('./data/model/svc_accuracy_ver2.xlsx', engine='xlsxwriter')  #경로 각자에 맞게 변경\n",
    "df_table.to_excel(writer)\n",
    "writer.save()"
   ]
  },
  {
   "cell_type": "code",
   "execution_count": null,
   "metadata": {},
   "outputs": [],
   "source": []
  },
  {
   "cell_type": "code",
   "execution_count": null,
   "metadata": {},
   "outputs": [],
   "source": [
    "'''{'svc__C': 100, 'svc__kernel': 'linear'} 0.9289029362387364'''\n",
    "pred=grid_cv_pipe.predict(X_test)\n",
    "print(\"예측 정확도 : {0:.3f}\".format(accuracy_score(y_test,pred)))"
   ]
  },
  {
   "cell_type": "code",
   "execution_count": null,
   "metadata": {},
   "outputs": [],
   "source": [
    "'''{'svc__C': 100, 'svc__kernel': 'sigmoid'} 0.9348274916915065'''\n",
    "pred=grid_cv_pipe.predict(X_test)\n",
    "print(\"예측 정확도 : {0:.3f}\".format(accuracy_score(y_test,pred)))"
   ]
  },
  {
   "cell_type": "code",
   "execution_count": null,
   "metadata": {},
   "outputs": [],
   "source": [
    "'''{'svc__C': 10, 'svc__kernel': 'rbf'} 0.8835407887073012'''\n",
    "pred=grid_cv_pipe.predict(X_test)\n",
    "print(\"예측 정확도 : {0:.3f}\".format(accuracy_score(y_test,pred)))\n",
    "sorted(grid_cv_pipe.cv_results_.keys())"
   ]
  },
  {
   "cell_type": "code",
   "execution_count": null,
   "metadata": {},
   "outputs": [],
   "source": []
  },
  {
   "cell_type": "code",
   "execution_count": null,
   "metadata": {},
   "outputs": [],
   "source": []
  },
  {
   "cell_type": "code",
   "execution_count": null,
   "metadata": {},
   "outputs": [],
   "source": [
    "pipe_rf = Pipeline([('tfidf', tfidf),\n",
    "                    ('rf', RandomForestClassifier(random_state=42))])\n",
    "\n",
    "grid_rf={\n",
    "    'rf__criterion':['gini']\n",
    "}\n",
    "\n",
    "grid_cv_rf = GridSearchCV(pipe_rf, param_grid=grid_rf, scoring='accuracy', verbose=1)\n",
    "grid_cv_rf.fit(X_train, y_train)\n",
    "print(grid_cv_rf.best_params_, grid_cv_rf.best_score_)"
   ]
  },
  {
   "cell_type": "code",
   "execution_count": null,
   "metadata": {},
   "outputs": [],
   "source": [
    "'''0.8885397608524344'''\n",
    "pred=grid_cv_rf.predict(X_test)\n",
    "print(\"예측 정확도 : {0:.3f}\".format(accuracy_score(y_test,pred)))"
   ]
  },
  {
   "cell_type": "code",
   "execution_count": null,
   "metadata": {},
   "outputs": [],
   "source": []
  },
  {
   "cell_type": "code",
   "execution_count": null,
   "metadata": {},
   "outputs": [],
   "source": []
  },
  {
   "cell_type": "markdown",
   "metadata": {},
   "source": [
    "# pipeline (randomforest, knn, svm(sigmoid), LinearSVC)\n",
    "tfidf.fit(사업개요 all_word + 과제 all_word)\n"
   ]
  },
  {
   "cell_type": "code",
   "execution_count": 175,
   "metadata": {},
   "outputs": [],
   "source": [
    "from sklearn.model_selection import GridSearchCV\n",
    "from sklearn.pipeline import Pipeline , make_pipeline\n",
    "from sklearn.preprocessing import StandardScaler  ,OneHotEncoder\n",
    "from sklearn.compose import ColumnTransformer\n",
    "from sklearn.multiclass import OneVsRestClassifier\n",
    "\n",
    "from sklearn.impute import SimpleImputer\n",
    "##\n",
    "from sklearn import preprocessing\n",
    "from sklearn.model_selection import cross_val_score , ShuffleSplit\n",
    "from sklearn import metrics\n",
    "from sklearn.metrics import roc_curve , roc_auc_score , f1_score , classification_report, recall_score, precision_score\n",
    "from sklearn.metrics import *\n",
    "## plot\n",
    "import matplotlib.pyplot as plt\n",
    "import pandas as pd\n",
    "import seaborn as sns\n",
    "import numpy as np\n",
    "from sklearn.model_selection import train_test_split\n",
    "from sklearn import datasets\n",
    "\n",
    "##Model classification\n",
    "from sklearn.ensemble import RandomForestClassifier\n",
    "from sklearn.linear_model import LogisticRegression \n",
    "from sklearn.discriminant_analysis import QuadraticDiscriminantAnalysis as QDA\n",
    "from sklearn.discriminant_analysis import LinearDiscriminantAnalysis as LDA\n",
    "from sklearn.ensemble import GradientBoostingClassifier as GBM\n",
    "from sklearn.neighbors import KNeighborsClassifier as KNN\n",
    "from sklearn.svm import SVC\n",
    "from sklearn.linear_model import RidgeClassifier \n"
   ]
  },
  {
   "cell_type": "code",
   "execution_count": 210,
   "metadata": {},
   "outputs": [
    {
     "data": {
      "text/plain": [
       "TfidfVectorizer(min_df=5, ngram_range=(1, 2), sublinear_tf=True)"
      ]
     },
     "execution_count": 210,
     "metadata": {},
     "output_type": "execute_result"
    }
   ],
   "source": [
    "X_train, X_test, y_train, y_test = train_test_split(company['all_word'], company.category,\\\n",
    "                                                    shuffle=True, random_state=1, \\\n",
    "                                                    stratify = company.category)\n",
    "\n",
    "\n",
    "#comp_word=company['all_word'].tolist()\n",
    "X_train_pd=pd.DataFrame(X_train)\n",
    "comp_word=X_train_pd['all_word'].tolist()\n",
    "sup_word=support['all_word'].tolist()\n",
    "word_list=list(set(comp_word+sup_word))\n",
    "\n",
    "tfidf = TfidfVectorizer(analyzer = 'word', ngram_range = (1,2), min_df =5, sublinear_tf = True)\n",
    "tfidf.fit(word_list)"
   ]
  },
  {
   "cell_type": "code",
   "execution_count": 222,
   "metadata": {},
   "outputs": [],
   "source": [
    "pipe_svc=Pipeline([('tfidf', tfidf),\n",
    "                   ('clf', SVC(random_state=42))])\n",
    "\n",
    "pipe_lisvc=Pipeline([('tfidf', tfidf),\n",
    "                     ('clf', LinearSVC(random_state=42))])\n",
    "\n",
    "pipe_rf = Pipeline([('tfidf', tfidf),\n",
    "                    ('clf', RandomForestClassifier(random_state=42))])\n",
    "\n",
    "pipe_knn = Pipeline([('tfidf', tfidf),\n",
    "                    ('clf', KNeighborsClassifier())])\n",
    "\n",
    "\n",
    "#GridSearch 파라미터 설정\n",
    "grid_param_svc = {\n",
    "    'clf__C':[10],\n",
    "    'clf__kernel':['linear','sigmoid'],\n",
    "    'clf__gamma':[1]\n",
    "}\n",
    "\n",
    "\n",
    "grid_param_lisvc={\n",
    "    'clf__C':[1000],\n",
    "    'clf__penalty':['l2'],\n",
    "    'clf__max_iter':[500]\n",
    "}\n",
    "\n",
    "grid_param_rf={\n",
    "    'clf__criterion': ['gini', 'entropy'],\n",
    "    'clf__max_leaf_nodes': [16, 64, 128, 256],\n",
    "    'clf__max_depth': np.linspace(1, 32, 2),\n",
    "    'clf__n_estimators': np.arange(100, 1000, 300),\n",
    "    'clf__oob_score':[True]\n",
    "}\n",
    "\n",
    "\n",
    "grid_param_knn={\n",
    "    'clf__n_neighbors':[1,3,5],\n",
    "    'clf__algorithm':['auto'],\n",
    "    'clf__weights':['uniform', 'distance'],\n",
    "    'clf__leaf_size':[1, 2, 3, 4, 5, 10]\n",
    "}\n",
    "\n",
    "pipe = [pipe_svc, pipe_lisvc, pipe_rf , pipe_knn]\n",
    "params = [grid_param_svc, grid_param_lisvc, grid_param_rf, grid_param_knn]\n",
    "\n",
    "scoring = {\n",
    "    'AUC': 'roc_auc', \n",
    "    'Accuracy': make_scorer(accuracy_score)\n",
    "}\n",
    "\n",
    "grid_dict = {0: 'SVC_sigmoid', \n",
    "             1: 'Linear SVC', \n",
    "             3: 'Random Forest',\n",
    "             4: 'KNNClassifier'}\n",
    "\n",
    "accuracy_list=[]\n",
    "best_params_list=[]\n",
    "best_score_list=[]\n",
    "\n"
   ]
  },
  {
   "cell_type": "code",
   "execution_count": 223,
   "metadata": {},
   "outputs": [
    {
     "name": "stdout",
     "output_type": "stream",
     "text": [
      "###Pipeline(steps=[('tfidf',\n",
      "                 TfidfVectorizer(min_df=5, ngram_range=(1, 2),\n",
      "                                 sublinear_tf=True)),\n",
      "                ('clf', SVC(random_state=42))])###\n",
      "Accuracy Score : 0.947\n",
      "Classification Report\n",
      "              precision    recall  f1-score   support\n",
      "\n",
      "           0       0.97      0.99      0.98      1210\n",
      "           1       0.88      0.76      0.81       189\n",
      "           2       0.00      0.00      0.00         1\n",
      "           3       0.00      0.00      0.00         3\n",
      "           4       1.00      1.00      1.00        18\n",
      "           5       0.91      0.92      0.92       371\n",
      "           6       1.00      0.22      0.36         9\n",
      "\n",
      "    accuracy                           0.95      1801\n",
      "   macro avg       0.68      0.56      0.58      1801\n",
      "weighted avg       0.94      0.95      0.94      1801\n",
      "\n"
     ]
    },
    {
     "name": "stderr",
     "output_type": "stream",
     "text": [
      "C:\\Users\\user\\anaconda3\\lib\\site-packages\\sklearn\\metrics\\_classification.py:1221: UndefinedMetricWarning: Precision and F-score are ill-defined and being set to 0.0 in labels with no predicted samples. Use `zero_division` parameter to control this behavior.\n",
      "  _warn_prf(average, modifier, msg_start, len(result))\n",
      "C:\\Users\\user\\anaconda3\\lib\\site-packages\\sklearn\\svm\\_base.py:976: ConvergenceWarning: Liblinear failed to converge, increase the number of iterations.\n",
      "  warnings.warn(\"Liblinear failed to converge, increase \"\n"
     ]
    },
    {
     "name": "stdout",
     "output_type": "stream",
     "text": [
      "###Pipeline(steps=[('tfidf',\n",
      "                 TfidfVectorizer(min_df=5, ngram_range=(1, 2),\n",
      "                                 sublinear_tf=True)),\n",
      "                ('clf', LinearSVC(random_state=42))])###\n",
      "Accuracy Score : 0.944\n",
      "Classification Report\n",
      "              precision    recall  f1-score   support\n",
      "\n",
      "           0       0.96      0.99      0.98      1210\n",
      "           1       0.88      0.74      0.80       189\n",
      "           2       0.00      0.00      0.00         1\n",
      "           3       0.00      0.00      0.00         3\n",
      "           4       1.00      1.00      1.00        18\n",
      "           5       0.90      0.92      0.91       371\n",
      "           6       1.00      0.33      0.50         9\n",
      "\n",
      "    accuracy                           0.94      1801\n",
      "   macro avg       0.68      0.57      0.60      1801\n",
      "weighted avg       0.94      0.94      0.94      1801\n",
      "\n",
      "###Pipeline(steps=[('tfidf',\n",
      "                 TfidfVectorizer(min_df=5, ngram_range=(1, 2),\n",
      "                                 sublinear_tf=True)),\n",
      "                ('clf', RandomForestClassifier(random_state=42))])###\n",
      "Accuracy Score : 0.848\n",
      "Classification Report\n",
      "              precision    recall  f1-score   support\n",
      "\n",
      "           0       0.82      1.00      0.90      1210\n",
      "           1       1.00      0.35      0.52       189\n",
      "           2       0.00      0.00      0.00         1\n",
      "           3       0.00      0.00      0.00         3\n",
      "           4       1.00      0.28      0.43        18\n",
      "           5       0.97      0.67      0.79       371\n",
      "           6       0.00      0.00      0.00         9\n",
      "\n",
      "    accuracy                           0.85      1801\n",
      "   macro avg       0.54      0.33      0.38      1801\n",
      "weighted avg       0.87      0.85      0.83      1801\n",
      "\n"
     ]
    },
    {
     "name": "stderr",
     "output_type": "stream",
     "text": [
      "C:\\Users\\user\\anaconda3\\lib\\site-packages\\sklearn\\metrics\\_classification.py:1221: UndefinedMetricWarning: Precision and F-score are ill-defined and being set to 0.0 in labels with no predicted samples. Use `zero_division` parameter to control this behavior.\n",
      "  _warn_prf(average, modifier, msg_start, len(result))\n"
     ]
    },
    {
     "name": "stdout",
     "output_type": "stream",
     "text": [
      "###Pipeline(steps=[('tfidf',\n",
      "                 TfidfVectorizer(min_df=5, ngram_range=(1, 2),\n",
      "                                 sublinear_tf=True)),\n",
      "                ('clf', KNeighborsClassifier())])###\n",
      "Accuracy Score : 0.836\n",
      "Classification Report\n",
      "              precision    recall  f1-score   support\n",
      "\n",
      "           0       0.86      0.94      0.90      1210\n",
      "           1       0.79      0.50      0.61       189\n",
      "           2       0.00      0.00      0.00         1\n",
      "           3       1.00      0.33      0.50         3\n",
      "           4       0.89      0.94      0.92        18\n",
      "           5       0.74      0.69      0.71       371\n",
      "           6       1.00      0.44      0.62         9\n",
      "\n",
      "    accuracy                           0.84      1801\n",
      "   macro avg       0.76      0.55      0.61      1801\n",
      "weighted avg       0.83      0.84      0.83      1801\n",
      "\n"
     ]
    },
    {
     "name": "stderr",
     "output_type": "stream",
     "text": [
      "C:\\Users\\user\\anaconda3\\lib\\site-packages\\sklearn\\metrics\\_classification.py:1221: UndefinedMetricWarning: Precision and F-score are ill-defined and being set to 0.0 in labels with no predicted samples. Use `zero_division` parameter to control this behavior.\n",
      "  _warn_prf(average, modifier, msg_start, len(result))\n"
     ]
    }
   ],
   "source": [
    "\n",
    "# create the Kfold object\n",
    "kfold = KFold(n_splits=5, random_state=42)\n",
    "cv_df=pd.DataFrame()\n",
    "\n",
    "\n",
    "for idx , (param , model) in enumerate(zip(params , pipe)) :\n",
    "    search = GridSearchCV(model, param, cv=kfold, scoring='accuracy', n_jobs=-1)\n",
    "    search.fit(X_train , y_train)\n",
    "    y_pred = search.predict(X_test)\n",
    "    accuracy_list.append(np.round(accuracy_score(y_pred, y_test),3))\n",
    "    best_params_list.append(search.best_params_)\n",
    "    best_score_list.append(search.best_score_)\n",
    "    \n",
    "    temp_df=pd.DataFrame(search.cv_results_)\n",
    "    cv_df=pd.concat([cv_df,temp_df], axis=0)\n",
    "    \n",
    "    print('###%s###'%model)    \n",
    "    print(\"Accuracy Score : {0:.3f}\".format(accuracy_score(y_pred, y_test)))\n",
    "    print('Classification Report')\n",
    "    print(classification_report(y_test, y_pred))\n",
    "\n",
    "\n",
    "    \n",
    "#######model Prediction 결과#########\n",
    "pipe2_df=pd.DataFrame({'accuracy':accuracy_list,\n",
    "                      'best_params':best_params_list,\n",
    "                      'best_score':best_score_list},index=grid_dict.values())\n",
    "    \n"
   ]
  },
  {
   "cell_type": "code",
   "execution_count": 226,
   "metadata": {},
   "outputs": [
    {
     "data": {
      "text/html": [
       "<div>\n",
       "<style scoped>\n",
       "    .dataframe tbody tr th:only-of-type {\n",
       "        vertical-align: middle;\n",
       "    }\n",
       "\n",
       "    .dataframe tbody tr th {\n",
       "        vertical-align: top;\n",
       "    }\n",
       "\n",
       "    .dataframe thead th {\n",
       "        text-align: right;\n",
       "    }\n",
       "</style>\n",
       "<table border=\"1\" class=\"dataframe\">\n",
       "  <thead>\n",
       "    <tr style=\"text-align: right;\">\n",
       "      <th></th>\n",
       "      <th>accuracy</th>\n",
       "      <th>best_params</th>\n",
       "      <th>best_score</th>\n",
       "    </tr>\n",
       "  </thead>\n",
       "  <tbody>\n",
       "    <tr>\n",
       "      <th>SVC_sigmoid</th>\n",
       "      <td>0.947</td>\n",
       "      <td>{'clf__C': 10, 'clf__gamma': 1, 'clf__kernel':...</td>\n",
       "      <td>0.933717</td>\n",
       "    </tr>\n",
       "    <tr>\n",
       "      <th>Linear SVC</th>\n",
       "      <td>0.944</td>\n",
       "      <td>{'clf__C': 1000, 'clf__max_iter': 500, 'clf__p...</td>\n",
       "      <td>0.932977</td>\n",
       "    </tr>\n",
       "    <tr>\n",
       "      <th>Random Forest</th>\n",
       "      <td>0.848</td>\n",
       "      <td>{'clf__criterion': 'gini', 'clf__max_depth': 3...</td>\n",
       "      <td>0.851138</td>\n",
       "    </tr>\n",
       "    <tr>\n",
       "      <th>KNNClassifier</th>\n",
       "      <td>0.836</td>\n",
       "      <td>{'clf__algorithm': 'auto', 'clf__leaf_size': 1...</td>\n",
       "      <td>0.820590</td>\n",
       "    </tr>\n",
       "  </tbody>\n",
       "</table>\n",
       "</div>"
      ],
      "text/plain": [
       "               accuracy                                        best_params  \\\n",
       "SVC_sigmoid       0.947  {'clf__C': 10, 'clf__gamma': 1, 'clf__kernel':...   \n",
       "Linear SVC        0.944  {'clf__C': 1000, 'clf__max_iter': 500, 'clf__p...   \n",
       "Random Forest     0.848  {'clf__criterion': 'gini', 'clf__max_depth': 3...   \n",
       "KNNClassifier     0.836  {'clf__algorithm': 'auto', 'clf__leaf_size': 1...   \n",
       "\n",
       "               best_score  \n",
       "SVC_sigmoid      0.933717  \n",
       "Linear SVC       0.932977  \n",
       "Random Forest    0.851138  \n",
       "KNNClassifier    0.820590  "
      ]
     },
     "execution_count": 226,
     "metadata": {},
     "output_type": "execute_result"
    }
   ],
   "source": [
    "pipe2_df"
   ]
  },
  {
   "cell_type": "markdown",
   "metadata": {},
   "source": [
    "4가지 알고리즘 돌려서 가장 성능 좋은 알고리즘 찾기  \n",
    "tfidf : 사업개요 all_word + 과제 all_word"
   ]
  },
  {
   "cell_type": "code",
   "execution_count": 227,
   "metadata": {},
   "outputs": [],
   "source": [
    "#엑셀파일 저장\n",
    "writer = pd.ExcelWriter('./data/model/all_word_pipeline.xlsx', engine='xlsxwriter')  #경로 각자에 맞게 변경\n",
    "pipe2_df.to_excel(writer)\n",
    "writer.save()"
   ]
  },
  {
   "cell_type": "code",
   "execution_count": null,
   "metadata": {},
   "outputs": [],
   "source": []
  },
  {
   "cell_type": "markdown",
   "metadata": {},
   "source": [
    "------"
   ]
  },
  {
   "cell_type": "markdown",
   "metadata": {},
   "source": [
    "svc, svm 알고리즘 성능이 가장 좋음  \n",
    "tfidif 경우에 따라 성능 측정하기"
   ]
  },
  {
   "cell_type": "code",
   "execution_count": 228,
   "metadata": {},
   "outputs": [
    {
     "data": {
      "text/plain": [
       "Index(['내역사업명', 'title', '연구목표', '연구내용', '기대효과', '사업명', '부처명', '지역구분',\n",
       "       '6T관련기술분류', '국가전략기술', '한글키워드', '영문키워드', '과제관리(전문)기관명', '연구', '연구_okt',\n",
       "       '연구_hannanum', '연구_krwordrank', '연구_kkma', 'krwr_okt', 'krwr_han',\n",
       "       'all_word', 'category', 'okt_han_krwrhan', 'han_krwrhan'],\n",
       "      dtype='object')"
      ]
     },
     "execution_count": 228,
     "metadata": {},
     "output_type": "execute_result"
    }
   ],
   "source": [
    "company.columns"
   ]
  },
  {
   "cell_type": "code",
   "execution_count": 229,
   "metadata": {},
   "outputs": [],
   "source": [
    "# okt_han_krwrhan 이름에 kkma가 안들어가서 애매하므로 okt_han_kkma_krwrhan로 변경\n",
    "company.rename(columns={'okt_han_krwrhan':'okt_han_kkma_krwrhan'}, inplace=True)"
   ]
  },
  {
   "cell_type": "code",
   "execution_count": 249,
   "metadata": {},
   "outputs": [
    {
     "name": "stdout",
     "output_type": "stream",
     "text": [
      "{0: '내역사업명', 1: 'title', 2: '연구목표', 3: '연구내용', 4: '기대효과', 5: '사업명', 6: '부처명', 7: '지역구분', 8: '6T관련기술분류', 9: '국가전략기술', 10: '한글키워드', 11: '영문키워드', 12: '과제관리(전문)기관명', 13: '연구', 14: '연구_okt', 15: '연구_hannanum', 16: '연구_krwordrank', 17: '연구_kkma', 18: 'krwr_okt', 19: 'krwr_han', 20: 'all_word', 21: 'category', 22: 'okt_han_kkma_krwrhan', 23: 'han_krwrhan', 24: 'okt_han_kkma'}\n"
     ]
    }
   ],
   "source": [
    "col_ind_dict = dict(enumerate(company.columns))\n",
    "print(col_ind_dict)"
   ]
  },
  {
   "cell_type": "code",
   "execution_count": 274,
   "metadata": {},
   "outputs": [],
   "source": [
    "col_ind_dict = dict(enumerate(company.columns))\n",
    "\n",
    "def make_new_col(*col_index, col_name):\n",
    "    col_index_list=[]\n",
    "    for t in col_index:\n",
    "        col_index_list.append(t)\n",
    "        if t == col_index[-1]:\n",
    "            print(col_ind_dict[t],'=============')\n",
    "        else:\n",
    "            print('=============',col_ind_dict[t], end=' + ')\n",
    "             \n",
    "    company[col_name]=''\n",
    "    for i in tqdm_notebook(range(company.shape[0])):\n",
    "        comp_word_list=[]\n",
    "        for j in col_index_list:\n",
    "            temp=company.iloc[i,j]\n",
    "            comp_word_list.append(temp)\n",
    "            comp_word_list=' '.join(comp_word_list)\n",
    "            comp_word_list=list(set(comp_word_list.split()))\n",
    "        company[col_name].iloc[i]=' '.join(comp_word_list)\n",
    "    print('=============컬럼추가 완료=============')"
   ]
  },
  {
   "cell_type": "code",
   "execution_count": 275,
   "metadata": {},
   "outputs": [
    {
     "name": "stdout",
     "output_type": "stream",
     "text": [
      "============= 연구_okt + ============= 연구_hannanum + 연구_kkma =============\n"
     ]
    },
    {
     "name": "stderr",
     "output_type": "stream",
     "text": [
      "<ipython-input-274-07c1fe892f05>:13: TqdmDeprecationWarning: This function will be removed in tqdm==5.0.0\n",
      "Please use `tqdm.notebook.tqdm` instead of `tqdm.tqdm_notebook`\n",
      "  for i in tqdm_notebook(range(company.shape[0])):\n"
     ]
    },
    {
     "data": {
      "application/vnd.jupyter.widget-view+json": {
       "model_id": "9fbd1f1c80ea421984289dc51ee12e2f",
       "version_major": 2,
       "version_minor": 0
      },
      "text/plain": [
       "HBox(children=(HTML(value=''), FloatProgress(value=0.0, max=7202.0), HTML(value='')))"
      ]
     },
     "metadata": {},
     "output_type": "display_data"
    },
    {
     "name": "stderr",
     "output_type": "stream",
     "text": [
      "C:\\Users\\user\\anaconda3\\lib\\site-packages\\pandas\\core\\indexing.py:670: SettingWithCopyWarning: \n",
      "A value is trying to be set on a copy of a slice from a DataFrame\n",
      "\n",
      "See the caveats in the documentation: https://pandas.pydata.org/pandas-docs/stable/user_guide/indexing.html#returning-a-view-versus-a-copy\n",
      "  iloc._setitem_with_indexer(indexer, value)\n"
     ]
    },
    {
     "name": "stdout",
     "output_type": "stream",
     "text": [
      "\n",
      "=============컬럼추가 완료=============\n",
      "============= krwr_okt + krwr_han =============\n"
     ]
    },
    {
     "data": {
      "application/vnd.jupyter.widget-view+json": {
       "model_id": "98a82c9925de40f8a7e7d50903e916bf",
       "version_major": 2,
       "version_minor": 0
      },
      "text/plain": [
       "HBox(children=(HTML(value=''), FloatProgress(value=0.0, max=7202.0), HTML(value='')))"
      ]
     },
     "metadata": {},
     "output_type": "display_data"
    },
    {
     "name": "stdout",
     "output_type": "stream",
     "text": [
      "\n",
      "=============컬럼추가 완료=============\n",
      "============= 연구_okt + 연구_hannanum =============\n"
     ]
    },
    {
     "data": {
      "application/vnd.jupyter.widget-view+json": {
       "model_id": "554eb5aecbe64d5ebcf3c0174698d9f7",
       "version_major": 2,
       "version_minor": 0
      },
      "text/plain": [
       "HBox(children=(HTML(value=''), FloatProgress(value=0.0, max=7202.0), HTML(value='')))"
      ]
     },
     "metadata": {},
     "output_type": "display_data"
    },
    {
     "name": "stdout",
     "output_type": "stream",
     "text": [
      "\n",
      "=============컬럼추가 완료=============\n",
      "============= 연구_okt + ============= 연구_hannanum + krwr_han =============\n"
     ]
    },
    {
     "data": {
      "application/vnd.jupyter.widget-view+json": {
       "model_id": "0081db746f8a41e8b0c6ed62571be9e9",
       "version_major": 2,
       "version_minor": 0
      },
      "text/plain": [
       "HBox(children=(HTML(value=''), FloatProgress(value=0.0, max=7202.0), HTML(value='')))"
      ]
     },
     "metadata": {},
     "output_type": "display_data"
    },
    {
     "name": "stdout",
     "output_type": "stream",
     "text": [
      "\n",
      "=============컬럼추가 완료=============\n"
     ]
    }
   ],
   "source": [
    "'''\n",
    "14: '연구_okt', 15: '연구_hannanum',\n",
    "16: '연구_krwordrank', 17: '연구_kkma',\n",
    "18: 'krwr_okt', 19: 'krwr_han'\n",
    "'''\n",
    "#okt_han_kkma\n",
    "make_new_col(14,15,17,col_name='okt_han_kkma')\n",
    "\n",
    "#okt+han+kkma+krwr_han 이미 추가되어 있음\n",
    "\n",
    "#krwr_okt + krwr_han\n",
    "make_new_col(18,19,col_name='krwrokt_krwrhan')\n",
    "\n",
    "#okt + hannanum\n",
    "make_new_col(14,15,col_name='okt_hannanum')\n",
    "\n",
    "#okt + hannanum + krwr_han\n",
    "make_new_col(14,15,19,col_name='okt_han_krwrhan')\n",
    "\n",
    "\n",
    "\n",
    "\n"
   ]
  },
  {
   "cell_type": "code",
   "execution_count": 276,
   "metadata": {},
   "outputs": [
    {
     "data": {
      "text/html": [
       "<div>\n",
       "<style scoped>\n",
       "    .dataframe tbody tr th:only-of-type {\n",
       "        vertical-align: middle;\n",
       "    }\n",
       "\n",
       "    .dataframe tbody tr th {\n",
       "        vertical-align: top;\n",
       "    }\n",
       "\n",
       "    .dataframe thead th {\n",
       "        text-align: right;\n",
       "    }\n",
       "</style>\n",
       "<table border=\"1\" class=\"dataframe\">\n",
       "  <thead>\n",
       "    <tr style=\"text-align: right;\">\n",
       "      <th></th>\n",
       "      <th>내역사업명</th>\n",
       "      <th>title</th>\n",
       "      <th>연구목표</th>\n",
       "      <th>연구내용</th>\n",
       "      <th>기대효과</th>\n",
       "      <th>사업명</th>\n",
       "      <th>부처명</th>\n",
       "      <th>지역구분</th>\n",
       "      <th>6T관련기술분류</th>\n",
       "      <th>국가전략기술</th>\n",
       "      <th>...</th>\n",
       "      <th>연구_kkma</th>\n",
       "      <th>krwr_okt</th>\n",
       "      <th>krwr_han</th>\n",
       "      <th>all_word</th>\n",
       "      <th>category</th>\n",
       "      <th>okt_han_kkma_krwrhan</th>\n",
       "      <th>okt_han_kkma</th>\n",
       "      <th>krwrokt_krwrhan</th>\n",
       "      <th>okt_hannanum</th>\n",
       "      <th>okt_han_krwrhan</th>\n",
       "    </tr>\n",
       "  </thead>\n",
       "  <tbody>\n",
       "    <tr>\n",
       "      <th>0</th>\n",
       "      <td>2020년도 창업성장기술개발사업 전략형 창업과제 BIG3 제1차 시행계획 공고</td>\n",
       "      <td>전략형창업과제</td>\n",
       "      <td>적용 모터 분석 구동부 설계 궤도 설계 차체설계 및 제작 샤시설계 및 제작 전장 시...</td>\n",
       "      <td>적용 모터 분석 전기자동차 적용 모터 분석 및 최적화 모델 검색 감속기 적용 감속비...</td>\n",
       "      <td>프로토 타입 제작 완료를 통한제품 성능평가 제품 설계 완성 및 조립도 완성 샤시와 ...</td>\n",
       "      <td>창업성장기술개발 R D</td>\n",
       "      <td>중소벤처기업부</td>\n",
       "      <td>경기</td>\n",
       "      <td>위의 미래유망신기술 6T 103개 세분류에 속하지 않는 기타 연구</td>\n",
       "      <td>스마트 자동차 기술</td>\n",
       "      <td>...</td>\n",
       "      <td>감속기 big 다목적 프로그래밍 pto ux smart 모델링 multipurpos...</td>\n",
       "      <td>와이어 로봇 컨트롤러 주행 인터페이스 프로그래밍 공장 카티아 충전 ui multip...</td>\n",
       "      <td>현가장치 로봇 컨트롤러 물리적 용접포인트 4ir 인터페이스 외부충격 프로그래밍 인허...</td>\n",
       "      <td>작동부 동력전달 용접 4ir 속하지 생산성 하우징 cell 차연도 설계도서 와이어 ...</td>\n",
       "      <td>0</td>\n",
       "      <td>공고프로토 모터부 자동차 주행 구동부 하네스 계산한 차연도 car 용접 big 미래...</td>\n",
       "      <td>자동차 공고프로토 모터부 구동부 주행 하네스 car 용접 big 미래유망신기술 시스...</td>\n",
       "      <td>자동차 ui 컨트롤러 성능평가 로봇 주행 대비한 구동부 와이어링 하네스 multip...</td>\n",
       "      <td>자동차 공고프로토 모터부 주행 구동부 하네스 car 용접 big 미래유망신기술 베터...</td>\n",
       "      <td>자동차 공고프로토 모터부 구동부 주행 하네스 car 용접 big 미래유망신기술 카티...</td>\n",
       "    </tr>\n",
       "    <tr>\n",
       "      <th>1</th>\n",
       "      <td>2019년도 창업성장기술개발사업 혁신형 창업과제 민간투자연계형 제1차 시행계획 공고</td>\n",
       "      <td>개발자 없이 O2O 플랫폼 서비스를 창업할 수 있는 클라우드 인프라 솔루션 상용화 개발</td>\n",
       "      <td>사용자 주문 조합형 백엔드 모듈 개발 각 사용자 니즈에 따른 맞춤 DB 추가 기술 ...</td>\n",
       "      <td>사용자 주문 조합형 백엔드 모듈 개발 서비스 주문 방식에 따른 데이터베이스 설계 D...</td>\n",
       "      <td>O2O 플랫폼 서비스 아이디어가 있는데 개발자를 구하기 어렵고 자본도 부족한 창업자...</td>\n",
       "      <td>창업성장기술개발 R D</td>\n",
       "      <td>중소벤처기업부</td>\n",
       "      <td>광주</td>\n",
       "      <td>기타 정보처리시스템 및 S W 기술</td>\n",
       "      <td>시스템 SW 운영 및 기반 기술</td>\n",
       "      <td>...</td>\n",
       "      <td>컴포넌트 create script 엔드 치환 동적 백오피스 클라우드 소프트웨어 ap...</td>\n",
       "      <td>소프트웨어 object 멀티 element DB delete sw 클라우드 css ...</td>\n",
       "      <td>작업2019년 element 소프트웨어 object 멀티 역치환 생성 delete ...</td>\n",
       "      <td>역치환 CSS 클라우드 수정하기 웹페이지 멀티 형태로 혼용하여 생성 json ui빌...</td>\n",
       "      <td>0</td>\n",
       "      <td>delete 방식들 민간투자연계형 작성된 table cloud uiux 구성한 다기...</td>\n",
       "      <td>delete 방식들 민간투자연계형 table cloud uiux 다기 구성한 obj...</td>\n",
       "      <td>delete script ui sql update 민간투자연계형 orm soluti...</td>\n",
       "      <td>delete 방식들 민간투자연계형 table cloud uiux 다기 구성한 obj...</td>\n",
       "      <td>delete 방식들 민간투자연계형 table cloud uiux 다기 구성한 obj...</td>\n",
       "    </tr>\n",
       "    <tr>\n",
       "      <th>2</th>\n",
       "      <td>2020년도 창업성장기술개발사업 디딤돌 창업과제 첫걸음 제1차 시행계획 수정 공고</td>\n",
       "      <td>디딤돌창업과제 전자감응자가기동 표적기</td>\n",
       "      <td>현 자동화 사격훈련 장비 시스템 현 자동화 실탄사격장은 사수가 사격 후 표적기에 위...</td>\n",
       "      <td>현재 주관연구기관은 특허기반으로 개발 한 무선통신방식의 PCB보드를 기반으 로 하는...</td>\n",
       "      <td>선행연구과제 실증을 통해 개발 완료 된 자동화 사격장비 기술을 바탕으로 Ultras...</td>\n",
       "      <td>창업성장기술개발 R D</td>\n",
       "      <td>중소벤처기업부</td>\n",
       "      <td>세종</td>\n",
       "      <td>기타 정보기술</td>\n",
       "      <td>국방 스마트 플랫폼 및 무인화 지능화 기술</td>\n",
       "      <td>...</td>\n",
       "      <td>tool 사격 기동 통제 bar 경찰 모듈 계열 방위 근간 양궁 object 탄환 ...</td>\n",
       "      <td>이미지 와이어 tool 모양 상대 양궁 fusion ultrasonic object...</td>\n",
       "      <td>와이어리스자가기동 전처리 이미지 가시화용 tool 모양 양궁 fusion ultra...</td>\n",
       "      <td>표적기현 목표물의 진보시키는 bar 스포츠 표적크기 연구과제 초음파모듈센서 it 가...</td>\n",
       "      <td>0</td>\n",
       "      <td>판매가 렌더링 표적시스템 이미지프로세싱 실증을 가시 특허기반 감응 사격장 이루도록 ...</td>\n",
       "      <td>판매가 렌더링 표적시스템 이미지프로세싱 가시 특허기반 감응 사격장 object 수가...</td>\n",
       "      <td>렌더링 가시 특허기반 object 저렴 bar 카메라 초음파 플랫폼 센서 모양 이미...</td>\n",
       "      <td>판매가 렌더링 표적시스템 이미지프로세싱 가시 특허기반 감응 사격장 object 센서...</td>\n",
       "      <td>판매가 렌더링 표적시스템 이미지프로세싱 가시 특허기반 감응 사격장 object 센서...</td>\n",
       "    </tr>\n",
       "    <tr>\n",
       "      <th>3</th>\n",
       "      <td>2019년도 창업성장기술개발사업 디딤돌 창업과제 제3차 시행계획 공고</td>\n",
       "      <td>디딤돌 창업과제</td>\n",
       "      <td>의료 재생의학용 3D 바이오 프린팅 지지체 제작을 위해 150 m 해상도로 프린팅이...</td>\n",
       "      <td>돈피 유래 아텔로콜라겐 추출 정제 공정 최적화 및 수율 개선 의료 재생용 아텔로콜라...</td>\n",
       "      <td>본 연구를 통해 개발하고자 하는 의료 재생용 3D 바이오 프린팅용 바이오 잉크의 최...</td>\n",
       "      <td>창업성장기술개발 R D</td>\n",
       "      <td>중소벤처기업부</td>\n",
       "      <td>경기</td>\n",
       "      <td>생체조직 재생기술</td>\n",
       "      <td>바이오 및 생체공학 기반 인공장기 기술</td>\n",
       "      <td>...</td>\n",
       "      <td>bioink 의료 구조체 growth 속도 첨가 세계적 질환 거부 연구소 명시 수율...</td>\n",
       "      <td>이식 성형 장기 kda 아틸 치료 세포 재생 기성 발전 세계 생물학 axis pri...</td>\n",
       "      <td>이식 세계적 kda 아틸 재현성 치료 세포 재생 물리학적 기성 발전 3D 창업성장기...</td>\n",
       "      <td>240 가능성 의료적 고려하여 정제 직선 제품개발 해상도bioink 더불어 유래 최...</td>\n",
       "      <td>0</td>\n",
       "      <td>아틸 재생의학 원활 다양성 재생용 의약품 240 필요한 세포 인공장기 인공 기술바이...</td>\n",
       "      <td>아틸 재생의학 원활 다양성 재생용 의약품 240 세포 인공장기 인공 기술바이오잉크 ...</td>\n",
       "      <td>아틸 다양성 원활 의약품 240 세포 인공장기 인공 다품종 개개인 차별화 명시 치료...</td>\n",
       "      <td>아틸 재생의학 원활 다양성 재생용 의약품 240 세포 인공장기 인공 기술바이오잉크 ...</td>\n",
       "      <td>아틸 재생의학 원활 다양성 재생용 의약품 240 세포 인공장기 인공 기술바이오잉크 ...</td>\n",
       "    </tr>\n",
       "    <tr>\n",
       "      <th>4</th>\n",
       "      <td>2019년도 창업성장기술개발사업 디딤돌 창업과제 제3차 시행계획 공고</td>\n",
       "      <td>디딤돌 창업과제</td>\n",
       "      <td>의료 재생의학용 3D 바이오 프린팅 지지체 제작을 위해 150 m 해상도로 프린팅이...</td>\n",
       "      <td>돈피 유래 아텔로콜라겐 추출 정제 공정 최적화 및 수율 개선 의료 재생용 아텔로콜라...</td>\n",
       "      <td>본 연구를 통해 개발하고자 하는 의료 재생용 3D 바이오 프린팅용 바이오 잉크의 최...</td>\n",
       "      <td>창업성장기술개발 R D</td>\n",
       "      <td>중소벤처기업부</td>\n",
       "      <td>강원</td>\n",
       "      <td>위의 미래유망신기술 6T 103개 세분류에 속하지 않는 기타 연구</td>\n",
       "      <td>재난현장 소방구조 장비 시스템 기술</td>\n",
       "      <td>...</td>\n",
       "      <td>스키 방재 의료 구조체 설비 growth 속도 첨가 세계적 질환 skipping 거...</td>\n",
       "      <td>이식 성형 kda 아틸 소방방 치료 재생 세포 건축 기성 발전 prevention ...</td>\n",
       "      <td>이식 세계적 kda 아틸 재현성 치료 세포 재생 물리학적 기성 발전 preventi...</td>\n",
       "      <td>240 가능성 의료적 고려하여 정제 직선 제품개발 더불어 유래 스키핑현상 현상 최적...</td>\n",
       "      <td>0</td>\n",
       "      <td>아틸 재생의학 원활 다양성 재생용 의약품 240 필요한 세포 다품종 개개인 스키 조...</td>\n",
       "      <td>아틸 재생의학 원활 다양성 재생용 의약품 240 세포 다품종 개개인 스키 조직재생용...</td>\n",
       "      <td>아틸 다양성 원활 의약품 240 세포 다품종 개개인 스키 차별화 명시 치료 prev...</td>\n",
       "      <td>아틸 재생의학 원활 다양성 재생용 의약품 240 세포 다품종 개개인 스키 조직재생용...</td>\n",
       "      <td>아틸 재생의학 원활 다양성 재생용 의약품 240 세포 다품종 개개인 스키 조직재생용...</td>\n",
       "    </tr>\n",
       "  </tbody>\n",
       "</table>\n",
       "<p>5 rows × 27 columns</p>\n",
       "</div>"
      ],
      "text/plain": [
       "                                            내역사업명  \\\n",
       "0     2020년도 창업성장기술개발사업 전략형 창업과제 BIG3 제1차 시행계획 공고   \n",
       "1  2019년도 창업성장기술개발사업 혁신형 창업과제 민간투자연계형 제1차 시행계획 공고   \n",
       "2   2020년도 창업성장기술개발사업 디딤돌 창업과제 첫걸음 제1차 시행계획 수정 공고   \n",
       "3          2019년도 창업성장기술개발사업 디딤돌 창업과제 제3차 시행계획 공고   \n",
       "4          2019년도 창업성장기술개발사업 디딤돌 창업과제 제3차 시행계획 공고   \n",
       "\n",
       "                                              title  \\\n",
       "0                                           전략형창업과제   \n",
       "1  개발자 없이 O2O 플랫폼 서비스를 창업할 수 있는 클라우드 인프라 솔루션 상용화 개발   \n",
       "2                              디딤돌창업과제 전자감응자가기동 표적기   \n",
       "3                                          디딤돌 창업과제   \n",
       "4                                          디딤돌 창업과제   \n",
       "\n",
       "                                                연구목표  \\\n",
       "0  적용 모터 분석 구동부 설계 궤도 설계 차체설계 및 제작 샤시설계 및 제작 전장 시...   \n",
       "1  사용자 주문 조합형 백엔드 모듈 개발 각 사용자 니즈에 따른 맞춤 DB 추가 기술 ...   \n",
       "2  현 자동화 사격훈련 장비 시스템 현 자동화 실탄사격장은 사수가 사격 후 표적기에 위...   \n",
       "3  의료 재생의학용 3D 바이오 프린팅 지지체 제작을 위해 150 m 해상도로 프린팅이...   \n",
       "4  의료 재생의학용 3D 바이오 프린팅 지지체 제작을 위해 150 m 해상도로 프린팅이...   \n",
       "\n",
       "                                                연구내용  \\\n",
       "0  적용 모터 분석 전기자동차 적용 모터 분석 및 최적화 모델 검색 감속기 적용 감속비...   \n",
       "1  사용자 주문 조합형 백엔드 모듈 개발 서비스 주문 방식에 따른 데이터베이스 설계 D...   \n",
       "2  현재 주관연구기관은 특허기반으로 개발 한 무선통신방식의 PCB보드를 기반으 로 하는...   \n",
       "3  돈피 유래 아텔로콜라겐 추출 정제 공정 최적화 및 수율 개선 의료 재생용 아텔로콜라...   \n",
       "4  돈피 유래 아텔로콜라겐 추출 정제 공정 최적화 및 수율 개선 의료 재생용 아텔로콜라...   \n",
       "\n",
       "                                                기대효과           사업명      부처명  \\\n",
       "0  프로토 타입 제작 완료를 통한제품 성능평가 제품 설계 완성 및 조립도 완성 샤시와 ...  창업성장기술개발 R D  중소벤처기업부   \n",
       "1  O2O 플랫폼 서비스 아이디어가 있는데 개발자를 구하기 어렵고 자본도 부족한 창업자...  창업성장기술개발 R D  중소벤처기업부   \n",
       "2  선행연구과제 실증을 통해 개발 완료 된 자동화 사격장비 기술을 바탕으로 Ultras...  창업성장기술개발 R D  중소벤처기업부   \n",
       "3  본 연구를 통해 개발하고자 하는 의료 재생용 3D 바이오 프린팅용 바이오 잉크의 최...  창업성장기술개발 R D  중소벤처기업부   \n",
       "4  본 연구를 통해 개발하고자 하는 의료 재생용 3D 바이오 프린팅용 바이오 잉크의 최...  창업성장기술개발 R D  중소벤처기업부   \n",
       "\n",
       "  지역구분                              6T관련기술분류                   국가전략기술  ...  \\\n",
       "0   경기  위의 미래유망신기술 6T 103개 세분류에 속하지 않는 기타 연구               스마트 자동차 기술  ...   \n",
       "1   광주                   기타 정보처리시스템 및 S W 기술        시스템 SW 운영 및 기반 기술  ...   \n",
       "2   세종                               기타 정보기술  국방 스마트 플랫폼 및 무인화 지능화 기술  ...   \n",
       "3   경기                             생체조직 재생기술    바이오 및 생체공학 기반 인공장기 기술  ...   \n",
       "4   강원  위의 미래유망신기술 6T 103개 세분류에 속하지 않는 기타 연구      재난현장 소방구조 장비 시스템 기술  ...   \n",
       "\n",
       "                                             연구_kkma  \\\n",
       "0  감속기 big 다목적 프로그래밍 pto ux smart 모델링 multipurpos...   \n",
       "1  컴포넌트 create script 엔드 치환 동적 백오피스 클라우드 소프트웨어 ap...   \n",
       "2  tool 사격 기동 통제 bar 경찰 모듈 계열 방위 근간 양궁 object 탄환 ...   \n",
       "3  bioink 의료 구조체 growth 속도 첨가 세계적 질환 거부 연구소 명시 수율...   \n",
       "4  스키 방재 의료 구조체 설비 growth 속도 첨가 세계적 질환 skipping 거...   \n",
       "\n",
       "                                            krwr_okt  \\\n",
       "0  와이어 로봇 컨트롤러 주행 인터페이스 프로그래밍 공장 카티아 충전 ui multip...   \n",
       "1  소프트웨어 object 멀티 element DB delete sw 클라우드 css ...   \n",
       "2  이미지 와이어 tool 모양 상대 양궁 fusion ultrasonic object...   \n",
       "3  이식 성형 장기 kda 아틸 치료 세포 재생 기성 발전 세계 생물학 axis pri...   \n",
       "4  이식 성형 kda 아틸 소방방 치료 재생 세포 건축 기성 발전 prevention ...   \n",
       "\n",
       "                                            krwr_han  \\\n",
       "0  현가장치 로봇 컨트롤러 물리적 용접포인트 4ir 인터페이스 외부충격 프로그래밍 인허...   \n",
       "1  작업2019년 element 소프트웨어 object 멀티 역치환 생성 delete ...   \n",
       "2  와이어리스자가기동 전처리 이미지 가시화용 tool 모양 양궁 fusion ultra...   \n",
       "3  이식 세계적 kda 아틸 재현성 치료 세포 재생 물리학적 기성 발전 3D 창업성장기...   \n",
       "4  이식 세계적 kda 아틸 재현성 치료 세포 재생 물리학적 기성 발전 preventi...   \n",
       "\n",
       "                                            all_word category  \\\n",
       "0  작동부 동력전달 용접 4ir 속하지 생산성 하우징 cell 차연도 설계도서 와이어 ...        0   \n",
       "1  역치환 CSS 클라우드 수정하기 웹페이지 멀티 형태로 혼용하여 생성 json ui빌...        0   \n",
       "2  표적기현 목표물의 진보시키는 bar 스포츠 표적크기 연구과제 초음파모듈센서 it 가...        0   \n",
       "3  240 가능성 의료적 고려하여 정제 직선 제품개발 해상도bioink 더불어 유래 최...        0   \n",
       "4  240 가능성 의료적 고려하여 정제 직선 제품개발 더불어 유래 스키핑현상 현상 최적...        0   \n",
       "\n",
       "                                okt_han_kkma_krwrhan  \\\n",
       "0  공고프로토 모터부 자동차 주행 구동부 하네스 계산한 차연도 car 용접 big 미래...   \n",
       "1  delete 방식들 민간투자연계형 작성된 table cloud uiux 구성한 다기...   \n",
       "2  판매가 렌더링 표적시스템 이미지프로세싱 실증을 가시 특허기반 감응 사격장 이루도록 ...   \n",
       "3  아틸 재생의학 원활 다양성 재생용 의약품 240 필요한 세포 인공장기 인공 기술바이...   \n",
       "4  아틸 재생의학 원활 다양성 재생용 의약품 240 필요한 세포 다품종 개개인 스키 조...   \n",
       "\n",
       "                                        okt_han_kkma  \\\n",
       "0  자동차 공고프로토 모터부 구동부 주행 하네스 car 용접 big 미래유망신기술 시스...   \n",
       "1  delete 방식들 민간투자연계형 table cloud uiux 다기 구성한 obj...   \n",
       "2  판매가 렌더링 표적시스템 이미지프로세싱 가시 특허기반 감응 사격장 object 수가...   \n",
       "3  아틸 재생의학 원활 다양성 재생용 의약품 240 세포 인공장기 인공 기술바이오잉크 ...   \n",
       "4  아틸 재생의학 원활 다양성 재생용 의약품 240 세포 다품종 개개인 스키 조직재생용...   \n",
       "\n",
       "                                     krwrokt_krwrhan  \\\n",
       "0  자동차 ui 컨트롤러 성능평가 로봇 주행 대비한 구동부 와이어링 하네스 multip...   \n",
       "1  delete script ui sql update 민간투자연계형 orm soluti...   \n",
       "2  렌더링 가시 특허기반 object 저렴 bar 카메라 초음파 플랫폼 센서 모양 이미...   \n",
       "3  아틸 다양성 원활 의약품 240 세포 인공장기 인공 다품종 개개인 차별화 명시 치료...   \n",
       "4  아틸 다양성 원활 의약품 240 세포 다품종 개개인 스키 차별화 명시 치료 prev...   \n",
       "\n",
       "                                        okt_hannanum  \\\n",
       "0  자동차 공고프로토 모터부 주행 구동부 하네스 car 용접 big 미래유망신기술 베터...   \n",
       "1  delete 방식들 민간투자연계형 table cloud uiux 다기 구성한 obj...   \n",
       "2  판매가 렌더링 표적시스템 이미지프로세싱 가시 특허기반 감응 사격장 object 센서...   \n",
       "3  아틸 재생의학 원활 다양성 재생용 의약품 240 세포 인공장기 인공 기술바이오잉크 ...   \n",
       "4  아틸 재생의학 원활 다양성 재생용 의약품 240 세포 다품종 개개인 스키 조직재생용...   \n",
       "\n",
       "                                     okt_han_krwrhan  \n",
       "0  자동차 공고프로토 모터부 구동부 주행 하네스 car 용접 big 미래유망신기술 카티...  \n",
       "1  delete 방식들 민간투자연계형 table cloud uiux 다기 구성한 obj...  \n",
       "2  판매가 렌더링 표적시스템 이미지프로세싱 가시 특허기반 감응 사격장 object 센서...  \n",
       "3  아틸 재생의학 원활 다양성 재생용 의약품 240 세포 인공장기 인공 기술바이오잉크 ...  \n",
       "4  아틸 재생의학 원활 다양성 재생용 의약품 240 세포 다품종 개개인 스키 조직재생용...  \n",
       "\n",
       "[5 rows x 27 columns]"
      ]
     },
     "execution_count": 276,
     "metadata": {},
     "output_type": "execute_result"
    }
   ],
   "source": [
    "company.head()"
   ]
  },
  {
   "cell_type": "code",
   "execution_count": 306,
   "metadata": {},
   "outputs": [],
   "source": [
    "#엑셀파일 저장\n",
    "writer = pd.ExcelWriter('./data/model/company_all_token_210222.xlsx', engine='xlsxwriter')  #경로 각자에 맞게 변경\n",
    "company.to_excel(writer)\n",
    "writer.save()"
   ]
  },
  {
   "cell_type": "code",
   "execution_count": 292,
   "metadata": {},
   "outputs": [],
   "source": [
    "pipe_svc=Pipeline([\n",
    "    ('tfidf', tfidf),\n",
    "    ('svc', SVC(random_state=42))\n",
    "])\n",
    "\n",
    "grid_param_svc={\n",
    "    'svc__C':[1,10,100,1000],\n",
    "    'svc__kernel':['sigmoid', 'linear'],\n",
    "    'svc__gamma':[0.001,0.01,0.1,1]\n",
    "}\n",
    "\n",
    "pipe_lisvc=Pipeline([\n",
    "    ('tfidf', tfidf),\n",
    "    ('svc', LinearSVC(random_state=42))\n",
    "])\n",
    "\n",
    "grid_param_lisvc={\n",
    "    'svc__C':[1,10,100,1000],\n",
    "    'svc__penalty':['l1', 'l2'],\n",
    "    'svc__max_iter':[500,1000,1500,2000]\n",
    "}\n",
    "\n",
    "pipe=[pipe_svc,pipe_lisvc]\n",
    "params=[grid_param_svc,grid_param_lisvc]\n"
   ]
  },
  {
   "cell_type": "code",
   "execution_count": 294,
   "metadata": {},
   "outputs": [
    {
     "name": "stderr",
     "output_type": "stream",
     "text": [
      "<ipython-input-294-d3cead370d29>:13: TqdmDeprecationWarning: This function will be removed in tqdm==5.0.0\n",
      "Please use `tqdm.notebook.tqdm` instead of `tqdm.tqdm_notebook`\n",
      "  for ind in tqdm_notebook(train_col_list):\n"
     ]
    },
    {
     "data": {
      "application/vnd.jupyter.widget-view+json": {
       "model_id": "d3cea28c0a5943838e6fb5ec37ee42d1",
       "version_major": 2,
       "version_minor": 0
      },
      "text/plain": [
       "HBox(children=(HTML(value=''), FloatProgress(value=0.0, max=7.0), HTML(value='')))"
      ]
     },
     "metadata": {},
     "output_type": "display_data"
    },
    {
     "name": "stderr",
     "output_type": "stream",
     "text": [
      "[Parallel(n_jobs=1)]: Using backend SequentialBackend with 1 concurrent workers.\n"
     ]
    },
    {
     "name": "stdout",
     "output_type": "stream",
     "text": [
      "#############okt_han_kkma 컬럼#############\n",
      "<model>\n",
      "Pipeline(steps=[('tfidf',\n",
      "                 TfidfVectorizer(min_df=5, ngram_range=(1, 2),\n",
      "                                 sublinear_tf=True)),\n",
      "                ('svc', SVC(random_state=42))])\n",
      "Fitting 5 folds for each of 32 candidates, totalling 160 fits\n"
     ]
    },
    {
     "name": "stderr",
     "output_type": "stream",
     "text": [
      "[Parallel(n_jobs=1)]: Done 160 out of 160 | elapsed: 120.3min finished\n"
     ]
    },
    {
     "name": "stdout",
     "output_type": "stream",
     "text": [
      "Accuracy Score : 0.954\n",
      "              precision    recall  f1-score   support\n",
      "\n",
      "           0       0.97      0.99      0.98      1210\n",
      "           1       0.89      0.83      0.85       189\n",
      "           2       0.00      0.00      0.00         1\n",
      "           3       0.00      0.00      0.00         3\n",
      "           4       1.00      0.94      0.97        18\n",
      "           5       0.93      0.93      0.93       371\n",
      "           6       1.00      0.22      0.36         9\n",
      "\n",
      "    accuracy                           0.95      1801\n",
      "   macro avg       0.68      0.56      0.59      1801\n",
      "weighted avg       0.95      0.95      0.95      1801\n",
      "\n",
      "=====알고리즘 완료=====\n",
      "<model>\n",
      "Pipeline(steps=[('tfidf',\n",
      "                 TfidfVectorizer(min_df=5, ngram_range=(1, 2),\n",
      "                                 sublinear_tf=True)),\n",
      "                ('svc', LinearSVC(random_state=42))])\n",
      "Fitting 5 folds for each of 32 candidates, totalling 160 fits\n"
     ]
    },
    {
     "name": "stderr",
     "output_type": "stream",
     "text": [
      "C:\\Users\\user\\anaconda3\\lib\\site-packages\\sklearn\\metrics\\_classification.py:1221: UndefinedMetricWarning: Precision and F-score are ill-defined and being set to 0.0 in labels with no predicted samples. Use `zero_division` parameter to control this behavior.\n",
      "  _warn_prf(average, modifier, msg_start, len(result))\n",
      "[Parallel(n_jobs=1)]: Using backend SequentialBackend with 1 concurrent workers.\n",
      "C:\\Users\\user\\anaconda3\\lib\\site-packages\\sklearn\\model_selection\\_validation.py:548: FitFailedWarning: Estimator fit failed. The score on this train-test partition for these parameters will be set to nan. Details: \n",
      "Traceback (most recent call last):\n",
      "  File \"C:\\Users\\user\\anaconda3\\lib\\site-packages\\sklearn\\model_selection\\_validation.py\", line 531, in _fit_and_score\n",
      "    estimator.fit(X_train, y_train, **fit_params)\n",
      "  File \"C:\\Users\\user\\anaconda3\\lib\\site-packages\\sklearn\\pipeline.py\", line 335, in fit\n",
      "    self._final_estimator.fit(Xt, y, **fit_params_last_step)\n",
      "  File \"C:\\Users\\user\\anaconda3\\lib\\site-packages\\sklearn\\svm\\_classes.py\", line 233, in fit\n",
      "    self.coef_, self.intercept_, self.n_iter_ = _fit_liblinear(\n",
      "  File \"C:\\Users\\user\\anaconda3\\lib\\site-packages\\sklearn\\svm\\_base.py\", line 965, in _fit_liblinear\n",
      "    solver_type = _get_liblinear_solver_type(multi_class, penalty, loss, dual)\n",
      "  File \"C:\\Users\\user\\anaconda3\\lib\\site-packages\\sklearn\\svm\\_base.py\", line 821, in _get_liblinear_solver_type\n",
      "    raise ValueError('Unsupported set of arguments: %s, '\n",
      "ValueError: Unsupported set of arguments: The combination of penalty='l1' and loss='squared_hinge' are not supported when dual=True, Parameters: penalty='l1', loss='squared_hinge', dual=True\n",
      "\n",
      "  warnings.warn(\"Estimator fit failed. The score on this train-test\"\n",
      "C:\\Users\\user\\anaconda3\\lib\\site-packages\\sklearn\\svm\\_base.py:976: ConvergenceWarning: Liblinear failed to converge, increase the number of iterations.\n",
      "  warnings.warn(\"Liblinear failed to converge, increase \"\n",
      "[Parallel(n_jobs=1)]: Done 160 out of 160 | elapsed: 14.1min finished\n"
     ]
    },
    {
     "name": "stdout",
     "output_type": "stream",
     "text": [
      "Accuracy Score : 0.955\n",
      "              precision    recall  f1-score   support\n",
      "\n",
      "           0       0.97      0.99      0.98      1210\n",
      "           1       0.90      0.80      0.85       189\n",
      "           2       0.00      0.00      0.00         1\n",
      "           3       0.00      0.00      0.00         3\n",
      "           4       1.00      1.00      1.00        18\n",
      "           5       0.93      0.93      0.93       371\n",
      "           6       1.00      0.33      0.50         9\n",
      "\n",
      "    accuracy                           0.96      1801\n",
      "   macro avg       0.69      0.58      0.61      1801\n",
      "weighted avg       0.95      0.96      0.95      1801\n",
      "\n",
      "=====알고리즘 완료=====\n",
      "#############okt_han_kkma_krwrhan 컬럼#############\n",
      "<model>\n",
      "Pipeline(steps=[('tfidf',\n",
      "                 TfidfVectorizer(min_df=5, ngram_range=(1, 2),\n",
      "                                 sublinear_tf=True)),\n",
      "                ('svc', SVC(random_state=42))])\n",
      "Fitting 5 folds for each of 32 candidates, totalling 160 fits\n"
     ]
    },
    {
     "name": "stderr",
     "output_type": "stream",
     "text": [
      "[Parallel(n_jobs=1)]: Using backend SequentialBackend with 1 concurrent workers.\n",
      "[Parallel(n_jobs=1)]: Done 160 out of 160 | elapsed: 125.2min finished\n"
     ]
    },
    {
     "name": "stdout",
     "output_type": "stream",
     "text": [
      "Accuracy Score : 0.951\n",
      "              precision    recall  f1-score   support\n",
      "\n",
      "           0       0.97      0.99      0.98      1210\n",
      "           1       0.90      0.78      0.83       189\n",
      "           2       0.00      0.00      0.00         1\n",
      "           3       0.00      0.00      0.00         3\n",
      "           4       1.00      1.00      1.00        18\n",
      "           5       0.92      0.92      0.92       371\n",
      "           6       1.00      0.22      0.36         9\n",
      "\n",
      "    accuracy                           0.95      1801\n",
      "   macro avg       0.68      0.56      0.59      1801\n",
      "weighted avg       0.95      0.95      0.95      1801\n",
      "\n",
      "=====알고리즘 완료=====\n",
      "<model>\n",
      "Pipeline(steps=[('tfidf',\n",
      "                 TfidfVectorizer(min_df=5, ngram_range=(1, 2),\n",
      "                                 sublinear_tf=True)),\n",
      "                ('svc', LinearSVC(random_state=42))])\n",
      "Fitting 5 folds for each of 32 candidates, totalling 160 fits\n"
     ]
    },
    {
     "name": "stderr",
     "output_type": "stream",
     "text": [
      "C:\\Users\\user\\anaconda3\\lib\\site-packages\\sklearn\\metrics\\_classification.py:1221: UndefinedMetricWarning: Precision and F-score are ill-defined and being set to 0.0 in labels with no predicted samples. Use `zero_division` parameter to control this behavior.\n",
      "  _warn_prf(average, modifier, msg_start, len(result))\n",
      "[Parallel(n_jobs=1)]: Using backend SequentialBackend with 1 concurrent workers.\n",
      "C:\\Users\\user\\anaconda3\\lib\\site-packages\\sklearn\\model_selection\\_validation.py:548: FitFailedWarning: Estimator fit failed. The score on this train-test partition for these parameters will be set to nan. Details: \n",
      "Traceback (most recent call last):\n",
      "  File \"C:\\Users\\user\\anaconda3\\lib\\site-packages\\sklearn\\model_selection\\_validation.py\", line 531, in _fit_and_score\n",
      "    estimator.fit(X_train, y_train, **fit_params)\n",
      "  File \"C:\\Users\\user\\anaconda3\\lib\\site-packages\\sklearn\\pipeline.py\", line 335, in fit\n",
      "    self._final_estimator.fit(Xt, y, **fit_params_last_step)\n",
      "  File \"C:\\Users\\user\\anaconda3\\lib\\site-packages\\sklearn\\svm\\_classes.py\", line 233, in fit\n",
      "    self.coef_, self.intercept_, self.n_iter_ = _fit_liblinear(\n",
      "  File \"C:\\Users\\user\\anaconda3\\lib\\site-packages\\sklearn\\svm\\_base.py\", line 965, in _fit_liblinear\n",
      "    solver_type = _get_liblinear_solver_type(multi_class, penalty, loss, dual)\n",
      "  File \"C:\\Users\\user\\anaconda3\\lib\\site-packages\\sklearn\\svm\\_base.py\", line 821, in _get_liblinear_solver_type\n",
      "    raise ValueError('Unsupported set of arguments: %s, '\n",
      "ValueError: Unsupported set of arguments: The combination of penalty='l1' and loss='squared_hinge' are not supported when dual=True, Parameters: penalty='l1', loss='squared_hinge', dual=True\n",
      "\n",
      "  warnings.warn(\"Estimator fit failed. The score on this train-test\"\n",
      "C:\\Users\\user\\anaconda3\\lib\\site-packages\\sklearn\\svm\\_base.py:976: ConvergenceWarning: Liblinear failed to converge, increase the number of iterations.\n",
      "  warnings.warn(\"Liblinear failed to converge, increase \"\n",
      "[Parallel(n_jobs=1)]: Done 160 out of 160 | elapsed: 15.0min finished\n"
     ]
    },
    {
     "name": "stdout",
     "output_type": "stream",
     "text": [
      "Accuracy Score : 0.952\n",
      "              precision    recall  f1-score   support\n",
      "\n",
      "           0       0.97      0.99      0.98      1210\n",
      "           1       0.91      0.76      0.82       189\n",
      "           2       0.00      0.00      0.00         1\n",
      "           3       0.00      0.00      0.00         3\n",
      "           4       1.00      1.00      1.00        18\n",
      "           5       0.92      0.94      0.93       371\n",
      "           6       1.00      0.33      0.50         9\n",
      "\n",
      "    accuracy                           0.95      1801\n",
      "   macro avg       0.68      0.57      0.60      1801\n",
      "weighted avg       0.95      0.95      0.95      1801\n",
      "\n",
      "=====알고리즘 완료=====\n",
      "#############연구_krwordrank 컬럼#############\n",
      "<model>\n",
      "Pipeline(steps=[('tfidf',\n",
      "                 TfidfVectorizer(min_df=5, ngram_range=(1, 2),\n",
      "                                 sublinear_tf=True)),\n",
      "                ('svc', SVC(random_state=42))])\n",
      "Fitting 5 folds for each of 32 candidates, totalling 160 fits\n"
     ]
    },
    {
     "name": "stderr",
     "output_type": "stream",
     "text": [
      "[Parallel(n_jobs=1)]: Using backend SequentialBackend with 1 concurrent workers.\n",
      "[Parallel(n_jobs=1)]: Done 160 out of 160 | elapsed: 62.6min finished\n"
     ]
    },
    {
     "name": "stdout",
     "output_type": "stream",
     "text": [
      "Accuracy Score : 0.896\n",
      "              precision    recall  f1-score   support\n",
      "\n",
      "           0       0.92      0.98      0.95      1210\n",
      "           1       0.81      0.62      0.70       189\n",
      "           2       0.00      0.00      0.00         1\n",
      "           3       0.00      0.00      0.00         3\n",
      "           4       1.00      0.83      0.91        18\n",
      "           5       0.85      0.80      0.82       371\n",
      "           6       1.00      0.33      0.50         9\n",
      "\n",
      "    accuracy                           0.90      1801\n",
      "   macro avg       0.65      0.51      0.55      1801\n",
      "weighted avg       0.89      0.90      0.89      1801\n",
      "\n",
      "=====알고리즘 완료=====\n",
      "<model>\n",
      "Pipeline(steps=[('tfidf',\n",
      "                 TfidfVectorizer(min_df=5, ngram_range=(1, 2),\n",
      "                                 sublinear_tf=True)),\n",
      "                ('svc', LinearSVC(random_state=42))])\n",
      "Fitting 5 folds for each of 32 candidates, totalling 160 fits\n"
     ]
    },
    {
     "name": "stderr",
     "output_type": "stream",
     "text": [
      "C:\\Users\\user\\anaconda3\\lib\\site-packages\\sklearn\\metrics\\_classification.py:1221: UndefinedMetricWarning: Precision and F-score are ill-defined and being set to 0.0 in labels with no predicted samples. Use `zero_division` parameter to control this behavior.\n",
      "  _warn_prf(average, modifier, msg_start, len(result))\n",
      "[Parallel(n_jobs=1)]: Using backend SequentialBackend with 1 concurrent workers.\n",
      "C:\\Users\\user\\anaconda3\\lib\\site-packages\\sklearn\\model_selection\\_validation.py:548: FitFailedWarning: Estimator fit failed. The score on this train-test partition for these parameters will be set to nan. Details: \n",
      "Traceback (most recent call last):\n",
      "  File \"C:\\Users\\user\\anaconda3\\lib\\site-packages\\sklearn\\model_selection\\_validation.py\", line 531, in _fit_and_score\n",
      "    estimator.fit(X_train, y_train, **fit_params)\n",
      "  File \"C:\\Users\\user\\anaconda3\\lib\\site-packages\\sklearn\\pipeline.py\", line 335, in fit\n",
      "    self._final_estimator.fit(Xt, y, **fit_params_last_step)\n",
      "  File \"C:\\Users\\user\\anaconda3\\lib\\site-packages\\sklearn\\svm\\_classes.py\", line 233, in fit\n",
      "    self.coef_, self.intercept_, self.n_iter_ = _fit_liblinear(\n",
      "  File \"C:\\Users\\user\\anaconda3\\lib\\site-packages\\sklearn\\svm\\_base.py\", line 965, in _fit_liblinear\n",
      "    solver_type = _get_liblinear_solver_type(multi_class, penalty, loss, dual)\n",
      "  File \"C:\\Users\\user\\anaconda3\\lib\\site-packages\\sklearn\\svm\\_base.py\", line 821, in _get_liblinear_solver_type\n",
      "    raise ValueError('Unsupported set of arguments: %s, '\n",
      "ValueError: Unsupported set of arguments: The combination of penalty='l1' and loss='squared_hinge' are not supported when dual=True, Parameters: penalty='l1', loss='squared_hinge', dual=True\n",
      "\n",
      "  warnings.warn(\"Estimator fit failed. The score on this train-test\"\n",
      "C:\\Users\\user\\anaconda3\\lib\\site-packages\\sklearn\\svm\\_base.py:976: ConvergenceWarning: Liblinear failed to converge, increase the number of iterations.\n",
      "  warnings.warn(\"Liblinear failed to converge, increase \"\n",
      "[Parallel(n_jobs=1)]: Done 160 out of 160 | elapsed:  7.3min finished\n"
     ]
    },
    {
     "name": "stdout",
     "output_type": "stream",
     "text": [
      "Accuracy Score : 0.901\n",
      "              precision    recall  f1-score   support\n",
      "\n",
      "           0       0.93      0.98      0.95      1210\n",
      "           1       0.80      0.62      0.70       189\n",
      "           2       0.00      0.00      0.00         1\n",
      "           3       0.00      0.00      0.00         3\n",
      "           4       1.00      0.89      0.94        18\n",
      "           5       0.85      0.81      0.83       371\n",
      "           6       1.00      0.33      0.50         9\n",
      "\n",
      "    accuracy                           0.90      1801\n",
      "   macro avg       0.65      0.52      0.56      1801\n",
      "weighted avg       0.90      0.90      0.90      1801\n",
      "\n",
      "=====알고리즘 완료=====\n",
      "#############krwrokt_krwrhan 컬럼#############\n",
      "<model>\n",
      "Pipeline(steps=[('tfidf',\n",
      "                 TfidfVectorizer(min_df=5, ngram_range=(1, 2),\n",
      "                                 sublinear_tf=True)),\n",
      "                ('svc', SVC(random_state=42))])\n",
      "Fitting 5 folds for each of 32 candidates, totalling 160 fits\n"
     ]
    },
    {
     "name": "stderr",
     "output_type": "stream",
     "text": [
      "[Parallel(n_jobs=1)]: Using backend SequentialBackend with 1 concurrent workers.\n",
      "[Parallel(n_jobs=1)]: Done 160 out of 160 | elapsed: 64.2min finished\n"
     ]
    },
    {
     "name": "stdout",
     "output_type": "stream",
     "text": [
      "Accuracy Score : 0.900\n",
      "              precision    recall  f1-score   support\n",
      "\n",
      "           0       0.92      0.98      0.95      1210\n",
      "           1       0.85      0.63      0.73       189\n",
      "           2       0.00      0.00      0.00         1\n",
      "           3       0.00      0.00      0.00         3\n",
      "           4       1.00      0.78      0.88        18\n",
      "           5       0.86      0.81      0.83       371\n",
      "           6       1.00      0.22      0.36         9\n",
      "\n",
      "    accuracy                           0.90      1801\n",
      "   macro avg       0.66      0.49      0.53      1801\n",
      "weighted avg       0.90      0.90      0.89      1801\n",
      "\n",
      "=====알고리즘 완료=====\n",
      "<model>\n",
      "Pipeline(steps=[('tfidf',\n",
      "                 TfidfVectorizer(min_df=5, ngram_range=(1, 2),\n",
      "                                 sublinear_tf=True)),\n",
      "                ('svc', LinearSVC(random_state=42))])\n",
      "Fitting 5 folds for each of 32 candidates, totalling 160 fits\n"
     ]
    },
    {
     "name": "stderr",
     "output_type": "stream",
     "text": [
      "C:\\Users\\user\\anaconda3\\lib\\site-packages\\sklearn\\metrics\\_classification.py:1221: UndefinedMetricWarning: Precision and F-score are ill-defined and being set to 0.0 in labels with no predicted samples. Use `zero_division` parameter to control this behavior.\n",
      "  _warn_prf(average, modifier, msg_start, len(result))\n",
      "[Parallel(n_jobs=1)]: Using backend SequentialBackend with 1 concurrent workers.\n",
      "C:\\Users\\user\\anaconda3\\lib\\site-packages\\sklearn\\model_selection\\_validation.py:548: FitFailedWarning: Estimator fit failed. The score on this train-test partition for these parameters will be set to nan. Details: \n",
      "Traceback (most recent call last):\n",
      "  File \"C:\\Users\\user\\anaconda3\\lib\\site-packages\\sklearn\\model_selection\\_validation.py\", line 531, in _fit_and_score\n",
      "    estimator.fit(X_train, y_train, **fit_params)\n",
      "  File \"C:\\Users\\user\\anaconda3\\lib\\site-packages\\sklearn\\pipeline.py\", line 335, in fit\n",
      "    self._final_estimator.fit(Xt, y, **fit_params_last_step)\n",
      "  File \"C:\\Users\\user\\anaconda3\\lib\\site-packages\\sklearn\\svm\\_classes.py\", line 233, in fit\n",
      "    self.coef_, self.intercept_, self.n_iter_ = _fit_liblinear(\n",
      "  File \"C:\\Users\\user\\anaconda3\\lib\\site-packages\\sklearn\\svm\\_base.py\", line 965, in _fit_liblinear\n",
      "    solver_type = _get_liblinear_solver_type(multi_class, penalty, loss, dual)\n",
      "  File \"C:\\Users\\user\\anaconda3\\lib\\site-packages\\sklearn\\svm\\_base.py\", line 821, in _get_liblinear_solver_type\n",
      "    raise ValueError('Unsupported set of arguments: %s, '\n",
      "ValueError: Unsupported set of arguments: The combination of penalty='l1' and loss='squared_hinge' are not supported when dual=True, Parameters: penalty='l1', loss='squared_hinge', dual=True\n",
      "\n",
      "  warnings.warn(\"Estimator fit failed. The score on this train-test\"\n",
      "C:\\Users\\user\\anaconda3\\lib\\site-packages\\sklearn\\svm\\_base.py:976: ConvergenceWarning: Liblinear failed to converge, increase the number of iterations.\n",
      "  warnings.warn(\"Liblinear failed to converge, increase \"\n",
      "[Parallel(n_jobs=1)]: Done 160 out of 160 | elapsed:  7.3min finished\n"
     ]
    },
    {
     "name": "stdout",
     "output_type": "stream",
     "text": [
      "Accuracy Score : 0.911\n",
      "              precision    recall  f1-score   support\n",
      "\n",
      "           0       0.93      0.98      0.95      1210\n",
      "           1       0.85      0.66      0.74       189\n",
      "           2       0.00      0.00      0.00         1\n",
      "           3       0.00      0.00      0.00         3\n",
      "           4       1.00      0.89      0.94        18\n",
      "           5       0.87      0.84      0.85       371\n",
      "           6       1.00      0.33      0.50         9\n",
      "\n",
      "    accuracy                           0.91      1801\n",
      "   macro avg       0.66      0.53      0.57      1801\n",
      "weighted avg       0.91      0.91      0.91      1801\n",
      "\n",
      "=====알고리즘 완료=====\n",
      "#############okt_hannanum 컬럼#############\n",
      "<model>\n",
      "Pipeline(steps=[('tfidf',\n",
      "                 TfidfVectorizer(min_df=5, ngram_range=(1, 2),\n",
      "                                 sublinear_tf=True)),\n",
      "                ('svc', SVC(random_state=42))])\n",
      "Fitting 5 folds for each of 32 candidates, totalling 160 fits\n"
     ]
    },
    {
     "name": "stderr",
     "output_type": "stream",
     "text": [
      "[Parallel(n_jobs=1)]: Using backend SequentialBackend with 1 concurrent workers.\n",
      "[Parallel(n_jobs=1)]: Done 160 out of 160 | elapsed: 112.7min finished\n"
     ]
    },
    {
     "name": "stdout",
     "output_type": "stream",
     "text": [
      "Accuracy Score : 0.947\n",
      "              precision    recall  f1-score   support\n",
      "\n",
      "           0       0.96      0.99      0.98      1210\n",
      "           1       0.88      0.77      0.82       189\n",
      "           2       0.00      0.00      0.00         1\n",
      "           3       1.00      0.33      0.50         3\n",
      "           4       1.00      0.94      0.97        18\n",
      "           5       0.91      0.92      0.92       371\n",
      "           6       1.00      0.22      0.36         9\n",
      "\n",
      "    accuracy                           0.95      1801\n",
      "   macro avg       0.82      0.60      0.65      1801\n",
      "weighted avg       0.95      0.95      0.94      1801\n",
      "\n",
      "=====알고리즘 완료=====\n",
      "<model>\n",
      "Pipeline(steps=[('tfidf',\n",
      "                 TfidfVectorizer(min_df=5, ngram_range=(1, 2),\n",
      "                                 sublinear_tf=True)),\n",
      "                ('svc', LinearSVC(random_state=42))])\n",
      "Fitting 5 folds for each of 32 candidates, totalling 160 fits\n"
     ]
    },
    {
     "name": "stderr",
     "output_type": "stream",
     "text": [
      "C:\\Users\\user\\anaconda3\\lib\\site-packages\\sklearn\\metrics\\_classification.py:1221: UndefinedMetricWarning: Precision and F-score are ill-defined and being set to 0.0 in labels with no predicted samples. Use `zero_division` parameter to control this behavior.\n",
      "  _warn_prf(average, modifier, msg_start, len(result))\n",
      "[Parallel(n_jobs=1)]: Using backend SequentialBackend with 1 concurrent workers.\n",
      "C:\\Users\\user\\anaconda3\\lib\\site-packages\\sklearn\\model_selection\\_validation.py:548: FitFailedWarning: Estimator fit failed. The score on this train-test partition for these parameters will be set to nan. Details: \n",
      "Traceback (most recent call last):\n",
      "  File \"C:\\Users\\user\\anaconda3\\lib\\site-packages\\sklearn\\model_selection\\_validation.py\", line 531, in _fit_and_score\n",
      "    estimator.fit(X_train, y_train, **fit_params)\n",
      "  File \"C:\\Users\\user\\anaconda3\\lib\\site-packages\\sklearn\\pipeline.py\", line 335, in fit\n",
      "    self._final_estimator.fit(Xt, y, **fit_params_last_step)\n",
      "  File \"C:\\Users\\user\\anaconda3\\lib\\site-packages\\sklearn\\svm\\_classes.py\", line 233, in fit\n",
      "    self.coef_, self.intercept_, self.n_iter_ = _fit_liblinear(\n",
      "  File \"C:\\Users\\user\\anaconda3\\lib\\site-packages\\sklearn\\svm\\_base.py\", line 965, in _fit_liblinear\n",
      "    solver_type = _get_liblinear_solver_type(multi_class, penalty, loss, dual)\n",
      "  File \"C:\\Users\\user\\anaconda3\\lib\\site-packages\\sklearn\\svm\\_base.py\", line 821, in _get_liblinear_solver_type\n",
      "    raise ValueError('Unsupported set of arguments: %s, '\n",
      "ValueError: Unsupported set of arguments: The combination of penalty='l1' and loss='squared_hinge' are not supported when dual=True, Parameters: penalty='l1', loss='squared_hinge', dual=True\n",
      "\n",
      "  warnings.warn(\"Estimator fit failed. The score on this train-test\"\n",
      "C:\\Users\\user\\anaconda3\\lib\\site-packages\\sklearn\\svm\\_base.py:976: ConvergenceWarning: Liblinear failed to converge, increase the number of iterations.\n",
      "  warnings.warn(\"Liblinear failed to converge, increase \"\n",
      "[Parallel(n_jobs=1)]: Done 160 out of 160 | elapsed: 13.2min finished\n"
     ]
    },
    {
     "name": "stdout",
     "output_type": "stream",
     "text": [
      "Accuracy Score : 0.948\n",
      "              precision    recall  f1-score   support\n",
      "\n",
      "           0       0.97      0.99      0.98      1210\n",
      "           1       0.89      0.76      0.82       189\n",
      "           2       0.00      0.00      0.00         1\n",
      "           3       1.00      0.33      0.50         3\n",
      "           4       1.00      1.00      1.00        18\n",
      "           5       0.91      0.92      0.92       371\n",
      "           6       1.00      0.33      0.50         9\n",
      "\n",
      "    accuracy                           0.95      1801\n",
      "   macro avg       0.82      0.62      0.67      1801\n",
      "weighted avg       0.95      0.95      0.95      1801\n",
      "\n",
      "=====알고리즘 완료=====\n",
      "#############okt_han_krwrhan 컬럼#############\n",
      "<model>\n",
      "Pipeline(steps=[('tfidf',\n",
      "                 TfidfVectorizer(min_df=5, ngram_range=(1, 2),\n",
      "                                 sublinear_tf=True)),\n",
      "                ('svc', SVC(random_state=42))])\n",
      "Fitting 5 folds for each of 32 candidates, totalling 160 fits\n"
     ]
    },
    {
     "name": "stderr",
     "output_type": "stream",
     "text": [
      "[Parallel(n_jobs=1)]: Using backend SequentialBackend with 1 concurrent workers.\n",
      "[Parallel(n_jobs=1)]: Done 160 out of 160 | elapsed: 114.1min finished\n"
     ]
    },
    {
     "name": "stdout",
     "output_type": "stream",
     "text": [
      "Accuracy Score : 0.947\n",
      "              precision    recall  f1-score   support\n",
      "\n",
      "           0       0.96      0.99      0.98      1210\n",
      "           1       0.88      0.76      0.82       189\n",
      "           2       0.00      0.00      0.00         1\n",
      "           3       0.00      0.00      0.00         3\n",
      "           4       1.00      0.94      0.97        18\n",
      "           5       0.91      0.92      0.92       371\n",
      "           6       1.00      0.22      0.36         9\n",
      "\n",
      "    accuracy                           0.95      1801\n",
      "   macro avg       0.68      0.55      0.58      1801\n",
      "weighted avg       0.94      0.95      0.94      1801\n",
      "\n",
      "=====알고리즘 완료=====\n",
      "<model>\n",
      "Pipeline(steps=[('tfidf',\n",
      "                 TfidfVectorizer(min_df=5, ngram_range=(1, 2),\n",
      "                                 sublinear_tf=True)),\n",
      "                ('svc', LinearSVC(random_state=42))])\n",
      "Fitting 5 folds for each of 32 candidates, totalling 160 fits\n"
     ]
    },
    {
     "name": "stderr",
     "output_type": "stream",
     "text": [
      "C:\\Users\\user\\anaconda3\\lib\\site-packages\\sklearn\\metrics\\_classification.py:1221: UndefinedMetricWarning: Precision and F-score are ill-defined and being set to 0.0 in labels with no predicted samples. Use `zero_division` parameter to control this behavior.\n",
      "  _warn_prf(average, modifier, msg_start, len(result))\n",
      "[Parallel(n_jobs=1)]: Using backend SequentialBackend with 1 concurrent workers.\n",
      "C:\\Users\\user\\anaconda3\\lib\\site-packages\\sklearn\\model_selection\\_validation.py:548: FitFailedWarning: Estimator fit failed. The score on this train-test partition for these parameters will be set to nan. Details: \n",
      "Traceback (most recent call last):\n",
      "  File \"C:\\Users\\user\\anaconda3\\lib\\site-packages\\sklearn\\model_selection\\_validation.py\", line 531, in _fit_and_score\n",
      "    estimator.fit(X_train, y_train, **fit_params)\n",
      "  File \"C:\\Users\\user\\anaconda3\\lib\\site-packages\\sklearn\\pipeline.py\", line 335, in fit\n",
      "    self._final_estimator.fit(Xt, y, **fit_params_last_step)\n",
      "  File \"C:\\Users\\user\\anaconda3\\lib\\site-packages\\sklearn\\svm\\_classes.py\", line 233, in fit\n",
      "    self.coef_, self.intercept_, self.n_iter_ = _fit_liblinear(\n",
      "  File \"C:\\Users\\user\\anaconda3\\lib\\site-packages\\sklearn\\svm\\_base.py\", line 965, in _fit_liblinear\n",
      "    solver_type = _get_liblinear_solver_type(multi_class, penalty, loss, dual)\n",
      "  File \"C:\\Users\\user\\anaconda3\\lib\\site-packages\\sklearn\\svm\\_base.py\", line 821, in _get_liblinear_solver_type\n",
      "    raise ValueError('Unsupported set of arguments: %s, '\n",
      "ValueError: Unsupported set of arguments: The combination of penalty='l1' and loss='squared_hinge' are not supported when dual=True, Parameters: penalty='l1', loss='squared_hinge', dual=True\n",
      "\n",
      "  warnings.warn(\"Estimator fit failed. The score on this train-test\"\n",
      "C:\\Users\\user\\anaconda3\\lib\\site-packages\\sklearn\\svm\\_base.py:976: ConvergenceWarning: Liblinear failed to converge, increase the number of iterations.\n",
      "  warnings.warn(\"Liblinear failed to converge, increase \"\n",
      "[Parallel(n_jobs=1)]: Done 160 out of 160 | elapsed: 13.3min finished\n"
     ]
    },
    {
     "name": "stdout",
     "output_type": "stream",
     "text": [
      "Accuracy Score : 0.951\n",
      "              precision    recall  f1-score   support\n",
      "\n",
      "           0       0.97      0.99      0.98      1210\n",
      "           1       0.90      0.77      0.83       189\n",
      "           2       0.00      0.00      0.00         1\n",
      "           3       0.00      0.00      0.00         3\n",
      "           4       1.00      0.94      0.97        18\n",
      "           5       0.92      0.93      0.92       371\n",
      "           6       1.00      0.33      0.50         9\n",
      "\n",
      "    accuracy                           0.95      1801\n",
      "   macro avg       0.68      0.57      0.60      1801\n",
      "weighted avg       0.95      0.95      0.95      1801\n",
      "\n",
      "=====알고리즘 완료=====\n",
      "#############all_word 컬럼#############\n",
      "<model>\n",
      "Pipeline(steps=[('tfidf',\n",
      "                 TfidfVectorizer(min_df=5, ngram_range=(1, 2),\n",
      "                                 sublinear_tf=True)),\n",
      "                ('svc', SVC(random_state=42))])\n",
      "Fitting 5 folds for each of 32 candidates, totalling 160 fits\n"
     ]
    },
    {
     "name": "stderr",
     "output_type": "stream",
     "text": [
      "[Parallel(n_jobs=1)]: Using backend SequentialBackend with 1 concurrent workers.\n"
     ]
    },
    {
     "name": "stdout",
     "output_type": "stream",
     "text": [
      "\n"
     ]
    },
    {
     "ename": "KeyboardInterrupt",
     "evalue": "",
     "output_type": "error",
     "traceback": [
      "\u001b[1;31m---------------------------------------------------------------------------\u001b[0m",
      "\u001b[1;31mKeyboardInterrupt\u001b[0m                         Traceback (most recent call last)",
      "\u001b[1;32m<ipython-input-294-d3cead370d29>\u001b[0m in \u001b[0;36m<module>\u001b[1;34m\u001b[0m\n\u001b[0;32m     21\u001b[0m         \u001b[0mprint\u001b[0m\u001b[1;33m(\u001b[0m\u001b[0mmodel\u001b[0m\u001b[1;33m)\u001b[0m\u001b[1;33m\u001b[0m\u001b[1;33m\u001b[0m\u001b[0m\n\u001b[0;32m     22\u001b[0m         \u001b[0msearch\u001b[0m \u001b[1;33m=\u001b[0m\u001b[0mGridSearchCV\u001b[0m\u001b[1;33m(\u001b[0m\u001b[0mmodel\u001b[0m\u001b[1;33m,\u001b[0m \u001b[0mparam\u001b[0m\u001b[1;33m,\u001b[0m \u001b[0mcv\u001b[0m\u001b[1;33m=\u001b[0m\u001b[0mkfold\u001b[0m\u001b[1;33m,\u001b[0m \u001b[0mscoring\u001b[0m\u001b[1;33m=\u001b[0m\u001b[1;34m'accuracy'\u001b[0m\u001b[1;33m,\u001b[0m \u001b[0mverbose\u001b[0m\u001b[1;33m=\u001b[0m\u001b[1;36m1\u001b[0m\u001b[1;33m)\u001b[0m\u001b[1;33m\u001b[0m\u001b[1;33m\u001b[0m\u001b[0m\n\u001b[1;32m---> 23\u001b[1;33m         \u001b[0msearch\u001b[0m\u001b[1;33m.\u001b[0m\u001b[0mfit\u001b[0m\u001b[1;33m(\u001b[0m\u001b[0mX_train\u001b[0m\u001b[1;33m,\u001b[0m \u001b[0my_train\u001b[0m\u001b[1;33m)\u001b[0m\u001b[1;33m\u001b[0m\u001b[1;33m\u001b[0m\u001b[0m\n\u001b[0m\u001b[0;32m     24\u001b[0m         \u001b[0mpred_y\u001b[0m \u001b[1;33m=\u001b[0m \u001b[0msearch\u001b[0m\u001b[1;33m.\u001b[0m\u001b[0mpredict\u001b[0m\u001b[1;33m(\u001b[0m\u001b[0mX_test\u001b[0m\u001b[1;33m)\u001b[0m\u001b[1;33m\u001b[0m\u001b[1;33m\u001b[0m\u001b[0m\n\u001b[0;32m     25\u001b[0m         \u001b[0maccuracy\u001b[0m\u001b[1;33m=\u001b[0m\u001b[0maccuracy_score\u001b[0m\u001b[1;33m(\u001b[0m\u001b[0mpred_y\u001b[0m\u001b[1;33m,\u001b[0m \u001b[0my_test\u001b[0m\u001b[1;33m)\u001b[0m\u001b[1;33m\u001b[0m\u001b[1;33m\u001b[0m\u001b[0m\n",
      "\u001b[1;32m~\\anaconda3\\lib\\site-packages\\sklearn\\utils\\validation.py\u001b[0m in \u001b[0;36minner_f\u001b[1;34m(*args, **kwargs)\u001b[0m\n\u001b[0;32m     70\u001b[0m                           FutureWarning)\n\u001b[0;32m     71\u001b[0m         \u001b[0mkwargs\u001b[0m\u001b[1;33m.\u001b[0m\u001b[0mupdate\u001b[0m\u001b[1;33m(\u001b[0m\u001b[1;33m{\u001b[0m\u001b[0mk\u001b[0m\u001b[1;33m:\u001b[0m \u001b[0marg\u001b[0m \u001b[1;32mfor\u001b[0m \u001b[0mk\u001b[0m\u001b[1;33m,\u001b[0m \u001b[0marg\u001b[0m \u001b[1;32min\u001b[0m \u001b[0mzip\u001b[0m\u001b[1;33m(\u001b[0m\u001b[0msig\u001b[0m\u001b[1;33m.\u001b[0m\u001b[0mparameters\u001b[0m\u001b[1;33m,\u001b[0m \u001b[0margs\u001b[0m\u001b[1;33m)\u001b[0m\u001b[1;33m}\u001b[0m\u001b[1;33m)\u001b[0m\u001b[1;33m\u001b[0m\u001b[1;33m\u001b[0m\u001b[0m\n\u001b[1;32m---> 72\u001b[1;33m         \u001b[1;32mreturn\u001b[0m \u001b[0mf\u001b[0m\u001b[1;33m(\u001b[0m\u001b[1;33m**\u001b[0m\u001b[0mkwargs\u001b[0m\u001b[1;33m)\u001b[0m\u001b[1;33m\u001b[0m\u001b[1;33m\u001b[0m\u001b[0m\n\u001b[0m\u001b[0;32m     73\u001b[0m     \u001b[1;32mreturn\u001b[0m \u001b[0minner_f\u001b[0m\u001b[1;33m\u001b[0m\u001b[1;33m\u001b[0m\u001b[0m\n\u001b[0;32m     74\u001b[0m \u001b[1;33m\u001b[0m\u001b[0m\n",
      "\u001b[1;32m~\\anaconda3\\lib\\site-packages\\sklearn\\model_selection\\_search.py\u001b[0m in \u001b[0;36mfit\u001b[1;34m(self, X, y, groups, **fit_params)\u001b[0m\n\u001b[0;32m    734\u001b[0m                 \u001b[1;32mreturn\u001b[0m \u001b[0mresults\u001b[0m\u001b[1;33m\u001b[0m\u001b[1;33m\u001b[0m\u001b[0m\n\u001b[0;32m    735\u001b[0m \u001b[1;33m\u001b[0m\u001b[0m\n\u001b[1;32m--> 736\u001b[1;33m             \u001b[0mself\u001b[0m\u001b[1;33m.\u001b[0m\u001b[0m_run_search\u001b[0m\u001b[1;33m(\u001b[0m\u001b[0mevaluate_candidates\u001b[0m\u001b[1;33m)\u001b[0m\u001b[1;33m\u001b[0m\u001b[1;33m\u001b[0m\u001b[0m\n\u001b[0m\u001b[0;32m    737\u001b[0m \u001b[1;33m\u001b[0m\u001b[0m\n\u001b[0;32m    738\u001b[0m         \u001b[1;31m# For multi-metric evaluation, store the best_index_, best_params_ and\u001b[0m\u001b[1;33m\u001b[0m\u001b[1;33m\u001b[0m\u001b[1;33m\u001b[0m\u001b[0m\n",
      "\u001b[1;32m~\\anaconda3\\lib\\site-packages\\sklearn\\model_selection\\_search.py\u001b[0m in \u001b[0;36m_run_search\u001b[1;34m(self, evaluate_candidates)\u001b[0m\n\u001b[0;32m   1186\u001b[0m     \u001b[1;32mdef\u001b[0m \u001b[0m_run_search\u001b[0m\u001b[1;33m(\u001b[0m\u001b[0mself\u001b[0m\u001b[1;33m,\u001b[0m \u001b[0mevaluate_candidates\u001b[0m\u001b[1;33m)\u001b[0m\u001b[1;33m:\u001b[0m\u001b[1;33m\u001b[0m\u001b[1;33m\u001b[0m\u001b[0m\n\u001b[0;32m   1187\u001b[0m         \u001b[1;34m\"\"\"Search all candidates in param_grid\"\"\"\u001b[0m\u001b[1;33m\u001b[0m\u001b[1;33m\u001b[0m\u001b[0m\n\u001b[1;32m-> 1188\u001b[1;33m         \u001b[0mevaluate_candidates\u001b[0m\u001b[1;33m(\u001b[0m\u001b[0mParameterGrid\u001b[0m\u001b[1;33m(\u001b[0m\u001b[0mself\u001b[0m\u001b[1;33m.\u001b[0m\u001b[0mparam_grid\u001b[0m\u001b[1;33m)\u001b[0m\u001b[1;33m)\u001b[0m\u001b[1;33m\u001b[0m\u001b[1;33m\u001b[0m\u001b[0m\n\u001b[0m\u001b[0;32m   1189\u001b[0m \u001b[1;33m\u001b[0m\u001b[0m\n\u001b[0;32m   1190\u001b[0m \u001b[1;33m\u001b[0m\u001b[0m\n",
      "\u001b[1;32m~\\anaconda3\\lib\\site-packages\\sklearn\\model_selection\\_search.py\u001b[0m in \u001b[0;36mevaluate_candidates\u001b[1;34m(candidate_params)\u001b[0m\n\u001b[0;32m    706\u001b[0m                               n_splits, n_candidates, n_candidates * n_splits))\n\u001b[0;32m    707\u001b[0m \u001b[1;33m\u001b[0m\u001b[0m\n\u001b[1;32m--> 708\u001b[1;33m                 out = parallel(delayed(_fit_and_score)(clone(base_estimator),\n\u001b[0m\u001b[0;32m    709\u001b[0m                                                        \u001b[0mX\u001b[0m\u001b[1;33m,\u001b[0m \u001b[0my\u001b[0m\u001b[1;33m,\u001b[0m\u001b[1;33m\u001b[0m\u001b[1;33m\u001b[0m\u001b[0m\n\u001b[0;32m    710\u001b[0m                                                        \u001b[0mtrain\u001b[0m\u001b[1;33m=\u001b[0m\u001b[0mtrain\u001b[0m\u001b[1;33m,\u001b[0m \u001b[0mtest\u001b[0m\u001b[1;33m=\u001b[0m\u001b[0mtest\u001b[0m\u001b[1;33m,\u001b[0m\u001b[1;33m\u001b[0m\u001b[1;33m\u001b[0m\u001b[0m\n",
      "\u001b[1;32m~\\anaconda3\\lib\\site-packages\\joblib\\parallel.py\u001b[0m in \u001b[0;36m__call__\u001b[1;34m(self, iterable)\u001b[0m\n\u001b[0;32m   1049\u001b[0m                 \u001b[0mself\u001b[0m\u001b[1;33m.\u001b[0m\u001b[0m_iterating\u001b[0m \u001b[1;33m=\u001b[0m \u001b[0mself\u001b[0m\u001b[1;33m.\u001b[0m\u001b[0m_original_iterator\u001b[0m \u001b[1;32mis\u001b[0m \u001b[1;32mnot\u001b[0m \u001b[1;32mNone\u001b[0m\u001b[1;33m\u001b[0m\u001b[1;33m\u001b[0m\u001b[0m\n\u001b[0;32m   1050\u001b[0m \u001b[1;33m\u001b[0m\u001b[0m\n\u001b[1;32m-> 1051\u001b[1;33m             \u001b[1;32mwhile\u001b[0m \u001b[0mself\u001b[0m\u001b[1;33m.\u001b[0m\u001b[0mdispatch_one_batch\u001b[0m\u001b[1;33m(\u001b[0m\u001b[0miterator\u001b[0m\u001b[1;33m)\u001b[0m\u001b[1;33m:\u001b[0m\u001b[1;33m\u001b[0m\u001b[1;33m\u001b[0m\u001b[0m\n\u001b[0m\u001b[0;32m   1052\u001b[0m                 \u001b[1;32mpass\u001b[0m\u001b[1;33m\u001b[0m\u001b[1;33m\u001b[0m\u001b[0m\n\u001b[0;32m   1053\u001b[0m \u001b[1;33m\u001b[0m\u001b[0m\n",
      "\u001b[1;32m~\\anaconda3\\lib\\site-packages\\joblib\\parallel.py\u001b[0m in \u001b[0;36mdispatch_one_batch\u001b[1;34m(self, iterator)\u001b[0m\n\u001b[0;32m    864\u001b[0m                 \u001b[1;32mreturn\u001b[0m \u001b[1;32mFalse\u001b[0m\u001b[1;33m\u001b[0m\u001b[1;33m\u001b[0m\u001b[0m\n\u001b[0;32m    865\u001b[0m             \u001b[1;32melse\u001b[0m\u001b[1;33m:\u001b[0m\u001b[1;33m\u001b[0m\u001b[1;33m\u001b[0m\u001b[0m\n\u001b[1;32m--> 866\u001b[1;33m                 \u001b[0mself\u001b[0m\u001b[1;33m.\u001b[0m\u001b[0m_dispatch\u001b[0m\u001b[1;33m(\u001b[0m\u001b[0mtasks\u001b[0m\u001b[1;33m)\u001b[0m\u001b[1;33m\u001b[0m\u001b[1;33m\u001b[0m\u001b[0m\n\u001b[0m\u001b[0;32m    867\u001b[0m                 \u001b[1;32mreturn\u001b[0m \u001b[1;32mTrue\u001b[0m\u001b[1;33m\u001b[0m\u001b[1;33m\u001b[0m\u001b[0m\n\u001b[0;32m    868\u001b[0m \u001b[1;33m\u001b[0m\u001b[0m\n",
      "\u001b[1;32m~\\anaconda3\\lib\\site-packages\\joblib\\parallel.py\u001b[0m in \u001b[0;36m_dispatch\u001b[1;34m(self, batch)\u001b[0m\n\u001b[0;32m    782\u001b[0m         \u001b[1;32mwith\u001b[0m \u001b[0mself\u001b[0m\u001b[1;33m.\u001b[0m\u001b[0m_lock\u001b[0m\u001b[1;33m:\u001b[0m\u001b[1;33m\u001b[0m\u001b[1;33m\u001b[0m\u001b[0m\n\u001b[0;32m    783\u001b[0m             \u001b[0mjob_idx\u001b[0m \u001b[1;33m=\u001b[0m \u001b[0mlen\u001b[0m\u001b[1;33m(\u001b[0m\u001b[0mself\u001b[0m\u001b[1;33m.\u001b[0m\u001b[0m_jobs\u001b[0m\u001b[1;33m)\u001b[0m\u001b[1;33m\u001b[0m\u001b[1;33m\u001b[0m\u001b[0m\n\u001b[1;32m--> 784\u001b[1;33m             \u001b[0mjob\u001b[0m \u001b[1;33m=\u001b[0m \u001b[0mself\u001b[0m\u001b[1;33m.\u001b[0m\u001b[0m_backend\u001b[0m\u001b[1;33m.\u001b[0m\u001b[0mapply_async\u001b[0m\u001b[1;33m(\u001b[0m\u001b[0mbatch\u001b[0m\u001b[1;33m,\u001b[0m \u001b[0mcallback\u001b[0m\u001b[1;33m=\u001b[0m\u001b[0mcb\u001b[0m\u001b[1;33m)\u001b[0m\u001b[1;33m\u001b[0m\u001b[1;33m\u001b[0m\u001b[0m\n\u001b[0m\u001b[0;32m    785\u001b[0m             \u001b[1;31m# A job can complete so quickly than its callback is\u001b[0m\u001b[1;33m\u001b[0m\u001b[1;33m\u001b[0m\u001b[1;33m\u001b[0m\u001b[0m\n\u001b[0;32m    786\u001b[0m             \u001b[1;31m# called before we get here, causing self._jobs to\u001b[0m\u001b[1;33m\u001b[0m\u001b[1;33m\u001b[0m\u001b[1;33m\u001b[0m\u001b[0m\n",
      "\u001b[1;32m~\\anaconda3\\lib\\site-packages\\joblib\\_parallel_backends.py\u001b[0m in \u001b[0;36mapply_async\u001b[1;34m(self, func, callback)\u001b[0m\n\u001b[0;32m    206\u001b[0m     \u001b[1;32mdef\u001b[0m \u001b[0mapply_async\u001b[0m\u001b[1;33m(\u001b[0m\u001b[0mself\u001b[0m\u001b[1;33m,\u001b[0m \u001b[0mfunc\u001b[0m\u001b[1;33m,\u001b[0m \u001b[0mcallback\u001b[0m\u001b[1;33m=\u001b[0m\u001b[1;32mNone\u001b[0m\u001b[1;33m)\u001b[0m\u001b[1;33m:\u001b[0m\u001b[1;33m\u001b[0m\u001b[1;33m\u001b[0m\u001b[0m\n\u001b[0;32m    207\u001b[0m         \u001b[1;34m\"\"\"Schedule a func to be run\"\"\"\u001b[0m\u001b[1;33m\u001b[0m\u001b[1;33m\u001b[0m\u001b[0m\n\u001b[1;32m--> 208\u001b[1;33m         \u001b[0mresult\u001b[0m \u001b[1;33m=\u001b[0m \u001b[0mImmediateResult\u001b[0m\u001b[1;33m(\u001b[0m\u001b[0mfunc\u001b[0m\u001b[1;33m)\u001b[0m\u001b[1;33m\u001b[0m\u001b[1;33m\u001b[0m\u001b[0m\n\u001b[0m\u001b[0;32m    209\u001b[0m         \u001b[1;32mif\u001b[0m \u001b[0mcallback\u001b[0m\u001b[1;33m:\u001b[0m\u001b[1;33m\u001b[0m\u001b[1;33m\u001b[0m\u001b[0m\n\u001b[0;32m    210\u001b[0m             \u001b[0mcallback\u001b[0m\u001b[1;33m(\u001b[0m\u001b[0mresult\u001b[0m\u001b[1;33m)\u001b[0m\u001b[1;33m\u001b[0m\u001b[1;33m\u001b[0m\u001b[0m\n",
      "\u001b[1;32m~\\anaconda3\\lib\\site-packages\\joblib\\_parallel_backends.py\u001b[0m in \u001b[0;36m__init__\u001b[1;34m(self, batch)\u001b[0m\n\u001b[0;32m    570\u001b[0m         \u001b[1;31m# Don't delay the application, to avoid keeping the input\u001b[0m\u001b[1;33m\u001b[0m\u001b[1;33m\u001b[0m\u001b[1;33m\u001b[0m\u001b[0m\n\u001b[0;32m    571\u001b[0m         \u001b[1;31m# arguments in memory\u001b[0m\u001b[1;33m\u001b[0m\u001b[1;33m\u001b[0m\u001b[1;33m\u001b[0m\u001b[0m\n\u001b[1;32m--> 572\u001b[1;33m         \u001b[0mself\u001b[0m\u001b[1;33m.\u001b[0m\u001b[0mresults\u001b[0m \u001b[1;33m=\u001b[0m \u001b[0mbatch\u001b[0m\u001b[1;33m(\u001b[0m\u001b[1;33m)\u001b[0m\u001b[1;33m\u001b[0m\u001b[1;33m\u001b[0m\u001b[0m\n\u001b[0m\u001b[0;32m    573\u001b[0m \u001b[1;33m\u001b[0m\u001b[0m\n\u001b[0;32m    574\u001b[0m     \u001b[1;32mdef\u001b[0m \u001b[0mget\u001b[0m\u001b[1;33m(\u001b[0m\u001b[0mself\u001b[0m\u001b[1;33m)\u001b[0m\u001b[1;33m:\u001b[0m\u001b[1;33m\u001b[0m\u001b[1;33m\u001b[0m\u001b[0m\n",
      "\u001b[1;32m~\\anaconda3\\lib\\site-packages\\joblib\\parallel.py\u001b[0m in \u001b[0;36m__call__\u001b[1;34m(self)\u001b[0m\n\u001b[0;32m    260\u001b[0m         \u001b[1;31m# change the default number of processes to -1\u001b[0m\u001b[1;33m\u001b[0m\u001b[1;33m\u001b[0m\u001b[1;33m\u001b[0m\u001b[0m\n\u001b[0;32m    261\u001b[0m         \u001b[1;32mwith\u001b[0m \u001b[0mparallel_backend\u001b[0m\u001b[1;33m(\u001b[0m\u001b[0mself\u001b[0m\u001b[1;33m.\u001b[0m\u001b[0m_backend\u001b[0m\u001b[1;33m,\u001b[0m \u001b[0mn_jobs\u001b[0m\u001b[1;33m=\u001b[0m\u001b[0mself\u001b[0m\u001b[1;33m.\u001b[0m\u001b[0m_n_jobs\u001b[0m\u001b[1;33m)\u001b[0m\u001b[1;33m:\u001b[0m\u001b[1;33m\u001b[0m\u001b[1;33m\u001b[0m\u001b[0m\n\u001b[1;32m--> 262\u001b[1;33m             return [func(*args, **kwargs)\n\u001b[0m\u001b[0;32m    263\u001b[0m                     for func, args, kwargs in self.items]\n\u001b[0;32m    264\u001b[0m \u001b[1;33m\u001b[0m\u001b[0m\n",
      "\u001b[1;32m~\\anaconda3\\lib\\site-packages\\joblib\\parallel.py\u001b[0m in \u001b[0;36m<listcomp>\u001b[1;34m(.0)\u001b[0m\n\u001b[0;32m    260\u001b[0m         \u001b[1;31m# change the default number of processes to -1\u001b[0m\u001b[1;33m\u001b[0m\u001b[1;33m\u001b[0m\u001b[1;33m\u001b[0m\u001b[0m\n\u001b[0;32m    261\u001b[0m         \u001b[1;32mwith\u001b[0m \u001b[0mparallel_backend\u001b[0m\u001b[1;33m(\u001b[0m\u001b[0mself\u001b[0m\u001b[1;33m.\u001b[0m\u001b[0m_backend\u001b[0m\u001b[1;33m,\u001b[0m \u001b[0mn_jobs\u001b[0m\u001b[1;33m=\u001b[0m\u001b[0mself\u001b[0m\u001b[1;33m.\u001b[0m\u001b[0m_n_jobs\u001b[0m\u001b[1;33m)\u001b[0m\u001b[1;33m:\u001b[0m\u001b[1;33m\u001b[0m\u001b[1;33m\u001b[0m\u001b[0m\n\u001b[1;32m--> 262\u001b[1;33m             return [func(*args, **kwargs)\n\u001b[0m\u001b[0;32m    263\u001b[0m                     for func, args, kwargs in self.items]\n\u001b[0;32m    264\u001b[0m \u001b[1;33m\u001b[0m\u001b[0m\n",
      "\u001b[1;32m~\\anaconda3\\lib\\site-packages\\sklearn\\model_selection\\_validation.py\u001b[0m in \u001b[0;36m_fit_and_score\u001b[1;34m(estimator, X, y, scorer, train, test, verbose, parameters, fit_params, return_train_score, return_parameters, return_n_test_samples, return_times, return_estimator, error_score)\u001b[0m\n\u001b[0;32m    529\u001b[0m             \u001b[0mestimator\u001b[0m\u001b[1;33m.\u001b[0m\u001b[0mfit\u001b[0m\u001b[1;33m(\u001b[0m\u001b[0mX_train\u001b[0m\u001b[1;33m,\u001b[0m \u001b[1;33m**\u001b[0m\u001b[0mfit_params\u001b[0m\u001b[1;33m)\u001b[0m\u001b[1;33m\u001b[0m\u001b[1;33m\u001b[0m\u001b[0m\n\u001b[0;32m    530\u001b[0m         \u001b[1;32melse\u001b[0m\u001b[1;33m:\u001b[0m\u001b[1;33m\u001b[0m\u001b[1;33m\u001b[0m\u001b[0m\n\u001b[1;32m--> 531\u001b[1;33m             \u001b[0mestimator\u001b[0m\u001b[1;33m.\u001b[0m\u001b[0mfit\u001b[0m\u001b[1;33m(\u001b[0m\u001b[0mX_train\u001b[0m\u001b[1;33m,\u001b[0m \u001b[0my_train\u001b[0m\u001b[1;33m,\u001b[0m \u001b[1;33m**\u001b[0m\u001b[0mfit_params\u001b[0m\u001b[1;33m)\u001b[0m\u001b[1;33m\u001b[0m\u001b[1;33m\u001b[0m\u001b[0m\n\u001b[0m\u001b[0;32m    532\u001b[0m \u001b[1;33m\u001b[0m\u001b[0m\n\u001b[0;32m    533\u001b[0m     \u001b[1;32mexcept\u001b[0m \u001b[0mException\u001b[0m \u001b[1;32mas\u001b[0m \u001b[0me\u001b[0m\u001b[1;33m:\u001b[0m\u001b[1;33m\u001b[0m\u001b[1;33m\u001b[0m\u001b[0m\n",
      "\u001b[1;32m~\\anaconda3\\lib\\site-packages\\sklearn\\pipeline.py\u001b[0m in \u001b[0;36mfit\u001b[1;34m(self, X, y, **fit_params)\u001b[0m\n\u001b[0;32m    333\u001b[0m             \u001b[1;32mif\u001b[0m \u001b[0mself\u001b[0m\u001b[1;33m.\u001b[0m\u001b[0m_final_estimator\u001b[0m \u001b[1;33m!=\u001b[0m \u001b[1;34m'passthrough'\u001b[0m\u001b[1;33m:\u001b[0m\u001b[1;33m\u001b[0m\u001b[1;33m\u001b[0m\u001b[0m\n\u001b[0;32m    334\u001b[0m                 \u001b[0mfit_params_last_step\u001b[0m \u001b[1;33m=\u001b[0m \u001b[0mfit_params_steps\u001b[0m\u001b[1;33m[\u001b[0m\u001b[0mself\u001b[0m\u001b[1;33m.\u001b[0m\u001b[0msteps\u001b[0m\u001b[1;33m[\u001b[0m\u001b[1;33m-\u001b[0m\u001b[1;36m1\u001b[0m\u001b[1;33m]\u001b[0m\u001b[1;33m[\u001b[0m\u001b[1;36m0\u001b[0m\u001b[1;33m]\u001b[0m\u001b[1;33m]\u001b[0m\u001b[1;33m\u001b[0m\u001b[1;33m\u001b[0m\u001b[0m\n\u001b[1;32m--> 335\u001b[1;33m                 \u001b[0mself\u001b[0m\u001b[1;33m.\u001b[0m\u001b[0m_final_estimator\u001b[0m\u001b[1;33m.\u001b[0m\u001b[0mfit\u001b[0m\u001b[1;33m(\u001b[0m\u001b[0mXt\u001b[0m\u001b[1;33m,\u001b[0m \u001b[0my\u001b[0m\u001b[1;33m,\u001b[0m \u001b[1;33m**\u001b[0m\u001b[0mfit_params_last_step\u001b[0m\u001b[1;33m)\u001b[0m\u001b[1;33m\u001b[0m\u001b[1;33m\u001b[0m\u001b[0m\n\u001b[0m\u001b[0;32m    336\u001b[0m \u001b[1;33m\u001b[0m\u001b[0m\n\u001b[0;32m    337\u001b[0m         \u001b[1;32mreturn\u001b[0m \u001b[0mself\u001b[0m\u001b[1;33m\u001b[0m\u001b[1;33m\u001b[0m\u001b[0m\n",
      "\u001b[1;32m~\\anaconda3\\lib\\site-packages\\sklearn\\svm\\_base.py\u001b[0m in \u001b[0;36mfit\u001b[1;34m(self, X, y, sample_weight)\u001b[0m\n\u001b[0;32m    215\u001b[0m \u001b[1;33m\u001b[0m\u001b[0m\n\u001b[0;32m    216\u001b[0m         \u001b[0mseed\u001b[0m \u001b[1;33m=\u001b[0m \u001b[0mrnd\u001b[0m\u001b[1;33m.\u001b[0m\u001b[0mrandint\u001b[0m\u001b[1;33m(\u001b[0m\u001b[0mnp\u001b[0m\u001b[1;33m.\u001b[0m\u001b[0miinfo\u001b[0m\u001b[1;33m(\u001b[0m\u001b[1;34m'i'\u001b[0m\u001b[1;33m)\u001b[0m\u001b[1;33m.\u001b[0m\u001b[0mmax\u001b[0m\u001b[1;33m)\u001b[0m\u001b[1;33m\u001b[0m\u001b[1;33m\u001b[0m\u001b[0m\n\u001b[1;32m--> 217\u001b[1;33m         \u001b[0mfit\u001b[0m\u001b[1;33m(\u001b[0m\u001b[0mX\u001b[0m\u001b[1;33m,\u001b[0m \u001b[0my\u001b[0m\u001b[1;33m,\u001b[0m \u001b[0msample_weight\u001b[0m\u001b[1;33m,\u001b[0m \u001b[0msolver_type\u001b[0m\u001b[1;33m,\u001b[0m \u001b[0mkernel\u001b[0m\u001b[1;33m,\u001b[0m \u001b[0mrandom_seed\u001b[0m\u001b[1;33m=\u001b[0m\u001b[0mseed\u001b[0m\u001b[1;33m)\u001b[0m\u001b[1;33m\u001b[0m\u001b[1;33m\u001b[0m\u001b[0m\n\u001b[0m\u001b[0;32m    218\u001b[0m         \u001b[1;31m# see comment on the other call to np.iinfo in this file\u001b[0m\u001b[1;33m\u001b[0m\u001b[1;33m\u001b[0m\u001b[1;33m\u001b[0m\u001b[0m\n\u001b[0;32m    219\u001b[0m \u001b[1;33m\u001b[0m\u001b[0m\n",
      "\u001b[1;32m~\\anaconda3\\lib\\site-packages\\sklearn\\svm\\_base.py\u001b[0m in \u001b[0;36m_sparse_fit\u001b[1;34m(self, X, y, sample_weight, solver_type, kernel, random_seed)\u001b[0m\n\u001b[0;32m    290\u001b[0m             \u001b[0mself\u001b[0m\u001b[1;33m.\u001b[0m\u001b[0mintercept_\u001b[0m\u001b[1;33m,\u001b[0m \u001b[0mself\u001b[0m\u001b[1;33m.\u001b[0m\u001b[0m_n_support\u001b[0m\u001b[1;33m,\u001b[0m\u001b[0;31m \u001b[0m\u001b[0;31m\\\u001b[0m\u001b[1;33m\u001b[0m\u001b[1;33m\u001b[0m\u001b[0m\n\u001b[0;32m    291\u001b[0m             \u001b[0mself\u001b[0m\u001b[1;33m.\u001b[0m\u001b[0m_probA\u001b[0m\u001b[1;33m,\u001b[0m \u001b[0mself\u001b[0m\u001b[1;33m.\u001b[0m\u001b[0m_probB\u001b[0m\u001b[1;33m,\u001b[0m \u001b[0mself\u001b[0m\u001b[1;33m.\u001b[0m\u001b[0mfit_status_\u001b[0m \u001b[1;33m=\u001b[0m\u001b[0;31m \u001b[0m\u001b[0;31m\\\u001b[0m\u001b[1;33m\u001b[0m\u001b[1;33m\u001b[0m\u001b[0m\n\u001b[1;32m--> 292\u001b[1;33m             libsvm_sparse.libsvm_sparse_train(\n\u001b[0m\u001b[0;32m    293\u001b[0m                 \u001b[0mX\u001b[0m\u001b[1;33m.\u001b[0m\u001b[0mshape\u001b[0m\u001b[1;33m[\u001b[0m\u001b[1;36m1\u001b[0m\u001b[1;33m]\u001b[0m\u001b[1;33m,\u001b[0m \u001b[0mX\u001b[0m\u001b[1;33m.\u001b[0m\u001b[0mdata\u001b[0m\u001b[1;33m,\u001b[0m \u001b[0mX\u001b[0m\u001b[1;33m.\u001b[0m\u001b[0mindices\u001b[0m\u001b[1;33m,\u001b[0m \u001b[0mX\u001b[0m\u001b[1;33m.\u001b[0m\u001b[0mindptr\u001b[0m\u001b[1;33m,\u001b[0m \u001b[0my\u001b[0m\u001b[1;33m,\u001b[0m \u001b[0msolver_type\u001b[0m\u001b[1;33m,\u001b[0m\u001b[1;33m\u001b[0m\u001b[1;33m\u001b[0m\u001b[0m\n\u001b[0;32m    294\u001b[0m                 \u001b[0mkernel_type\u001b[0m\u001b[1;33m,\u001b[0m \u001b[0mself\u001b[0m\u001b[1;33m.\u001b[0m\u001b[0mdegree\u001b[0m\u001b[1;33m,\u001b[0m \u001b[0mself\u001b[0m\u001b[1;33m.\u001b[0m\u001b[0m_gamma\u001b[0m\u001b[1;33m,\u001b[0m \u001b[0mself\u001b[0m\u001b[1;33m.\u001b[0m\u001b[0mcoef0\u001b[0m\u001b[1;33m,\u001b[0m \u001b[0mself\u001b[0m\u001b[1;33m.\u001b[0m\u001b[0mtol\u001b[0m\u001b[1;33m,\u001b[0m\u001b[1;33m\u001b[0m\u001b[1;33m\u001b[0m\u001b[0m\n",
      "\u001b[1;32msklearn\\svm\\_libsvm_sparse.pyx\u001b[0m in \u001b[0;36msklearn.svm._libsvm_sparse.libsvm_sparse_train\u001b[1;34m()\u001b[0m\n",
      "\u001b[1;32m~\\anaconda3\\lib\\site-packages\\scipy\\sparse\\compressed.py\u001b[0m in \u001b[0;36m__init__\u001b[1;34m(self, arg1, shape, dtype, copy)\u001b[0m\n\u001b[0;32m     25\u001b[0m     \u001b[1;34m\"\"\"base matrix class for compressed row- and column-oriented matrices\"\"\"\u001b[0m\u001b[1;33m\u001b[0m\u001b[1;33m\u001b[0m\u001b[0m\n\u001b[0;32m     26\u001b[0m \u001b[1;33m\u001b[0m\u001b[0m\n\u001b[1;32m---> 27\u001b[1;33m     \u001b[1;32mdef\u001b[0m \u001b[0m__init__\u001b[0m\u001b[1;33m(\u001b[0m\u001b[0mself\u001b[0m\u001b[1;33m,\u001b[0m \u001b[0marg1\u001b[0m\u001b[1;33m,\u001b[0m \u001b[0mshape\u001b[0m\u001b[1;33m=\u001b[0m\u001b[1;32mNone\u001b[0m\u001b[1;33m,\u001b[0m \u001b[0mdtype\u001b[0m\u001b[1;33m=\u001b[0m\u001b[1;32mNone\u001b[0m\u001b[1;33m,\u001b[0m \u001b[0mcopy\u001b[0m\u001b[1;33m=\u001b[0m\u001b[1;32mFalse\u001b[0m\u001b[1;33m)\u001b[0m\u001b[1;33m:\u001b[0m\u001b[1;33m\u001b[0m\u001b[1;33m\u001b[0m\u001b[0m\n\u001b[0m\u001b[0;32m     28\u001b[0m         \u001b[0m_data_matrix\u001b[0m\u001b[1;33m.\u001b[0m\u001b[0m__init__\u001b[0m\u001b[1;33m(\u001b[0m\u001b[0mself\u001b[0m\u001b[1;33m)\u001b[0m\u001b[1;33m\u001b[0m\u001b[1;33m\u001b[0m\u001b[0m\n\u001b[0;32m     29\u001b[0m \u001b[1;33m\u001b[0m\u001b[0m\n",
      "\u001b[1;31mKeyboardInterrupt\u001b[0m: "
     ]
    }
   ],
   "source": [
    "train_col_list = ['okt_han_kkma', 'okt_han_kkma_krwrhan', '연구_krwordrank', 'krwrokt_krwrhan', 'okt_hannanum', 'okt_han_krwrhan','all_word']\n",
    "\n",
    "svc_94_best_params=[]\n",
    "svc_94_best_score=[]\n",
    "svc_94_accuracy=[]\n",
    "\n",
    "lisvc_94_best_params=[]\n",
    "lisvc_94_best_score=[]\n",
    "lisvc_94_accuracy=[]\n",
    "\n",
    "\n",
    "kfold = KFold(n_splits=5, shuffle=True, random_state=42)\n",
    "for ind in tqdm_notebook(train_col_list): \n",
    "    print('#############%s 컬럼#############'%ind)\n",
    "    X_train, X_test, y_train, y_test = train_test_split(company[ind], company.category,\\\n",
    "                                                    shuffle=True, random_state=1, \\\n",
    "                                                    stratify = company.category)\n",
    "    \n",
    "    for idx , (param , model) in enumerate(zip(params , pipe)) :\n",
    "        print('<model>')\n",
    "        print(model)\n",
    "        search =GridSearchCV(model, param, cv=kfold, scoring='accuracy', verbose=1)\n",
    "        search.fit(X_train, y_train)\n",
    "        pred_y = search.predict(X_test)\n",
    "        accuracy=accuracy_score(pred_y, y_test)\n",
    "        \n",
    "        if model==pipe[0]:\n",
    "            svc_94_best_params.append(search.best_params_)\n",
    "            svc_94_best_score.append(np.round(search.best_score_,3))\n",
    "            svc_94_accuracy.append(np.round(accuracy,3))\n",
    "\n",
    "            \n",
    "        if model==pipe[1]:\n",
    "            lisvc_94_best_params.append(search.best_params_)\n",
    "            lisvc_94_best_score.append(np.round(search.best_score_,3))\n",
    "            lisvc_94_accuracy.append(np.round(accuracy,3))\n",
    "            \n",
    "        print(\"Accuracy Score : {0:.3f}\".format(accuracy))\n",
    "        print(classification_report(y_test, pred_y))\n",
    "        print('=====알고리즘 완료=====')\n",
    "\n",
    "col_name=['svc_94_best_params', 'svc_94_best_score', 'svc_94_accuracy','lisvc_94_best_params','lisvc_94_best_score','lisvc_94_accuracy']\n",
    "pred_df=pd.DataFrame({col_name[0]:svc_94_best_params,\n",
    "                      col_name[1]:svc_94_best_score,\n",
    "                      col_name[2]:svc_94_accuracy,\n",
    "                      col_name[3]:lisvc_94_best_params,\n",
    "                      col_name[4]:lisvc_94_best_score,\n",
    "                      col_name[5]:lisvc_94_accuracy},\n",
    "                     index=train_col_list)"
   ]
  },
  {
   "cell_type": "code",
   "execution_count": 301,
   "metadata": {},
   "outputs": [],
   "source": [
    "train_col_list = ['okt_han_kkma', 'okt_han_kkma_krwrhan', '연구_krwordrank', 'krwrokt_krwrhan', 'okt_hannanum', 'okt_han_krwrhan']\n",
    "\n",
    "col_name=['svc_94_best_params', 'svc_94_best_score', 'svc_94_accuracy','lisvc_94_best_params','lisvc_94_best_score','lisvc_94_accuracy']\n",
    "pred_df_100=pd.DataFrame({col_name[0]:svc_94_best_params,\n",
    "                      col_name[1]:svc_94_best_score,\n",
    "                      col_name[2]:svc_94_accuracy,\n",
    "                      col_name[3]:lisvc_94_best_params,\n",
    "                      col_name[4]:lisvc_94_best_score,\n",
    "                      col_name[5]:lisvc_94_accuracy},\n",
    "                     index=train_col_list)"
   ]
  },
  {
   "cell_type": "code",
   "execution_count": 302,
   "metadata": {},
   "outputs": [
    {
     "data": {
      "text/html": [
       "<div>\n",
       "<style scoped>\n",
       "    .dataframe tbody tr th:only-of-type {\n",
       "        vertical-align: middle;\n",
       "    }\n",
       "\n",
       "    .dataframe tbody tr th {\n",
       "        vertical-align: top;\n",
       "    }\n",
       "\n",
       "    .dataframe thead th {\n",
       "        text-align: right;\n",
       "    }\n",
       "</style>\n",
       "<table border=\"1\" class=\"dataframe\">\n",
       "  <thead>\n",
       "    <tr style=\"text-align: right;\">\n",
       "      <th></th>\n",
       "      <th>svc_94_best_params</th>\n",
       "      <th>svc_94_best_score</th>\n",
       "      <th>svc_94_accuracy</th>\n",
       "      <th>lisvc_94_best_params</th>\n",
       "      <th>lisvc_94_best_score</th>\n",
       "      <th>lisvc_94_accuracy</th>\n",
       "    </tr>\n",
       "  </thead>\n",
       "  <tbody>\n",
       "    <tr>\n",
       "      <th>okt_han_kkma</th>\n",
       "      <td>{'svc__C': 10, 'svc__gamma': 1, 'svc__kernel':...</td>\n",
       "      <td>0.941</td>\n",
       "      <td>0.954</td>\n",
       "      <td>{'svc__C': 100, 'svc__max_iter': 500, 'svc__pe...</td>\n",
       "      <td>0.940</td>\n",
       "      <td>0.955</td>\n",
       "    </tr>\n",
       "    <tr>\n",
       "      <th>okt_han_kkma_krwrhan</th>\n",
       "      <td>{'svc__C': 10, 'svc__gamma': 1, 'svc__kernel':...</td>\n",
       "      <td>0.935</td>\n",
       "      <td>0.951</td>\n",
       "      <td>{'svc__C': 1000, 'svc__max_iter': 500, 'svc__p...</td>\n",
       "      <td>0.936</td>\n",
       "      <td>0.952</td>\n",
       "    </tr>\n",
       "    <tr>\n",
       "      <th>연구_krwordrank</th>\n",
       "      <td>{'svc__C': 10, 'svc__gamma': 0.001, 'svc__kern...</td>\n",
       "      <td>0.888</td>\n",
       "      <td>0.896</td>\n",
       "      <td>{'svc__C': 10, 'svc__max_iter': 500, 'svc__pen...</td>\n",
       "      <td>0.894</td>\n",
       "      <td>0.901</td>\n",
       "    </tr>\n",
       "    <tr>\n",
       "      <th>krwrokt_krwrhan</th>\n",
       "      <td>{'svc__C': 10, 'svc__gamma': 0.001, 'svc__kern...</td>\n",
       "      <td>0.894</td>\n",
       "      <td>0.900</td>\n",
       "      <td>{'svc__C': 10, 'svc__max_iter': 500, 'svc__pen...</td>\n",
       "      <td>0.896</td>\n",
       "      <td>0.911</td>\n",
       "    </tr>\n",
       "    <tr>\n",
       "      <th>okt_hannanum</th>\n",
       "      <td>{'svc__C': 10, 'svc__gamma': 1, 'svc__kernel':...</td>\n",
       "      <td>0.941</td>\n",
       "      <td>0.947</td>\n",
       "      <td>{'svc__C': 1000, 'svc__max_iter': 500, 'svc__p...</td>\n",
       "      <td>0.941</td>\n",
       "      <td>0.948</td>\n",
       "    </tr>\n",
       "    <tr>\n",
       "      <th>okt_han_krwrhan</th>\n",
       "      <td>{'svc__C': 10, 'svc__gamma': 1, 'svc__kernel':...</td>\n",
       "      <td>0.941</td>\n",
       "      <td>0.947</td>\n",
       "      <td>{'svc__C': 100, 'svc__max_iter': 500, 'svc__pe...</td>\n",
       "      <td>0.941</td>\n",
       "      <td>0.951</td>\n",
       "    </tr>\n",
       "  </tbody>\n",
       "</table>\n",
       "</div>"
      ],
      "text/plain": [
       "                                                     svc_94_best_params  \\\n",
       "okt_han_kkma          {'svc__C': 10, 'svc__gamma': 1, 'svc__kernel':...   \n",
       "okt_han_kkma_krwrhan  {'svc__C': 10, 'svc__gamma': 1, 'svc__kernel':...   \n",
       "연구_krwordrank         {'svc__C': 10, 'svc__gamma': 0.001, 'svc__kern...   \n",
       "krwrokt_krwrhan       {'svc__C': 10, 'svc__gamma': 0.001, 'svc__kern...   \n",
       "okt_hannanum          {'svc__C': 10, 'svc__gamma': 1, 'svc__kernel':...   \n",
       "okt_han_krwrhan       {'svc__C': 10, 'svc__gamma': 1, 'svc__kernel':...   \n",
       "\n",
       "                      svc_94_best_score  svc_94_accuracy  \\\n",
       "okt_han_kkma                      0.941            0.954   \n",
       "okt_han_kkma_krwrhan              0.935            0.951   \n",
       "연구_krwordrank                     0.888            0.896   \n",
       "krwrokt_krwrhan                   0.894            0.900   \n",
       "okt_hannanum                      0.941            0.947   \n",
       "okt_han_krwrhan                   0.941            0.947   \n",
       "\n",
       "                                                   lisvc_94_best_params  \\\n",
       "okt_han_kkma          {'svc__C': 100, 'svc__max_iter': 500, 'svc__pe...   \n",
       "okt_han_kkma_krwrhan  {'svc__C': 1000, 'svc__max_iter': 500, 'svc__p...   \n",
       "연구_krwordrank         {'svc__C': 10, 'svc__max_iter': 500, 'svc__pen...   \n",
       "krwrokt_krwrhan       {'svc__C': 10, 'svc__max_iter': 500, 'svc__pen...   \n",
       "okt_hannanum          {'svc__C': 1000, 'svc__max_iter': 500, 'svc__p...   \n",
       "okt_han_krwrhan       {'svc__C': 100, 'svc__max_iter': 500, 'svc__pe...   \n",
       "\n",
       "                      lisvc_94_best_score  lisvc_94_accuracy  \n",
       "okt_han_kkma                        0.940              0.955  \n",
       "okt_han_kkma_krwrhan                0.936              0.952  \n",
       "연구_krwordrank                       0.894              0.901  \n",
       "krwrokt_krwrhan                     0.896              0.911  \n",
       "okt_hannanum                        0.941              0.948  \n",
       "okt_han_krwrhan                     0.941              0.951  "
      ]
     },
     "execution_count": 302,
     "metadata": {},
     "output_type": "execute_result"
    }
   ],
   "source": [
    "pred_df_100"
   ]
  },
  {
   "cell_type": "code",
   "execution_count": 303,
   "metadata": {},
   "outputs": [],
   "source": [
    "#엑셀파일 저장\n",
    "writer = pd.ExcelWriter('./data/model/svc_accuracy_ver2_add.xlsx', engine='xlsxwriter')  #경로 각자에 맞게 변경\n",
    "pred_df_100.to_excel(writer)\n",
    "writer.save()"
   ]
  },
  {
   "cell_type": "code",
   "execution_count": null,
   "metadata": {},
   "outputs": [],
   "source": []
  },
  {
   "cell_type": "markdown",
   "metadata": {},
   "source": [
    "나이브 베이즈 추가"
   ]
  },
  {
   "cell_type": "code",
   "execution_count": 5,
   "metadata": {},
   "outputs": [],
   "source": [
    "comp_raw=pd.read_excel('./final_data/company_final_new_210222.xlsx')\n",
    "support_raw=pd.read_excel('./final_data/support_final_new_210222.xlsx')\n",
    "\n",
    "company=comp_raw\n",
    "support=support_raw"
   ]
  },
  {
   "cell_type": "code",
   "execution_count": 5,
   "metadata": {},
   "outputs": [
    {
     "data": {
      "text/plain": [
       "TfidfVectorizer(min_df=5, ngram_range=(1, 2), sublinear_tf=True)"
      ]
     },
     "execution_count": 5,
     "metadata": {},
     "output_type": "execute_result"
    }
   ],
   "source": [
    "X_train, X_test, y_train, y_test = train_test_split(company['all_word'], company.category,\\\n",
    "                                                    shuffle=True, random_state=1, \\\n",
    "                                                    stratify = company.category)\n",
    "\n",
    "\n",
    "#comp_word=company['all_word'].tolist()\n",
    "X_train_pd=pd.DataFrame(X_train)\n",
    "comp_word=X_train_pd['all_word'].tolist()\n",
    "sup_word=support['all_word_new'].tolist()\n",
    "word_list=list(set(comp_word+sup_word))\n",
    "\n",
    "tfidf = TfidfVectorizer(analyzer = 'word', ngram_range = (1,2), min_df =5, sublinear_tf = True)\n",
    "tfidf.fit(word_list)"
   ]
  },
  {
   "cell_type": "code",
   "execution_count": 6,
   "metadata": {},
   "outputs": [
    {
     "name": "stdout",
     "output_type": "stream",
     "text": [
      "(5401, 43386)\n",
      "(1801, 43386)\n"
     ]
    }
   ],
   "source": [
    "#X_train 벡터화\n",
    "temp =X_train.tolist()\n",
    "X_train_tfidf = tfidf.transform(temp)\n",
    "print(X_train_tfidf.shape)\n",
    "\n",
    "#X_test 벡터화\n",
    "temp =X_test.tolist()\n",
    "X_test_tfidf = tfidf.transform(temp)\n",
    "print(X_test_tfidf.shape)"
   ]
  },
  {
   "cell_type": "code",
   "execution_count": 8,
   "metadata": {},
   "outputs": [
    {
     "name": "stderr",
     "output_type": "stream",
     "text": [
      "C:\\Users\\user\\anaconda3\\lib\\site-packages\\sklearn\\model_selection\\_split.py:670: UserWarning: The least populated class in y has only 3 members, which is less than n_splits=5.\n",
      "  warnings.warn((\"The least populated class in y has only %d\"\n"
     ]
    },
    {
     "data": {
      "text/plain": [
       "GridSearchCV(estimator=MultinomialNB(),\n",
       "             param_grid=[{'alpha': array([0.01, 0.02, 0.03, 0.04, 0.05, 0.06, 0.07, 0.08, 0.09, 0.1 , 0.11,\n",
       "       0.12, 0.13, 0.14, 0.15, 0.16, 0.17, 0.18, 0.19, 0.2 , 0.21, 0.22,\n",
       "       0.23, 0.24, 0.25, 0.26, 0.27, 0.28, 0.29, 0.3 , 0.31, 0.32, 0.33,\n",
       "       0.34, 0.35, 0.36, 0.37, 0.38, 0.39, 0.4 , 0.41, 0.42, 0.43, 0.44,\n",
       "       0.45, 0.46, 0.47, 0.48, 0.49, 0.5 , 0.51, 0.52, 0.53, 0.54, 0.55,\n",
       "       0.56, 0.57, 0.58, 0.59, 0.6 , 0.61, 0.62, 0.63, 0.64, 0.65, 0.66,\n",
       "       0.67, 0.68, 0.69, 0.7 , 0.71, 0.72, 0.73, 0.74, 0.75, 0.76, 0.77,\n",
       "       0.78, 0.79, 0.8 , 0.81, 0.82, 0.83, 0.84, 0.85, 0.86, 0.87, 0.88,\n",
       "       0.89, 0.9 , 0.91, 0.92, 0.93, 0.94, 0.95, 0.96, 0.97, 0.98, 0.99,\n",
       "       1.  ])}],\n",
       "             scoring='accuracy')"
      ]
     },
     "execution_count": 8,
     "metadata": {},
     "output_type": "execute_result"
    }
   ],
   "source": [
    "from sklearn.naive_bayes import MultinomialNB # 다항분포 나이브 베이즈 모델\n",
    "from sklearn.metrics import accuracy_score #정확도 계산\n",
    "import numpy as np\n",
    "from sklearn.model_selection import GridSearchCV\n",
    "from sklearn.metrics import classification_report\n",
    "\n",
    "nb = MultinomialNB()\n",
    "param_grid = [{'alpha' : np.linspace(0.01,1,100)}]\n",
    "gs = GridSearchCV(estimator=nb, param_grid=param_grid, scoring='accuracy')\n",
    "gs.fit(X_train_tfidf,y_train)"
   ]
  },
  {
   "cell_type": "code",
   "execution_count": 9,
   "metadata": {},
   "outputs": [
    {
     "name": "stdout",
     "output_type": "stream",
     "text": [
      "0.8505814232363724\n",
      "{'alpha': 0.03}\n"
     ]
    }
   ],
   "source": [
    "print(gs.best_score_)\n",
    "print(gs.best_params_)"
   ]
  },
  {
   "cell_type": "code",
   "execution_count": 11,
   "metadata": {},
   "outputs": [
    {
     "name": "stdout",
     "output_type": "stream",
     "text": [
      "정답률: 0.855635757912271\n",
      "              precision    recall  f1-score   support\n",
      "\n",
      "           0       0.84      0.43      0.57       189\n",
      "           1       0.00      0.00      0.00         3\n",
      "           2       0.92      0.67      0.77        18\n",
      "           3       1.00      0.11      0.20         9\n",
      "           4       0.86      0.97      0.91      1210\n",
      "           5       0.83      0.74      0.78       371\n",
      "           6       0.00      0.00      0.00         1\n",
      "\n",
      "    accuracy                           0.86      1801\n",
      "   macro avg       0.64      0.42      0.46      1801\n",
      "weighted avg       0.85      0.86      0.84      1801\n",
      "\n"
     ]
    },
    {
     "name": "stderr",
     "output_type": "stream",
     "text": [
      "C:\\Users\\user\\anaconda3\\lib\\site-packages\\sklearn\\metrics\\_classification.py:1221: UndefinedMetricWarning: Precision and F-score are ill-defined and being set to 0.0 in labels with no predicted samples. Use `zero_division` parameter to control this behavior.\n",
      "  _warn_prf(average, modifier, msg_start, len(result))\n"
     ]
    }
   ],
   "source": [
    "predictions = gs.predict(X_test_tfidf)\n",
    "\n",
    "print('정답률:', accuracy_score(predictions, y_test))\n",
    "print(classification_report(y_test, predictions))"
   ]
  },
  {
   "cell_type": "code",
   "execution_count": null,
   "metadata": {},
   "outputs": [],
   "source": []
  },
  {
   "cell_type": "markdown",
   "metadata": {},
   "source": [
    "각 알고리즘 ROC Curve\n",
    "tfidf.fit : 과제 okt_hannanum_kkma + 사업개요 all_word_new"
   ]
  },
  {
   "cell_type": "code",
   "execution_count": 6,
   "metadata": {},
   "outputs": [],
   "source": [
    "company=pd.read_excel('./final_data/company_final_new_210222.xlsx')\n",
    "support=pd.read_excel('./final_data/support_final_new_210222.xlsx')"
   ]
  },
  {
   "cell_type": "code",
   "execution_count": 7,
   "metadata": {},
   "outputs": [
    {
     "data": {
      "text/plain": [
       "TfidfVectorizer(min_df=5, ngram_range=(1, 2), sublinear_tf=True)"
      ]
     },
     "execution_count": 7,
     "metadata": {},
     "output_type": "execute_result"
    }
   ],
   "source": [
    "X_train, X_test, y_train, y_test = train_test_split(company['okt_han_kkma'], company.category,\\\n",
    "                                                    shuffle=True, random_state=1, \\\n",
    "                                                    stratify = company.category)\n",
    "\n",
    "\n",
    "#comp_word=company['all_word'].tolist()\n",
    "X_train_pd=pd.DataFrame(X_train)\n",
    "comp_word=X_train_pd['okt_han_kkma'].tolist()\n",
    "sup_word=support['all_word_new'].tolist()\n",
    "word_list=list(set(comp_word+sup_word))\n",
    "\n",
    "tfidf = TfidfVectorizer(analyzer = 'word', ngram_range = (1,2), min_df =5, sublinear_tf = True)\n",
    "tfidf.fit(word_list)"
   ]
  },
  {
   "cell_type": "code",
   "execution_count": 8,
   "metadata": {},
   "outputs": [
    {
     "name": "stdout",
     "output_type": "stream",
     "text": [
      "(5401, 42632)\n",
      "(1801, 42632)\n"
     ]
    }
   ],
   "source": [
    "temp =X_train.tolist()\n",
    "X_train_tfidf = tfidf.transform(temp)\n",
    "print(X_train_tfidf.shape)\n",
    "\n",
    "#X_test 벡터화\n",
    "temp =X_test.tolist()\n",
    "X_test_tfidf = tfidf.transform(temp)\n",
    "print(X_test_tfidf.shape)"
   ]
  },
  {
   "cell_type": "code",
   "execution_count": 9,
   "metadata": {},
   "outputs": [],
   "source": [
    "svc_clf=SVC(kernel='sigmoid', C=10, gamma=1)\n",
    "lisvc_clf=LinearSVC(C=1000,max_iter=500, penalty='l2')\n",
    "rf_clf = RandomForestClassifier(criterion='gini',max_depth=32, max_leaf_nodes=256,n_estimators=700, oob_score=True)\n",
    "knn_clf=KNeighborsClassifier(algorithm='auto', leaf_size=1, n_neighbors=5,  weights='distance')\n",
    "mod_clf = MultinomialNB(alpha=0.03)\n"
   ]
  },
  {
   "cell_type": "code",
   "execution_count": 10,
   "metadata": {},
   "outputs": [],
   "source": [
    "from yellowbrick.classifier import ROCAUC\n",
    "from tqdm import tqdm_notebook\n",
    "from yellowbrick.classifier import ConfusionMatrix"
   ]
  },
  {
   "cell_type": "code",
   "execution_count": 49,
   "metadata": {},
   "outputs": [
    {
     "name": "stderr",
     "output_type": "stream",
     "text": [
      "<ipython-input-49-d54641796194>:3: TqdmDeprecationWarning: This function will be removed in tqdm==5.0.0\n",
      "Please use `tqdm.notebook.tqdm` instead of `tqdm.tqdm_notebook`\n",
      "  for model in tqdm_notebook(models):\n"
     ]
    },
    {
     "data": {
      "application/vnd.jupyter.widget-view+json": {
       "model_id": "d9a34489c24d4013be0ecced6c3ce197",
       "version_major": 2,
       "version_minor": 0
      },
      "text/plain": [
       "HBox(children=(HTML(value=''), FloatProgress(value=0.0, max=5.0), HTML(value='')))"
      ]
     },
     "metadata": {},
     "output_type": "display_data"
    },
    {
     "name": "stdout",
     "output_type": "stream",
     "text": [
      "====================SVC(C=10, gamma=1, kernel='sigmoid')ROCAUC====================\n"
     ]
    },
    {
     "data": {
      "image/png": "[encoded data removed]",
      "text/plain": [
       "<Figure size 576x396 with 1 Axes>"
      ]
     },
     "metadata": {},
     "output_type": "display_data"
    },
    {
     "name": "stdout",
     "output_type": "stream",
     "text": [
      "====================SVC(C=10, gamma=1, kernel='sigmoid')ConfusionMatrix====================\n"
     ]
    },
    {
     "data": {
      "image/png": "[encoded data removed]",
      "text/plain": [
       "<Figure size 400x400 with 1 Axes>"
      ]
     },
     "metadata": {},
     "output_type": "display_data"
    },
    {
     "name": "stdout",
     "output_type": "stream",
     "text": [
      "====================LinearSVC(C=1000, max_iter=500)ROCAUC====================\n"
     ]
    },
    {
     "data": {
      "image/png": "[encoded data removed]",
      "text/plain": [
       "<Figure size 576x396 with 1 Axes>"
      ]
     },
     "metadata": {},
     "output_type": "display_data"
    },
    {
     "name": "stdout",
     "output_type": "stream",
     "text": [
      "====================LinearSVC(C=1000, max_iter=500)ConfusionMatrix====================\n"
     ]
    },
    {
     "data": {
      "image/png": "[encoded data removed]",
      "text/plain": [
       "<Figure size 400x400 with 1 Axes>"
      ]
     },
     "metadata": {},
     "output_type": "display_data"
    },
    {
     "name": "stdout",
     "output_type": "stream",
     "text": [
      "====================RandomForestClassifier(max_depth=32, max_leaf_nodes=256, n_estimators=700,\n",
      "                       oob_score=True)ROCAUC====================\n"
     ]
    },
    {
     "data": {
      "image/png": "[encoded data removed]",
      "text/plain": [
       "<Figure size 576x396 with 1 Axes>"
      ]
     },
     "metadata": {},
     "output_type": "display_data"
    },
    {
     "name": "stdout",
     "output_type": "stream",
     "text": [
      "====================RandomForestClassifier(max_depth=32, max_leaf_nodes=256, n_estimators=700,\n",
      "                       oob_score=True)ConfusionMatrix====================\n"
     ]
    },
    {
     "data": {
      "image/png": "[encoded data removed]",
      "text/plain": [
       "<Figure size 400x400 with 1 Axes>"
      ]
     },
     "metadata": {},
     "output_type": "display_data"
    },
    {
     "name": "stdout",
     "output_type": "stream",
     "text": [
      "====================KNeighborsClassifier(leaf_size=1, weights='distance')ROCAUC====================\n"
     ]
    },
    {
     "data": {
      "image/png": "[encoded data removed]",
      "text/plain": [
       "<Figure size 576x396 with 1 Axes>"
      ]
     },
     "metadata": {},
     "output_type": "display_data"
    },
    {
     "name": "stdout",
     "output_type": "stream",
     "text": [
      "====================KNeighborsClassifier(leaf_size=1, weights='distance')ConfusionMatrix====================\n"
     ]
    },
    {
     "data": {
      "image/png": "[encoded data removed]",
      "text/plain": [
       "<Figure size 400x400 with 1 Axes>"
      ]
     },
     "metadata": {},
     "output_type": "display_data"
    },
    {
     "name": "stdout",
     "output_type": "stream",
     "text": [
      "====================MultinomialNB(alpha=0.03)ROCAUC====================\n"
     ]
    },
    {
     "data": {
      "image/png": "[encoded data removed]",
      "text/plain": [
       "<Figure size 576x396 with 1 Axes>"
      ]
     },
     "metadata": {},
     "output_type": "display_data"
    },
    {
     "name": "stdout",
     "output_type": "stream",
     "text": [
      "====================MultinomialNB(alpha=0.03)ConfusionMatrix====================\n"
     ]
    },
    {
     "data": {
      "image/png": "[encoded data removed]",
      "text/plain": [
       "<Figure size 400x400 with 1 Axes>"
      ]
     },
     "metadata": {},
     "output_type": "display_data"
    },
    {
     "name": "stdout",
     "output_type": "stream",
     "text": [
      "\n"
     ]
    }
   ],
   "source": [
    "models=[svc_clf, lisvc_clf, rf_clf, knn_clf, mod_clf]\n",
    "\n",
    "for model in tqdm_notebook(models):\n",
    "    print('====================%sROCAUC===================='%model)\n",
    "    visualizer = ROCAUC(model, classes=[0,1,2,3,4,5,6], micro=False, macro=True, per_class=False)\n",
    "    visualizer.fit(X_train_tfidf, y_train)\n",
    "    visualizer.score(X_test_tfidf, y_test)\n",
    "    visualizer.show()\n",
    "    \n",
    "    print('====================%sConfusionMatrix===================='%model)\n",
    "\n",
    "    plt.figure()\n",
    "    plt.title(\"%s_Confusion Matrix\"%model, fontsize=18)\n",
    "    plt.xlabel(\"Predicted Class\", fontsize=16)\n",
    "    plt.ylabel(\"True Class\", fontsize=15)\n",
    "\n",
    "    cm = ConfusionMatrix(model, classes=[0,1,2,3,4,5,6], size=(400,400),fontsize=15, cmap='GnBu')\n",
    "    cm.fit(X_train_tfidf, y_train)\n",
    "    cm.score(X_test_tfidf, y_test)\n",
    "    plt.show()"
   ]
  },
  {
   "cell_type": "code",
   "execution_count": 11,
   "metadata": {},
   "outputs": [],
   "source": [
    "from sklearn.metrics import recall_score , precision_score , f1_score , accuracy_score,classification_report"
   ]
  },
  {
   "cell_type": "code",
   "execution_count": 73,
   "metadata": {},
   "outputs": [
    {
     "name": "stdout",
     "output_type": "stream",
     "text": [
      "========== SVC(C=10, gamma=1, kernel='sigmoid') ==========\n",
      "accuracy: 0.9555802332037757\n",
      "precison: 0.9607057259774494\n",
      "recall: 0.9607057259774494\n",
      "f1: 0.9575636888556922\n",
      "추가 완료\n",
      "classification report\n",
      "              precision    recall  f1-score   support\n",
      "\n",
      "           0       0.91      0.81      0.86       189\n",
      "           1       0.00      0.00      0.00         3\n",
      "           2       1.00      0.94      0.97        18\n",
      "           3       1.00      0.44      0.62         9\n",
      "           4       0.98      0.99      0.98      1210\n",
      "           5       0.90      0.94      0.92       371\n",
      "           6       0.00      0.00      0.00         1\n",
      "\n",
      "    accuracy                           0.96      1801\n",
      "   macro avg       0.68      0.59      0.62      1801\n",
      "weighted avg       0.95      0.96      0.95      1801\n",
      "\n",
      "===========================\n",
      "========== LinearSVC(C=1000, max_iter=500) ==========\n"
     ]
    },
    {
     "name": "stderr",
     "output_type": "stream",
     "text": [
      "C:\\Users\\user\\anaconda3\\lib\\site-packages\\sklearn\\metrics\\_classification.py:1221: UndefinedMetricWarning: Precision and F-score are ill-defined and being set to 0.0 in labels with no predicted samples. Use `zero_division` parameter to control this behavior.\n",
      "  _warn_prf(average, modifier, msg_start, len(result))\n",
      "C:\\Users\\user\\anaconda3\\lib\\site-packages\\sklearn\\svm\\_base.py:976: ConvergenceWarning: Liblinear failed to converge, increase the number of iterations.\n",
      "  warnings.warn(\"Liblinear failed to converge, increase \"\n"
     ]
    },
    {
     "name": "stdout",
     "output_type": "stream",
     "text": [
      "accuracy: 0.9555802332037757\n",
      "precison: 0.9632447605119544\n",
      "recall: 0.9632447605119544\n",
      "f1: 0.9581013498076363\n",
      "추가 완료\n",
      "classification report\n",
      "              precision    recall  f1-score   support\n",
      "\n",
      "           0       0.97      0.78      0.86       189\n",
      "           1       0.00      0.00      0.00         3\n",
      "           2       1.00      1.00      1.00        18\n",
      "           3       1.00      0.44      0.62         9\n",
      "           4       0.97      0.99      0.98      1210\n",
      "           5       0.90      0.95      0.93       371\n",
      "           6       0.00      0.00      0.00         1\n",
      "\n",
      "    accuracy                           0.96      1801\n",
      "   macro avg       0.69      0.59      0.63      1801\n",
      "weighted avg       0.95      0.96      0.95      1801\n",
      "\n",
      "===========================\n",
      "========== RandomForestClassifier(max_depth=32, max_leaf_nodes=256, n_estimators=700,\n",
      "                       oob_score=True) ==========\n",
      "accuracy: 0.8484175458078845\n",
      "precison: 0.9243568190948293\n",
      "recall: 0.9243568190948293\n",
      "f1: 0.8698923289156432\n",
      "추가 완료\n",
      "classification report\n",
      "              precision    recall  f1-score   support\n",
      "\n",
      "           0       1.00      0.37      0.54       189\n",
      "           1       0.00      0.00      0.00         3\n",
      "           2       1.00      0.17      0.29        18\n",
      "           3       0.00      0.00      0.00         9\n",
      "           4       0.82      1.00      0.90      1210\n",
      "           5       0.95      0.67      0.78       371\n",
      "           6       0.00      0.00      0.00         1\n",
      "\n",
      "    accuracy                           0.85      1801\n",
      "   macro avg       0.54      0.31      0.36      1801\n",
      "weighted avg       0.86      0.85      0.83      1801\n",
      "\n",
      "===========================\n",
      "========== KNeighborsClassifier(leaf_size=1, weights='distance') ==========\n"
     ]
    },
    {
     "name": "stderr",
     "output_type": "stream",
     "text": [
      "C:\\Users\\user\\anaconda3\\lib\\site-packages\\sklearn\\metrics\\_classification.py:1221: UndefinedMetricWarning: Precision and F-score are ill-defined and being set to 0.0 in labels with no predicted samples. Use `zero_division` parameter to control this behavior.\n",
      "  _warn_prf(average, modifier, msg_start, len(result))\n"
     ]
    },
    {
     "name": "stdout",
     "output_type": "stream",
     "text": [
      "accuracy: 0.832870627429206\n",
      "precison: 0.8609299209996554\n",
      "recall: 0.8609299209996554\n",
      "f1: 0.8426117540778515\n",
      "추가 완료\n",
      "classification report\n",
      "              precision    recall  f1-score   support\n",
      "\n",
      "           0       0.74      0.43      0.54       189\n",
      "           1       1.00      0.67      0.80         3\n",
      "           2       0.85      0.94      0.89        18\n",
      "           3       0.80      0.44      0.57         9\n",
      "           4       0.86      0.94      0.90      1210\n",
      "           5       0.77      0.71      0.74       371\n",
      "           6       0.00      0.00      0.00         1\n",
      "\n",
      "    accuracy                           0.83      1801\n",
      "   macro avg       0.72      0.59      0.63      1801\n",
      "weighted avg       0.83      0.83      0.82      1801\n",
      "\n",
      "===========================\n",
      "========== MultinomialNB(alpha=0.03) ==========\n",
      "accuracy: 0.8573014991671294\n",
      "precison: 0.8980419080121648\n",
      "recall: 0.8980419080121648\n",
      "f1: 0.8710355727373499\n",
      "추가 완료\n",
      "classification report\n",
      "              precision    recall  f1-score   support\n",
      "\n",
      "           0       0.82      0.41      0.54       189\n",
      "           1       0.00      0.00      0.00         3\n",
      "           2       1.00      0.67      0.80        18\n",
      "           3       1.00      0.11      0.20         9\n",
      "           4       0.87      0.97      0.91      1210\n",
      "           5       0.83      0.75      0.79       371\n",
      "           6       0.00      0.00      0.00         1\n",
      "\n",
      "    accuracy                           0.86      1801\n",
      "   macro avg       0.65      0.42      0.46      1801\n",
      "weighted avg       0.85      0.86      0.84      1801\n",
      "\n",
      "===========================\n"
     ]
    },
    {
     "name": "stderr",
     "output_type": "stream",
     "text": [
      "C:\\Users\\user\\anaconda3\\lib\\site-packages\\sklearn\\metrics\\_classification.py:1221: UndefinedMetricWarning: Precision and F-score are ill-defined and being set to 0.0 in labels with no predicted samples. Use `zero_division` parameter to control this behavior.\n",
      "  _warn_prf(average, modifier, msg_start, len(result))\n",
      "C:\\Users\\user\\anaconda3\\lib\\site-packages\\sklearn\\metrics\\_classification.py:1221: UndefinedMetricWarning: Precision and F-score are ill-defined and being set to 0.0 in labels with no predicted samples. Use `zero_division` parameter to control this behavior.\n",
      "  _warn_prf(average, modifier, msg_start, len(result))\n"
     ]
    }
   ],
   "source": [
    "acc=[]\n",
    "pre=[]\n",
    "rec=[]\n",
    "f=[]\n",
    "\n",
    "for model in models:\n",
    "    print('==========',model,'==========')\n",
    "    model.fit(X_train_tfidf, y_train)\n",
    "    pred=model.predict(X_test_tfidf)\n",
    "    accuracy=accuracy_score(pred, y_test)\n",
    "    precison = precision_score(pred, y_test, average='weighted')\n",
    "    recall = precision_score(pred, y_test, average='weighted')\n",
    "    f1 = f1_score(pred, y_test, average='weighted')\n",
    "    print(\"accuracy:\", accuracy)\n",
    "    print(\"precison:\", precison)\n",
    "    print(\"recall:\", recall)\n",
    "    print(\"f1:\", f1)\n",
    "    acc.append(accuracy)\n",
    "    pre.append(precison)\n",
    "    rec.append(recall)\n",
    "    f.append(f1)\n",
    "    print('추가 완료')\n",
    "    print('classification report')\n",
    "    print(classification_report(y_test, pred))\n",
    "    print('===========================')"
   ]
  },
  {
   "cell_type": "code",
   "execution_count": 74,
   "metadata": {},
   "outputs": [],
   "source": [
    "#######결과#########\n",
    "col_name=['accuracy','precision','recall','f1']\n",
    "index_name=['SVC(sigmoid)','LinearSVC','RandomForest', 'KNN','NaiveBayes']\n",
    "score_df=pd.DataFrame({col_name[0]:acc,\n",
    "                      col_name[1]:pre,\n",
    "                      col_name[2]:rec,\n",
    "                      col_name[3]:f},\n",
    "                     index=index_name)"
   ]
  },
  {
   "cell_type": "code",
   "execution_count": 75,
   "metadata": {},
   "outputs": [
    {
     "data": {
      "text/html": [
       "<div>\n",
       "<style scoped>\n",
       "    .dataframe tbody tr th:only-of-type {\n",
       "        vertical-align: middle;\n",
       "    }\n",
       "\n",
       "    .dataframe tbody tr th {\n",
       "        vertical-align: top;\n",
       "    }\n",
       "\n",
       "    .dataframe thead th {\n",
       "        text-align: right;\n",
       "    }\n",
       "</style>\n",
       "<table border=\"1\" class=\"dataframe\">\n",
       "  <thead>\n",
       "    <tr style=\"text-align: right;\">\n",
       "      <th></th>\n",
       "      <th>accuracy</th>\n",
       "      <th>precision</th>\n",
       "      <th>recall</th>\n",
       "      <th>f1</th>\n",
       "    </tr>\n",
       "  </thead>\n",
       "  <tbody>\n",
       "    <tr>\n",
       "      <th>SVC(sigmoid)</th>\n",
       "      <td>0.955580</td>\n",
       "      <td>0.960706</td>\n",
       "      <td>0.960706</td>\n",
       "      <td>0.957564</td>\n",
       "    </tr>\n",
       "    <tr>\n",
       "      <th>LinearSVC</th>\n",
       "      <td>0.955580</td>\n",
       "      <td>0.963245</td>\n",
       "      <td>0.963245</td>\n",
       "      <td>0.958101</td>\n",
       "    </tr>\n",
       "    <tr>\n",
       "      <th>RandomForest</th>\n",
       "      <td>0.848418</td>\n",
       "      <td>0.924357</td>\n",
       "      <td>0.924357</td>\n",
       "      <td>0.869892</td>\n",
       "    </tr>\n",
       "    <tr>\n",
       "      <th>KNN</th>\n",
       "      <td>0.832871</td>\n",
       "      <td>0.860930</td>\n",
       "      <td>0.860930</td>\n",
       "      <td>0.842612</td>\n",
       "    </tr>\n",
       "    <tr>\n",
       "      <th>NaiveBayes</th>\n",
       "      <td>0.857301</td>\n",
       "      <td>0.898042</td>\n",
       "      <td>0.898042</td>\n",
       "      <td>0.871036</td>\n",
       "    </tr>\n",
       "  </tbody>\n",
       "</table>\n",
       "</div>"
      ],
      "text/plain": [
       "              accuracy  precision    recall        f1\n",
       "SVC(sigmoid)  0.955580   0.960706  0.960706  0.957564\n",
       "LinearSVC     0.955580   0.963245  0.963245  0.958101\n",
       "RandomForest  0.848418   0.924357  0.924357  0.869892\n",
       "KNN           0.832871   0.860930  0.860930  0.842612\n",
       "NaiveBayes    0.857301   0.898042  0.898042  0.871036"
      ]
     },
     "execution_count": 75,
     "metadata": {},
     "output_type": "execute_result"
    }
   ],
   "source": [
    "score_df"
   ]
  },
  {
   "cell_type": "code",
   "execution_count": 76,
   "metadata": {},
   "outputs": [],
   "source": [
    "#엑셀파일 저장\n",
    "writer = pd.ExcelWriter('./project_data/model/최종_5개알고리즘_score.xlsx', engine='xlsxwriter')  #경로 각자에 맞게 변경\n",
    "score_df.to_excel(writer)\n",
    "writer.save()"
   ]
  },
  {
   "cell_type": "code",
   "execution_count": null,
   "metadata": {},
   "outputs": [],
   "source": []
  },
  {
   "cell_type": "markdown",
   "metadata": {},
   "source": [
    "# 최종모델저장"
   ]
  },
  {
   "cell_type": "code",
   "execution_count": 50,
   "metadata": {},
   "outputs": [
    {
     "data": {
      "text/plain": [
       "TfidfVectorizer(min_df=5, ngram_range=(1, 2), sublinear_tf=True)"
      ]
     },
     "execution_count": 50,
     "metadata": {},
     "output_type": "execute_result"
    }
   ],
   "source": [
    "comp_word=company['okt_han_kkma'].tolist()\n",
    "sup_word=support['all_word_new'].tolist()\n",
    "word_list=list(set(comp_word+sup_word))\n",
    "\n",
    "tfidf = TfidfVectorizer(analyzer = 'word', ngram_range = (1,2), min_df =5, sublinear_tf = True)\n",
    "tfidf.fit(word_list)"
   ]
  },
  {
   "cell_type": "code",
   "execution_count": 51,
   "metadata": {},
   "outputs": [
    {
     "name": "stdout",
     "output_type": "stream",
     "text": [
      "(7202, 52071)\n"
     ]
    }
   ],
   "source": [
    "#company['okt_han_kkma'] 벡터화\n",
    "temp =company['okt_han_kkma'].tolist()\n",
    "X_tfidf = tfidf.transform(temp)\n",
    "print(X_tfidf.shape)\n",
    "\n",
    "y=company['category']"
   ]
  },
  {
   "cell_type": "code",
   "execution_count": 52,
   "metadata": {},
   "outputs": [
    {
     "data": {
      "text/plain": [
       "SVC(C=10, gamma=1, kernel='sigmoid', probability=True)"
      ]
     },
     "execution_count": 52,
     "metadata": {},
     "output_type": "execute_result"
    }
   ],
   "source": [
    "svc_model= SVC(kernel='sigmoid', C=10, gamma=1,  probability=True)\n",
    "svc_model.fit(X_tfidf, y)"
   ]
  },
  {
   "cell_type": "code",
   "execution_count": 53,
   "metadata": {},
   "outputs": [
    {
     "data": {
      "text/plain": [
       "['./project_data/final_data/svc_model_0224.pkl']"
      ]
     },
     "execution_count": 53,
     "metadata": {},
     "output_type": "execute_result"
    }
   ],
   "source": [
    "joblib.dump(svc_model,'./project_data/final_data/svc_model_0224.pkl') #final_data로 이동"
   ]
  },
  {
   "cell_type": "code",
   "execution_count": 54,
   "metadata": {},
   "outputs": [
    {
     "name": "stderr",
     "output_type": "stream",
     "text": [
      "C:\\Users\\user\\anaconda3\\lib\\site-packages\\sklearn\\svm\\_base.py:976: ConvergenceWarning: Liblinear failed to converge, increase the number of iterations.\n",
      "  warnings.warn(\"Liblinear failed to converge, increase \"\n"
     ]
    },
    {
     "data": {
      "text/plain": [
       "LinearSVC(C=1000, max_iter=500)"
      ]
     },
     "execution_count": 54,
     "metadata": {},
     "output_type": "execute_result"
    }
   ],
   "source": [
    "lisvc_model= LinearSVC(C=1000,max_iter=500, penalty='l2')\n",
    "lisvc_model.fit(X_tfidf, y)"
   ]
  },
  {
   "cell_type": "code",
   "execution_count": 55,
   "metadata": {},
   "outputs": [
    {
     "data": {
      "text/plain": [
       "['./project_data/final_data/lisvc_model_0224.pkl']"
      ]
     },
     "execution_count": 55,
     "metadata": {},
     "output_type": "execute_result"
    }
   ],
   "source": [
    "joblib.dump(lisvc_model,'./project_data/final_data/lisvc_model_0224.pkl')"
   ]
  },
  {
   "cell_type": "code",
   "execution_count": null,
   "metadata": {},
   "outputs": [],
   "source": []
  },
  {
   "cell_type": "code",
   "execution_count": null,
   "metadata": {},
   "outputs": [],
   "source": []
  },
  {
   "cell_type": "markdown",
   "metadata": {},
   "source": [
    "random_state다르게 해서 svc, linearsvc 비교하기"
   ]
  },
  {
   "cell_type": "code",
   "execution_count": 63,
   "metadata": {},
   "outputs": [
    {
     "data": {
      "text/plain": [
       "TfidfVectorizer(min_df=5, ngram_range=(1, 2), sublinear_tf=True)"
      ]
     },
     "execution_count": 63,
     "metadata": {},
     "output_type": "execute_result"
    }
   ],
   "source": [
    "X_train, X_test, y_train, y_test = train_test_split(company['okt_han_kkma'], company.category,\\\n",
    "                                                    shuffle=True,\\\n",
    "                                                    stratify = company.category)\n",
    "\n",
    "\n",
    "#comp_word=company['all_word'].tolist()\n",
    "X_train_pd=pd.DataFrame(X_train)\n",
    "comp_word=X_train_pd['okt_han_kkma'].tolist()\n",
    "sup_word=support['all_word_new'].tolist()\n",
    "word_list=list(set(comp_word+sup_word))\n",
    "\n",
    "tfidf = TfidfVectorizer(analyzer = 'word', ngram_range = (1,2), min_df =5, sublinear_tf = True)\n",
    "tfidf.fit(word_list)"
   ]
  },
  {
   "cell_type": "code",
   "execution_count": 64,
   "metadata": {},
   "outputs": [
    {
     "name": "stdout",
     "output_type": "stream",
     "text": [
      "(5401, 42869)\n",
      "(1801, 42869)\n"
     ]
    }
   ],
   "source": [
    "temp =X_train.tolist()\n",
    "X_train_tfidf = tfidf.transform(temp)\n",
    "print(X_train_tfidf.shape)\n",
    "\n",
    "#X_test 벡터화\n",
    "temp =X_test.tolist()\n",
    "X_test_tfidf = tfidf.transform(temp)\n",
    "print(X_test_tfidf.shape)"
   ]
  },
  {
   "cell_type": "code",
   "execution_count": 65,
   "metadata": {},
   "outputs": [],
   "source": [
    "svc_clf=SVC(kernel='sigmoid', C=10, gamma=1)\n",
    "lisvc_clf=LinearSVC(C=1000,max_iter=500, penalty='l2')"
   ]
  },
  {
   "cell_type": "markdown",
   "metadata": {},
   "source": [
    "랜덤 1차"
   ]
  },
  {
   "cell_type": "code",
   "execution_count": 62,
   "metadata": {},
   "outputs": [
    {
     "name": "stdout",
     "output_type": "stream",
     "text": [
      "========== SVC(C=10, gamma=1, kernel='sigmoid') ==========\n",
      "accuracy: 0.9511382565241533\n",
      "precison: 0.959566223893837\n",
      "recall: 0.959566223893837\n",
      "f1: 0.9547427558021017\n",
      "추가 완료\n",
      "classification report\n",
      "              precision    recall  f1-score   support\n",
      "\n",
      "           0       0.89      0.79      0.84       189\n",
      "           1       0.00      0.00      0.00         3\n",
      "           2       1.00      0.94      0.97        18\n",
      "           3       1.00      0.11      0.20         9\n",
      "           4       0.97      0.99      0.98      1210\n",
      "           5       0.92      0.93      0.93       371\n",
      "           6       0.00      0.00      0.00         1\n",
      "\n",
      "    accuracy                           0.95      1801\n",
      "   macro avg       0.68      0.54      0.56      1801\n",
      "weighted avg       0.95      0.95      0.95      1801\n",
      "\n",
      "===========================\n",
      "========== LinearSVC(C=1000, max_iter=500) ==========\n"
     ]
    },
    {
     "name": "stderr",
     "output_type": "stream",
     "text": [
      "C:\\Users\\user\\anaconda3\\lib\\site-packages\\sklearn\\metrics\\_classification.py:1221: UndefinedMetricWarning: Precision and F-score are ill-defined and being set to 0.0 in labels with no predicted samples. Use `zero_division` parameter to control this behavior.\n",
      "  _warn_prf(average, modifier, msg_start, len(result))\n",
      "C:\\Users\\user\\anaconda3\\lib\\site-packages\\sklearn\\svm\\_base.py:976: ConvergenceWarning: Liblinear failed to converge, increase the number of iterations.\n",
      "  warnings.warn(\"Liblinear failed to converge, increase \"\n"
     ]
    },
    {
     "name": "stdout",
     "output_type": "stream",
     "text": [
      "accuracy: 0.9483620210993893\n",
      "precison: 0.9578774165058895\n",
      "recall: 0.9578774165058895\n",
      "f1: 0.9515513545232255\n",
      "추가 완료\n",
      "classification report\n",
      "              precision    recall  f1-score   support\n",
      "\n",
      "           0       0.94      0.74      0.83       189\n",
      "           1       1.00      0.33      0.50         3\n",
      "           2       1.00      0.94      0.97        18\n",
      "           3       1.00      0.22      0.36         9\n",
      "           4       0.96      0.99      0.98      1210\n",
      "           5       0.90      0.93      0.92       371\n",
      "           6       0.00      0.00      0.00         1\n",
      "\n",
      "    accuracy                           0.95      1801\n",
      "   macro avg       0.83      0.60      0.65      1801\n",
      "weighted avg       0.95      0.95      0.95      1801\n",
      "\n",
      "===========================\n",
      "========== RandomForestClassifier(max_depth=32, max_leaf_nodes=256, n_estimators=700,\n",
      "                       oob_score=True) ==========\n",
      "accuracy: 0.8345363686840644\n",
      "precison: 0.9207791568280262\n",
      "recall: 0.9207791568280262\n",
      "f1: 0.8581696449568895\n",
      "추가 완료\n",
      "classification report\n",
      "              precision    recall  f1-score   support\n",
      "\n",
      "           0       1.00      0.35      0.52       189\n",
      "           1       0.00      0.00      0.00         3\n",
      "           2       1.00      0.17      0.29        18\n",
      "           3       0.00      0.00      0.00         9\n",
      "           4       0.81      1.00      0.89      1210\n",
      "           5       0.96      0.61      0.75       371\n",
      "           6       0.00      0.00      0.00         1\n",
      "\n",
      "    accuracy                           0.83      1801\n",
      "   macro avg       0.54      0.30      0.35      1801\n",
      "weighted avg       0.85      0.83      0.81      1801\n",
      "\n",
      "===========================\n",
      "========== KNeighborsClassifier(leaf_size=1, weights='distance') ==========\n"
     ]
    },
    {
     "name": "stderr",
     "output_type": "stream",
     "text": [
      "C:\\Users\\user\\anaconda3\\lib\\site-packages\\sklearn\\metrics\\_classification.py:1221: UndefinedMetricWarning: Precision and F-score are ill-defined and being set to 0.0 in labels with no predicted samples. Use `zero_division` parameter to control this behavior.\n",
      "  _warn_prf(average, modifier, msg_start, len(result))\n"
     ]
    },
    {
     "name": "stdout",
     "output_type": "stream",
     "text": [
      "accuracy: 0.8212104386451972\n",
      "precison: 0.851522316476892\n",
      "recall: 0.851522316476892\n",
      "f1: 0.8318441909437516\n",
      "추가 완료\n",
      "classification report\n",
      "              precision    recall  f1-score   support\n",
      "\n",
      "           0       0.72      0.43      0.54       189\n",
      "           1       1.00      0.67      0.80         3\n",
      "           2       0.77      0.94      0.85        18\n",
      "           3       1.00      0.22      0.36         9\n",
      "           4       0.85      0.93      0.89      1210\n",
      "           5       0.74      0.67      0.70       371\n",
      "           6       0.00      0.00      0.00         1\n",
      "\n",
      "    accuracy                           0.82      1801\n",
      "   macro avg       0.73      0.55      0.59      1801\n",
      "weighted avg       0.81      0.82      0.81      1801\n",
      "\n",
      "===========================\n",
      "========== MultinomialNB(alpha=0.03) ==========\n",
      "accuracy: 0.8478622987229317\n",
      "precison: 0.8908879774863319\n",
      "recall: 0.8908879774863319\n",
      "f1: 0.8620902797719507\n",
      "추가 완료\n",
      "classification report\n",
      "              precision    recall  f1-score   support\n",
      "\n",
      "           0       0.85      0.43      0.57       189\n",
      "           1       0.00      0.00      0.00         3\n",
      "           2       1.00      0.72      0.84        18\n",
      "           3       0.00      0.00      0.00         9\n",
      "           4       0.85      0.97      0.91      1210\n",
      "           5       0.81      0.70      0.75       371\n",
      "           6       0.00      0.00      0.00         1\n",
      "\n",
      "    accuracy                           0.85      1801\n",
      "   macro avg       0.50      0.40      0.44      1801\n",
      "weighted avg       0.84      0.85      0.83      1801\n",
      "\n",
      "===========================\n"
     ]
    },
    {
     "name": "stderr",
     "output_type": "stream",
     "text": [
      "C:\\Users\\user\\anaconda3\\lib\\site-packages\\sklearn\\metrics\\_classification.py:1221: UndefinedMetricWarning: Precision and F-score are ill-defined and being set to 0.0 in labels with no predicted samples. Use `zero_division` parameter to control this behavior.\n",
      "  _warn_prf(average, modifier, msg_start, len(result))\n",
      "C:\\Users\\user\\anaconda3\\lib\\site-packages\\sklearn\\metrics\\_classification.py:1221: UndefinedMetricWarning: Precision and F-score are ill-defined and being set to 0.0 in labels with no predicted samples. Use `zero_division` parameter to control this behavior.\n",
      "  _warn_prf(average, modifier, msg_start, len(result))\n"
     ]
    }
   ],
   "source": [
    "acc=[]\n",
    "pre=[]\n",
    "rec=[]\n",
    "f=[]\n",
    "\n",
    "for model in models:\n",
    "    print('==========',model,'==========')\n",
    "    model.fit(X_train_tfidf, y_train)\n",
    "    pred=model.predict(X_test_tfidf)\n",
    "    accuracy=accuracy_score(pred, y_test)\n",
    "    precison = precision_score(pred, y_test, average='weighted')\n",
    "    recall = precision_score(pred, y_test, average='weighted')\n",
    "    f1 = f1_score(pred, y_test, average='weighted')\n",
    "    print(\"accuracy:\", accuracy)\n",
    "    print(\"precison:\", precison)\n",
    "    print(\"recall:\", recall)\n",
    "    print(\"f1:\", f1)\n",
    "    acc.append(accuracy)\n",
    "    pre.append(precison)\n",
    "    rec.append(recall)\n",
    "    f.append(f1)\n",
    "    print('추가 완료')\n",
    "    print('classification report')\n",
    "    print(classification_report(y_test, pred))\n",
    "    print('===========================')"
   ]
  },
  {
   "cell_type": "markdown",
   "metadata": {},
   "source": [
    "2차"
   ]
  },
  {
   "cell_type": "code",
   "execution_count": 66,
   "metadata": {},
   "outputs": [
    {
     "name": "stdout",
     "output_type": "stream",
     "text": [
      "========== SVC(C=10, gamma=1, kernel='sigmoid') ==========\n",
      "accuracy: 0.943364797334814\n",
      "precison: 0.9518216516331723\n",
      "recall: 0.9518216516331723\n",
      "f1: 0.946546373562149\n",
      "추가 완료\n",
      "classification report\n",
      "              precision    recall  f1-score   support\n",
      "\n",
      "           0       0.90      0.77      0.83       189\n",
      "           1       0.00      0.00      0.00         3\n",
      "           2       1.00      0.83      0.91        18\n",
      "           3       1.00      0.33      0.50         9\n",
      "           4       0.96      0.99      0.98      1210\n",
      "           5       0.91      0.90      0.91       371\n",
      "           6       0.00      0.00      0.00         1\n",
      "\n",
      "    accuracy                           0.94      1801\n",
      "   macro avg       0.68      0.55      0.59      1801\n",
      "weighted avg       0.94      0.94      0.94      1801\n",
      "\n",
      "===========================\n",
      "========== LinearSVC(C=1000, max_iter=500) ==========\n"
     ]
    },
    {
     "name": "stderr",
     "output_type": "stream",
     "text": [
      "C:\\Users\\user\\anaconda3\\lib\\site-packages\\sklearn\\metrics\\_classification.py:1221: UndefinedMetricWarning: Precision and F-score are ill-defined and being set to 0.0 in labels with no predicted samples. Use `zero_division` parameter to control this behavior.\n",
      "  _warn_prf(average, modifier, msg_start, len(result))\n",
      "C:\\Users\\user\\anaconda3\\lib\\site-packages\\sklearn\\svm\\_base.py:976: ConvergenceWarning: Liblinear failed to converge, increase the number of iterations.\n",
      "  warnings.warn(\"Liblinear failed to converge, increase \"\n"
     ]
    },
    {
     "name": "stdout",
     "output_type": "stream",
     "text": [
      "accuracy: 0.9428095502498612\n",
      "precison: 0.9516063500415629\n",
      "recall: 0.9516063500415629\n",
      "f1: 0.9459725447799436\n",
      "추가 완료\n",
      "classification report\n",
      "              precision    recall  f1-score   support\n",
      "\n",
      "           0       0.91      0.74      0.82       189\n",
      "           1       0.00      0.00      0.00         3\n",
      "           2       0.94      0.83      0.88        18\n",
      "           3       1.00      0.44      0.62         9\n",
      "           4       0.96      0.99      0.97      1210\n",
      "           5       0.91      0.91      0.91       371\n",
      "           6       0.00      0.00      0.00         1\n",
      "\n",
      "    accuracy                           0.94      1801\n",
      "   macro avg       0.67      0.56      0.60      1801\n",
      "weighted avg       0.94      0.94      0.94      1801\n",
      "\n",
      "===========================\n",
      "========== RandomForestClassifier(max_depth=32, max_leaf_nodes=256, n_estimators=700,\n",
      "                       oob_score=True) ==========\n",
      "accuracy: 0.8411993337034981\n",
      "precison: 0.9292191336914919\n",
      "recall: 0.9292191336914919\n",
      "f1: 0.8667183421333082\n",
      "추가 완료\n",
      "classification report\n",
      "              precision    recall  f1-score   support\n",
      "\n",
      "           0       1.00      0.32      0.48       189\n",
      "           1       0.00      0.00      0.00         3\n",
      "           2       1.00      0.06      0.11        18\n",
      "           3       0.00      0.00      0.00         9\n",
      "           4       0.81      1.00      0.90      1210\n",
      "           5       0.98      0.66      0.79       371\n",
      "           6       0.00      0.00      0.00         1\n",
      "\n",
      "    accuracy                           0.84      1801\n",
      "   macro avg       0.54      0.29      0.32      1801\n",
      "weighted avg       0.86      0.84      0.82      1801\n",
      "\n",
      "===========================\n",
      "========== KNeighborsClassifier(leaf_size=1, weights='distance') ==========\n"
     ]
    },
    {
     "name": "stderr",
     "output_type": "stream",
     "text": [
      "C:\\Users\\user\\anaconda3\\lib\\site-packages\\sklearn\\metrics\\_classification.py:1221: UndefinedMetricWarning: Precision and F-score are ill-defined and being set to 0.0 in labels with no predicted samples. Use `zero_division` parameter to control this behavior.\n",
      "  _warn_prf(average, modifier, msg_start, len(result))\n"
     ]
    },
    {
     "name": "stdout",
     "output_type": "stream",
     "text": [
      "accuracy: 0.8206551915602444\n",
      "precison: 0.8456820753299839\n",
      "recall: 0.8456820753299839\n",
      "f1: 0.8297314841505286\n",
      "추가 완료\n",
      "classification report\n",
      "              precision    recall  f1-score   support\n",
      "\n",
      "           0       0.69      0.43      0.53       189\n",
      "           1       0.00      0.00      0.00         3\n",
      "           2       0.93      0.72      0.81        18\n",
      "           3       1.00      0.67      0.80         9\n",
      "           4       0.85      0.92      0.88      1210\n",
      "           5       0.75      0.70      0.73       371\n",
      "           6       0.00      0.00      0.00         1\n",
      "\n",
      "    accuracy                           0.82      1801\n",
      "   macro avg       0.60      0.49      0.54      1801\n",
      "weighted avg       0.81      0.82      0.81      1801\n",
      "\n",
      "===========================\n",
      "========== MultinomialNB(alpha=0.03) ==========\n",
      "accuracy: 0.8478622987229317\n",
      "precison: 0.8880214334462643\n",
      "recall: 0.8880214334462643\n",
      "f1: 0.8617054978470117\n",
      "추가 완료\n",
      "classification report\n",
      "              precision    recall  f1-score   support\n",
      "\n",
      "           0       0.79      0.41      0.54       189\n",
      "           1       0.00      0.00      0.00         3\n",
      "           2       1.00      0.44      0.62        18\n",
      "           3       1.00      0.11      0.20         9\n",
      "           4       0.86      0.96      0.91      1210\n",
      "           5       0.81      0.75      0.78       371\n",
      "           6       0.00      0.00      0.00         1\n",
      "\n",
      "    accuracy                           0.85      1801\n",
      "   macro avg       0.64      0.38      0.43      1801\n",
      "weighted avg       0.84      0.85      0.83      1801\n",
      "\n",
      "===========================\n"
     ]
    },
    {
     "name": "stderr",
     "output_type": "stream",
     "text": [
      "C:\\Users\\user\\anaconda3\\lib\\site-packages\\sklearn\\metrics\\_classification.py:1221: UndefinedMetricWarning: Precision and F-score are ill-defined and being set to 0.0 in labels with no predicted samples. Use `zero_division` parameter to control this behavior.\n",
      "  _warn_prf(average, modifier, msg_start, len(result))\n",
      "C:\\Users\\user\\anaconda3\\lib\\site-packages\\sklearn\\metrics\\_classification.py:1221: UndefinedMetricWarning: Precision and F-score are ill-defined and being set to 0.0 in labels with no predicted samples. Use `zero_division` parameter to control this behavior.\n",
      "  _warn_prf(average, modifier, msg_start, len(result))\n"
     ]
    }
   ],
   "source": [
    "acc=[]\n",
    "pre=[]\n",
    "rec=[]\n",
    "f=[]\n",
    "\n",
    "for model in models:\n",
    "    print('==========',model,'==========')\n",
    "    model.fit(X_train_tfidf, y_train)\n",
    "    pred=model.predict(X_test_tfidf)\n",
    "    accuracy=accuracy_score(pred, y_test)\n",
    "    precison = precision_score(pred, y_test, average='weighted')\n",
    "    recall = precision_score(pred, y_test, average='weighted')\n",
    "    f1 = f1_score(pred, y_test, average='weighted')\n",
    "    print(\"accuracy:\", accuracy)\n",
    "    print(\"precison:\", precison)\n",
    "    print(\"recall:\", recall)\n",
    "    print(\"f1:\", f1)\n",
    "    acc.append(accuracy)\n",
    "    pre.append(precison)\n",
    "    rec.append(recall)\n",
    "    f.append(f1)\n",
    "    print('추가 완료')\n",
    "    print('classification report')\n",
    "    print(classification_report(y_test, pred))\n",
    "    print('===========================')"
   ]
  },
  {
   "cell_type": "markdown",
   "metadata": {},
   "source": [
    "결론)SVC선택"
   ]
  },
  {
   "cell_type": "code",
   "execution_count": null,
   "metadata": {},
   "outputs": [],
   "source": []
  },
  {
   "cell_type": "markdown",
   "metadata": {},
   "source": [
    "2/25모델재생성"
   ]
  },
  {
   "cell_type": "code",
   "execution_count": 16,
   "metadata": {},
   "outputs": [
    {
     "data": {
      "text/plain": [
       "TfidfVectorizer(min_df=5, ngram_range=(1, 2), sublinear_tf=True)"
      ]
     },
     "execution_count": 16,
     "metadata": {},
     "output_type": "execute_result"
    }
   ],
   "source": [
    "X_train, X_test, y_train, y_test = train_test_split(company['okt_han_kkma'], company.category,\\\n",
    "                                                    shuffle=True, random_state=1, \\\n",
    "                                                    stratify = company.category)\n",
    "\n",
    "\n",
    "#comp_word=company['all_word'].tolist()\n",
    "X_train_pd=pd.DataFrame(X_train)\n",
    "comp_word=X_train_pd['okt_han_kkma'].tolist()\n",
    "sup_word=support['all_word_new'].tolist()\n",
    "word_list=list(set(comp_word+sup_word))\n",
    "\n",
    "tfidf = TfidfVectorizer(analyzer = 'word', ngram_range = (1,2), min_df =5, sublinear_tf = True)\n",
    "tfidf.fit(word_list)"
   ]
  },
  {
   "cell_type": "code",
   "execution_count": 17,
   "metadata": {},
   "outputs": [
    {
     "name": "stdout",
     "output_type": "stream",
     "text": [
      "(5401, 42632)\n",
      "(1801, 42632)\n"
     ]
    }
   ],
   "source": [
    "#X_train 벡터화\n",
    "temp =X_train.tolist()\n",
    "X_train_tfidf = tfidf.transform(temp)\n",
    "print(X_train_tfidf.shape)\n",
    "\n",
    "#X_test 벡터화\n",
    "temp =X_test.tolist()\n",
    "X_test_tfidf = tfidf.transform(temp)\n",
    "print(X_test_tfidf.shape)"
   ]
  },
  {
   "cell_type": "code",
   "execution_count": 18,
   "metadata": {},
   "outputs": [
    {
     "name": "stdout",
     "output_type": "stream",
     "text": [
      "========== SVC(C=10, gamma=1, kernel='sigmoid') ==========\n",
      "accuracy: 0.9555802332037757\n",
      "precison: 0.9607057259774494\n",
      "recall: 0.9607057259774494\n",
      "f1: 0.9575636888556922\n",
      "추가 완료\n",
      "classification report\n",
      "              precision    recall  f1-score   support\n",
      "\n",
      "           0       0.91      0.81      0.86       189\n",
      "           1       0.00      0.00      0.00         3\n",
      "           2       1.00      0.94      0.97        18\n",
      "           3       1.00      0.44      0.62         9\n",
      "           4       0.98      0.99      0.98      1210\n",
      "           5       0.90      0.94      0.92       371\n",
      "           6       0.00      0.00      0.00         1\n",
      "\n",
      "    accuracy                           0.96      1801\n",
      "   macro avg       0.68      0.59      0.62      1801\n",
      "weighted avg       0.95      0.96      0.95      1801\n",
      "\n",
      "===========================\n",
      "========== LinearSVC(C=1000, max_iter=500) ==========\n"
     ]
    },
    {
     "name": "stderr",
     "output_type": "stream",
     "text": [
      "C:\\Users\\user\\anaconda3\\lib\\site-packages\\sklearn\\metrics\\_classification.py:1221: UndefinedMetricWarning: Precision and F-score are ill-defined and being set to 0.0 in labels with no predicted samples. Use `zero_division` parameter to control this behavior.\n",
      "  _warn_prf(average, modifier, msg_start, len(result))\n"
     ]
    },
    {
     "name": "stdout",
     "output_type": "stream",
     "text": [
      "accuracy: 0.9555802332037757\n",
      "precison: 0.9632447605119544\n",
      "recall: 0.9632447605119544\n",
      "f1: 0.9581013498076363\n",
      "추가 완료\n",
      "classification report\n",
      "              precision    recall  f1-score   support\n",
      "\n",
      "           0       0.97      0.78      0.86       189\n",
      "           1       0.00      0.00      0.00         3\n",
      "           2       1.00      1.00      1.00        18\n",
      "           3       1.00      0.44      0.62         9\n",
      "           4       0.97      0.99      0.98      1210\n",
      "           5       0.90      0.95      0.93       371\n",
      "           6       0.00      0.00      0.00         1\n",
      "\n",
      "    accuracy                           0.96      1801\n",
      "   macro avg       0.69      0.59      0.63      1801\n",
      "weighted avg       0.95      0.96      0.95      1801\n",
      "\n",
      "===========================\n"
     ]
    },
    {
     "name": "stderr",
     "output_type": "stream",
     "text": [
      "C:\\Users\\user\\anaconda3\\lib\\site-packages\\sklearn\\svm\\_base.py:976: ConvergenceWarning: Liblinear failed to converge, increase the number of iterations.\n",
      "  warnings.warn(\"Liblinear failed to converge, increase \"\n"
     ]
    }
   ],
   "source": [
    "models=[svc_clf, lisvc_clf]\n",
    "\n",
    "\n",
    "acc=[]\n",
    "pre=[]\n",
    "rec=[]\n",
    "f=[]\n",
    "\n",
    "for model in models:\n",
    "    print('==========',model,'==========')\n",
    "    model.fit(X_train_tfidf, y_train)\n",
    "    pred=model.predict(X_test_tfidf)\n",
    "    accuracy=accuracy_score(pred, y_test)\n",
    "    precison = precision_score(pred, y_test, average='weighted')\n",
    "    recall = precision_score(pred, y_test, average='weighted')\n",
    "    f1 = f1_score(pred, y_test, average='weighted')\n",
    "    print(\"accuracy:\", accuracy)\n",
    "    print(\"precison:\", precison)\n",
    "    print(\"recall:\", recall)\n",
    "    print(\"f1:\", f1)\n",
    "    acc.append(accuracy)\n",
    "    pre.append(precison)\n",
    "    rec.append(recall)\n",
    "    f.append(f1)\n",
    "    print('추가 완료')\n",
    "    print('classification report')\n",
    "    print(classification_report(y_test, pred))\n",
    "    print('===========================')"
   ]
  },
  {
   "cell_type": "code",
   "execution_count": 19,
   "metadata": {},
   "outputs": [],
   "source": [
    "#######결과#########\n",
    "col_name=['accuracy','precision','recall','f1']\n",
    "index_name=['SVC(sigmoid)','LinearSVC']\n",
    "score_df=pd.DataFrame({col_name[0]:acc,\n",
    "                      col_name[1]:pre,\n",
    "                      col_name[2]:rec,\n",
    "                      col_name[3]:f},\n",
    "                     index=index_name)"
   ]
  },
  {
   "cell_type": "code",
   "execution_count": 20,
   "metadata": {},
   "outputs": [
    {
     "data": {
      "text/html": [
       "<div>\n",
       "<style scoped>\n",
       "    .dataframe tbody tr th:only-of-type {\n",
       "        vertical-align: middle;\n",
       "    }\n",
       "\n",
       "    .dataframe tbody tr th {\n",
       "        vertical-align: top;\n",
       "    }\n",
       "\n",
       "    .dataframe thead th {\n",
       "        text-align: right;\n",
       "    }\n",
       "</style>\n",
       "<table border=\"1\" class=\"dataframe\">\n",
       "  <thead>\n",
       "    <tr style=\"text-align: right;\">\n",
       "      <th></th>\n",
       "      <th>accuracy</th>\n",
       "      <th>precision</th>\n",
       "      <th>recall</th>\n",
       "      <th>f1</th>\n",
       "    </tr>\n",
       "  </thead>\n",
       "  <tbody>\n",
       "    <tr>\n",
       "      <th>SVC(sigmoid)</th>\n",
       "      <td>0.95558</td>\n",
       "      <td>0.960706</td>\n",
       "      <td>0.960706</td>\n",
       "      <td>0.957564</td>\n",
       "    </tr>\n",
       "    <tr>\n",
       "      <th>LinearSVC</th>\n",
       "      <td>0.95558</td>\n",
       "      <td>0.963245</td>\n",
       "      <td>0.963245</td>\n",
       "      <td>0.958101</td>\n",
       "    </tr>\n",
       "  </tbody>\n",
       "</table>\n",
       "</div>"
      ],
      "text/plain": [
       "              accuracy  precision    recall        f1\n",
       "SVC(sigmoid)   0.95558   0.960706  0.960706  0.957564\n",
       "LinearSVC      0.95558   0.963245  0.963245  0.958101"
      ]
     },
     "execution_count": 20,
     "metadata": {},
     "output_type": "execute_result"
    }
   ],
   "source": [
    "score_df"
   ]
  },
  {
   "cell_type": "code",
   "execution_count": 21,
   "metadata": {},
   "outputs": [
    {
     "name": "stderr",
     "output_type": "stream",
     "text": [
      "<ipython-input-21-750295bfe965>:3: TqdmDeprecationWarning: This function will be removed in tqdm==5.0.0\n",
      "Please use `tqdm.notebook.tqdm` instead of `tqdm.tqdm_notebook`\n",
      "  for model in tqdm_notebook(models):\n"
     ]
    },
    {
     "data": {
      "application/vnd.jupyter.widget-view+json": {
       "model_id": "3b4fbe059118469fb85f6f46220ff8b6",
       "version_major": 2,
       "version_minor": 0
      },
      "text/plain": [
       "HBox(children=(HTML(value=''), FloatProgress(value=0.0, max=3.0), HTML(value='')))"
      ]
     },
     "metadata": {},
     "output_type": "display_data"
    },
    {
     "name": "stdout",
     "output_type": "stream",
     "text": [
      "====================SVC(C=10, gamma=1, kernel='sigmoid')ROCAUC====================\n"
     ]
    },
    {
     "data": {
      "image/png": "[encoded data removed]",
      "text/plain": [
       "<Figure size 576x396 with 1 Axes>"
      ]
     },
     "metadata": {},
     "output_type": "display_data"
    },
    {
     "name": "stdout",
     "output_type": "stream",
     "text": [
      "====================SVC(C=10, gamma=1, kernel='sigmoid')ConfusionMatrix====================\n"
     ]
    },
    {
     "data": {
      "image/png": "[encoded data removed]",
      "text/plain": [
       "<Figure size 400x400 with 1 Axes>"
      ]
     },
     "metadata": {},
     "output_type": "display_data"
    },
    {
     "name": "stdout",
     "output_type": "stream",
     "text": [
      "====================LinearSVC(C=1000, max_iter=500)ROCAUC====================\n"
     ]
    },
    {
     "data": {
      "image/png": "[encoded data removed]",
      "text/plain": [
       "<Figure size 576x396 with 1 Axes>"
      ]
     },
     "metadata": {},
     "output_type": "display_data"
    },
    {
     "name": "stdout",
     "output_type": "stream",
     "text": [
      "====================LinearSVC(C=1000, max_iter=500)ConfusionMatrix====================\n"
     ]
    },
    {
     "data": {
      "image/png": "[encoded data removed]",
      "text/plain": [
       "<Figure size 400x400 with 1 Axes>"
      ]
     },
     "metadata": {},
     "output_type": "display_data"
    },
    {
     "name": "stdout",
     "output_type": "stream",
     "text": [
      "====================RandomForestClassifier(max_depth=32, max_leaf_nodes=256, n_estimators=700,\n",
      "                       oob_score=True)ROCAUC====================\n"
     ]
    },
    {
     "data": {
      "image/png": "[encoded data removed]",
      "text/plain": [
       "<Figure size 576x396 with 1 Axes>"
      ]
     },
     "metadata": {},
     "output_type": "display_data"
    },
    {
     "name": "stdout",
     "output_type": "stream",
     "text": [
      "====================RandomForestClassifier(max_depth=32, max_leaf_nodes=256, n_estimators=700,\n",
      "                       oob_score=True)ConfusionMatrix====================\n"
     ]
    },
    {
     "data": {
      "image/png": "[encoded data removed]",
      "text/plain": [
       "<Figure size 400x400 with 1 Axes>"
      ]
     },
     "metadata": {},
     "output_type": "display_data"
    },
    {
     "name": "stdout",
     "output_type": "stream",
     "text": [
      "\n"
     ]
    }
   ],
   "source": [
    "models=[svc_clf, lisvc_clf, rf_clf]\n",
    "\n",
    "for model in tqdm_notebook(models):\n",
    "    print('====================%sROCAUC===================='%model)\n",
    "    visualizer = ROCAUC(model, classes=[0,1,2,3,4,5,6], micro=False, macro=True, per_class=False)\n",
    "    visualizer.fit(X_train_tfidf, y_train)\n",
    "    visualizer.score(X_test_tfidf, y_test)\n",
    "    visualizer.show()\n",
    "    \n",
    "    print('====================%sConfusionMatrix===================='%model)\n",
    "\n",
    "    plt.figure()\n",
    "    plt.title(\"%s_Confusion Matrix\"%model, fontsize=18)\n",
    "    plt.xlabel(\"Predicted Class\", fontsize=16)\n",
    "    plt.ylabel(\"True Class\", fontsize=15)\n",
    "\n",
    "    cm = ConfusionMatrix(model, classes=[0,1,2,3,4,5,6], size=(400,400),fontsize=15, cmap='GnBu')\n",
    "    cm.fit(X_train_tfidf, y_train)\n",
    "    cm.score(X_test_tfidf, y_test)\n",
    "    plt.show()"
   ]
  },
  {
   "cell_type": "code",
   "execution_count": null,
   "metadata": {},
   "outputs": [],
   "source": []
  },
  {
   "cell_type": "code",
   "execution_count": null,
   "metadata": {},
   "outputs": [],
   "source": []
  },
  {
   "cell_type": "code",
   "execution_count": 25,
   "metadata": {},
   "outputs": [
    {
     "data": {
      "text/plain": [
       "TfidfVectorizer(min_df=5, ngram_range=(1, 2), sublinear_tf=True)"
      ]
     },
     "execution_count": 25,
     "metadata": {},
     "output_type": "execute_result"
    }
   ],
   "source": [
    "comp_word=company['okt_han_kkma'].tolist()\n",
    "sup_word=support['all_word_new'].tolist()\n",
    "word_list=list(set(comp_word+sup_word))\n",
    "\n",
    "tfidf = TfidfVectorizer(analyzer = 'word', ngram_range = (1,2), min_df =5, sublinear_tf = True)\n",
    "tfidf.fit(word_list)"
   ]
  },
  {
   "cell_type": "code",
   "execution_count": 26,
   "metadata": {},
   "outputs": [
    {
     "name": "stdout",
     "output_type": "stream",
     "text": [
      "(7202, 52071)\n"
     ]
    }
   ],
   "source": [
    "#company['okt_han_kkma'] 벡터화\n",
    "temp =company['okt_han_kkma'].tolist()\n",
    "X_tfidf = tfidf.transform(temp)\n",
    "print(X_tfidf.shape)\n",
    "\n",
    "y=company['category']"
   ]
  },
  {
   "cell_type": "code",
   "execution_count": 27,
   "metadata": {},
   "outputs": [
    {
     "name": "stderr",
     "output_type": "stream",
     "text": [
      "C:\\Users\\user\\anaconda3\\lib\\site-packages\\sklearn\\svm\\_base.py:976: ConvergenceWarning: Liblinear failed to converge, increase the number of iterations.\n",
      "  warnings.warn(\"Liblinear failed to converge, increase \"\n"
     ]
    },
    {
     "data": {
      "text/plain": [
       "LinearSVC(C=1000, max_iter=500)"
      ]
     },
     "execution_count": 27,
     "metadata": {},
     "output_type": "execute_result"
    }
   ],
   "source": [
    "lisvc_model= LinearSVC(C=1000,max_iter=500, penalty='l2')\n",
    "lisvc_model.fit(X_tfidf, y)"
   ]
  },
  {
   "cell_type": "code",
   "execution_count": 28,
   "metadata": {},
   "outputs": [
    {
     "data": {
      "text/plain": [
       "['./final_data/lisvc_model_0225.pkl']"
      ]
     },
     "execution_count": 28,
     "metadata": {},
     "output_type": "execute_result"
    }
   ],
   "source": [
    "joblib.dump(lisvc_model,'./final_data/lisvc_model_0225.pkl')"
   ]
  },
  {
   "cell_type": "code",
   "execution_count": null,
   "metadata": {},
   "outputs": [],
   "source": []
  }
 ],
 "metadata": {
  "kernelspec": {
   "display_name": "Python 3",
   "language": "python",
   "name": "python3"
  },
  "language_info": {
   "codemirror_mode": {
    "name": "ipython",
    "version": 3
   },
   "file_extension": ".py",
   "mimetype": "text/x-python",
   "name": "python",
   "nbconvert_exporter": "python",
   "pygments_lexer": "ipython3",
   "version": "3.8.5"
  }
 },
 "nbformat": 4,
 "nbformat_minor": 4
}
