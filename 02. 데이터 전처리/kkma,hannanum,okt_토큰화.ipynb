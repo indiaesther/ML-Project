{
 "cells": [
  {
   "cell_type": "code",
   "execution_count": 6,
   "metadata": {},
   "outputs": [],
   "source": [
    "import pandas as pd\n",
    "import numpy as np\n",
    "from nltk.corpus import stopwords\n",
    "from tqdm import tqdm_notebook\n",
    "from tqdm import tqdm_notebook\n",
    "import time"
   ]
  },
  {
   "cell_type": "code",
   "execution_count": 7,
   "metadata": {},
   "outputs": [],
   "source": [
    "krwordrank_raw_data = pd.read_excel('./data/comp_full_data_210211.xlsx') "
   ]
  },
  {
   "cell_type": "code",
   "execution_count": 8,
   "metadata": {},
   "outputs": [
    {
     "data": {
      "text/html": [
       "<div>\n",
       "<style scoped>\n",
       "    .dataframe tbody tr th:only-of-type {\n",
       "        vertical-align: middle;\n",
       "    }\n",
       "\n",
       "    .dataframe tbody tr th {\n",
       "        vertical-align: top;\n",
       "    }\n",
       "\n",
       "    .dataframe thead th {\n",
       "        text-align: right;\n",
       "    }\n",
       "</style>\n",
       "<table border=\"1\" class=\"dataframe\">\n",
       "  <thead>\n",
       "    <tr style=\"text-align: right;\">\n",
       "      <th></th>\n",
       "      <th>Unnamed: 0</th>\n",
       "      <th>내역사업명</th>\n",
       "      <th>title</th>\n",
       "      <th>연구목표</th>\n",
       "      <th>연구내용</th>\n",
       "      <th>기대효과</th>\n",
       "      <th>사업명</th>\n",
       "      <th>부처명</th>\n",
       "      <th>지역구분</th>\n",
       "      <th>6T관련기술분류</th>\n",
       "      <th>국가전략기술</th>\n",
       "      <th>한글키워드</th>\n",
       "      <th>영문키워드</th>\n",
       "      <th>과제관리(전문)기관명</th>\n",
       "    </tr>\n",
       "  </thead>\n",
       "  <tbody>\n",
       "    <tr>\n",
       "      <th>0</th>\n",
       "      <td>0</td>\n",
       "      <td>2020년도 창업성장기술개발사업 '전략형 창업과제(BIG3)' 제1차 시행계획 공고</td>\n",
       "      <td>전략형창업과제</td>\n",
       "      <td>적용 모터 분석 \\n 구동부 설계\\n 궤도 설계\\n 차체설계 및 제작 \\n 샤시설계...</td>\n",
       "      <td>적용 모터 분석 \\n - 전기자동차 적용 모터 분석 및 최적화 모델 검색\\n - 감...</td>\n",
       "      <td>프로토 타입 제작 완료를 통한제품 성능평가\\n제품 설계 완성 및 조립도 완성\\n샤시...</td>\n",
       "      <td>창업성장기술개발(R&amp;D)</td>\n",
       "      <td>중소벤처기업부</td>\n",
       "      <td>경기</td>\n",
       "      <td>위의 미래유망신기술(6T) 103개 세분류에 속하지 않는 기타 연구</td>\n",
       "      <td>스마트 자동차 기술</td>\n",
       "      <td>스마트자동차 전기자동차 전지 다목적 4차산업혁명</td>\n",
       "      <td>Smart car EV E cell multipurpose 4IR</td>\n",
       "      <td>중소기업기술정보진흥원</td>\n",
       "    </tr>\n",
       "  </tbody>\n",
       "</table>\n",
       "</div>"
      ],
      "text/plain": [
       "   Unnamed: 0                                           내역사업명    title  \\\n",
       "0           0  2020년도 창업성장기술개발사업 '전략형 창업과제(BIG3)' 제1차 시행계획 공고  전략형창업과제   \n",
       "\n",
       "                                                연구목표  \\\n",
       "0  적용 모터 분석 \\n 구동부 설계\\n 궤도 설계\\n 차체설계 및 제작 \\n 샤시설계...   \n",
       "\n",
       "                                                연구내용  \\\n",
       "0  적용 모터 분석 \\n - 전기자동차 적용 모터 분석 및 최적화 모델 검색\\n - 감...   \n",
       "\n",
       "                                                기대효과            사업명      부처명  \\\n",
       "0  프로토 타입 제작 완료를 통한제품 성능평가\\n제품 설계 완성 및 조립도 완성\\n샤시...  창업성장기술개발(R&D)  중소벤처기업부   \n",
       "\n",
       "  지역구분                               6T관련기술분류      국가전략기술  \\\n",
       "0   경기  위의 미래유망신기술(6T) 103개 세분류에 속하지 않는 기타 연구  스마트 자동차 기술   \n",
       "\n",
       "                        한글키워드                                 영문키워드  \\\n",
       "0  스마트자동차 전기자동차 전지 다목적 4차산업혁명  Smart car EV E cell multipurpose 4IR   \n",
       "\n",
       "   과제관리(전문)기관명  \n",
       "0  중소기업기술정보진흥원  "
      ]
     },
     "execution_count": 8,
     "metadata": {},
     "output_type": "execute_result"
    }
   ],
   "source": [
    "krwordrank_raw_data.head(1)"
   ]
  },
  {
   "cell_type": "code",
   "execution_count": 9,
   "metadata": {},
   "outputs": [],
   "source": [
    "krwordrank_data = krwordrank_raw_data\n",
    "del krwordrank_data['Unnamed: 0']\n",
    "#del krwordrank_data['Unnamed: 0.1']"
   ]
  },
  {
   "cell_type": "code",
   "execution_count": 10,
   "metadata": {},
   "outputs": [
    {
     "data": {
      "text/plain": [
       "내역사업명          0\n",
       "title          0\n",
       "연구목표           0\n",
       "연구내용           0\n",
       "기대효과           0\n",
       "사업명            0\n",
       "부처명            0\n",
       "지역구분           0\n",
       "6T관련기술분류       0\n",
       "국가전략기술         0\n",
       "한글키워드          0\n",
       "영문키워드          0\n",
       "과제관리(전문)기관명    0\n",
       "dtype: int64"
      ]
     },
     "execution_count": 10,
     "metadata": {},
     "output_type": "execute_result"
    }
   ],
   "source": [
    "krwordrank_data.isnull().sum()"
   ]
  },
  {
   "cell_type": "code",
   "execution_count": 12,
   "metadata": {},
   "outputs": [],
   "source": [
    "#krwordrank_data.dropna(inplace=True)"
   ]
  },
  {
   "cell_type": "markdown",
   "metadata": {},
   "source": [
    "## 토큰화\n",
    "- Okt\n",
    "- Hannanum\n",
    "- krwordrank (토큰화가 내재되어 있는 패키지로 바로 키워드 추출)\n",
    "- Kkma"
   ]
  },
  {
   "cell_type": "code",
   "execution_count": 13,
   "metadata": {},
   "outputs": [],
   "source": [
    "#불용어 제거\n",
    "\n",
    "'''============불용어 stopword 정의============'''\n",
    "stopword=''\n",
    "f =open(\"./data/stopwords.txt\",\"r\", encoding = 'utf-8')\n",
    "for line in f:\n",
    "    stopword += line\n",
    "    \n",
    "    \n",
    "#stop_words = \"'한다','II','의','가','이','은','들','는','좀','잘','걍','과','도','을','를','으로','자','에','와','한','하다','이며','만','함','당사','하게','특징','등','및','개발','각','하고','수','있는','통한','처럼','위해','에서','해서','할','이다','여러','가지','시키는','시키지','되는','주로','때문에','있도록','등을','그대로','없이','보다','없도록','간','가지는','따라','하였음','된','1차년도','있어야','될','별','당','따른','하여','이에','의한','현재','입니다','첫째','둘째','셋째','위한','걸쳐','그래서','그리고','그러나','하지만','근데','그러므로','으로써','으로서','겠다','합니다','이를','통해','이외의','본','있습니다','있으며','하였고','있으나','있음','시켜','하기','기존의','이용해','이용하여','됩니다','이루어지고','받아','받고','내고자','바탕으로','이러한'\"\n"
   ]
  },
  {
   "cell_type": "code",
   "execution_count": 8,
   "metadata": {},
   "outputs": [],
   "source": [
    "''' 반환값 : 과제명(국문), keyword, 부처명 category '''\n",
    "def get_recommendations(index, cosine_sim):\n",
    "\n",
    "    # 모든 영화에 대해 해당 영화와의 유사도 구하기\n",
    "    sim_scores = list(enumerate(cosine_sim[index]))\n",
    "    \n",
    "    # 유사도에 따라 영화 정렬\n",
    "    sim_scores = sorted(sim_scores, key=lambda x:x[1], reverse=True)  #내림차순\n",
    "    \n",
    "    # 가장 유사한 영화 10개 받아오기\n",
    "    sim_scores = sim_scores[1:11]\n",
    "    # 인덱스 받기\n",
    "    movie_indices = [i[0] for i in sim_scores]\n",
    "\n",
    "    #가장 유사한 영화 10개 제목 return\n",
    "    return movie_indices,krwordrank_data['과제명(국문)'].iloc[movie_indices], krwordrank_data['category'].iloc[movie_indices]\n",
    "    "
   ]
  },
  {
   "cell_type": "code",
   "execution_count": null,
   "metadata": {},
   "outputs": [],
   "source": []
  },
  {
   "cell_type": "markdown",
   "metadata": {},
   "source": [
    "### 1. Okt"
   ]
  },
  {
   "cell_type": "code",
   "execution_count": 41,
   "metadata": {},
   "outputs": [
    {
     "name": "stderr",
     "output_type": "stream",
     "text": [
      "C:\\Users\\user\\anaconda3\\lib\\site-packages\\konlpy\\tag\\_okt.py:16: UserWarning: \"Twitter\" has changed to \"Okt\" since KoNLPy v0.4.5.\n",
      "  warn('\"Twitter\" has changed to \"Okt\" since KoNLPy v0.4.5.')\n"
     ]
    }
   ],
   "source": [
    "from ckonlpy.tag import Twitter\n",
    "twitter = Twitter()"
   ]
  },
  {
   "cell_type": "code",
   "execution_count": 61,
   "metadata": {},
   "outputs": [],
   "source": [
    "'''\n",
    "1. 토큰화 후 명사/영어 & 불용어 외 select\n",
    "2. 길이가 1이하 단어 삭제\n",
    "3. 중복단어 제거\n",
    "4. 단어들로만 이어진 문장 형태로 바꿔주기\n",
    "'''\n",
    "\n",
    "#토큰화 해주고 난 후 중복 값 제거.\n",
    "#Twitter\n",
    "\n",
    "def okt_tokenize(text):\n",
    "    okt_nouns=[]\n",
    "    text_pos_list = twitter.pos(text)\n",
    "    for word, tag in text_pos_list:\n",
    "        if (tag=='Alpha') and (not word in stopword):\n",
    "            if len(word)>1:\n",
    "                okt_nouns.append(word.lower())  # 소문자 변경 추가\n",
    "        elif (tag==\"Noun\") and (not word in stopword):\n",
    "            if len(word)>1:\n",
    "                okt_nouns.append(word)\n",
    "\n",
    "    okt_nouns=list(set(okt_nouns))\n",
    "    \n",
    "    okt_nouns=' '.join(okt_nouns)\n",
    "\n",
    "    return okt_nouns\n"
   ]
  },
  {
   "cell_type": "code",
   "execution_count": 62,
   "metadata": {},
   "outputs": [],
   "source": [
    "twitter.add_dictionary(['머신러닝','딥러닝','인공지능','빅데이터','Machine Learning','MachineLearning',\n",
    "                        'Deep Learning','bigdata','의과학','의공학','데이터','라이센서','핸드피스',\n",
    "                        'hand piece','handpiece','sw','하이브리드','보철물','지르코니아','성형체','우회기법',\n",
    "                        '고반응성'], 'Noun')\n"
   ]
  },
  {
   "cell_type": "code",
   "execution_count": 63,
   "metadata": {},
   "outputs": [
    {
     "name": "stderr",
     "output_type": "stream",
     "text": [
      "<ipython-input-63-7b0dc256b763>:5: TqdmDeprecationWarning: This function will be removed in tqdm==5.0.0\n",
      "Please use `tqdm.notebook.tqdm` instead of `tqdm.tqdm_notebook`\n",
      "  for row in tqdm_notebook(krwordrank_data['연구']):\n"
     ]
    },
    {
     "data": {
      "application/vnd.jupyter.widget-view+json": {
       "model_id": "a3d6f6df8a584d59aecca2beaf5cf697",
       "version_major": 2,
       "version_minor": 0
      },
      "text/plain": [
       "HBox(children=(HTML(value=''), FloatProgress(value=0.0, max=16736.0), HTML(value='')))"
      ]
     },
     "metadata": {},
     "output_type": "display_data"
    },
    {
     "name": "stdout",
     "output_type": "stream",
     "text": [
      "\n",
      "실행시간 :  207.44569778442383\n"
     ]
    }
   ],
   "source": [
    "start_time = time.time()\n",
    "krwordrank_data['연구_okt']=''\n",
    "\n",
    "i=0\n",
    "for row in tqdm_notebook(krwordrank_data['연구']): \n",
    "    krwordrank_data['연구_okt'].iloc[i]=okt_tokenize(row)\n",
    "    i+=1\n",
    "    \n",
    "end_time = time.time()\n",
    "print(\"실행시간 : \", end_time-start_time)\n",
    "    "
   ]
  },
  {
   "cell_type": "code",
   "execution_count": null,
   "metadata": {},
   "outputs": [],
   "source": []
  },
  {
   "cell_type": "code",
   "execution_count": 76,
   "metadata": {},
   "outputs": [
    {
     "data": {
      "text/plain": [
       "([1],\n",
       " 1    2019년 창업성장기술개발사업 혁신형 창업과제 혁신성장패키지\n",
       " Name: 과제명(국문), dtype: object,\n",
       " 1    0\n",
       " Name: category, dtype: int64)"
      ]
     },
     "execution_count": 76,
     "metadata": {},
     "output_type": "execute_result"
    }
   ],
   "source": [
    "from sklearn.feature_extraction.text import TfidfVectorizer\n",
    "from sklearn.metrics.pairwise import linear_kernel\n",
    "\n",
    "tfidf = TfidfVectorizer(analyzer = 'word', ngram_range = (1, 2), min_df = 2)\n",
    "tfidf_matrix = tfidf.fit_transform(twitter_token)\n",
    "\n",
    "# 코사인 유사도를 통해 문사 유사도 구하기\n",
    "tw_cosine_sim = linear_kernel(tfidf_matrix, tfidf_matrix)\n",
    "\n",
    "get_recommendations(0,tw_cosine_sim)"
   ]
  },
  {
   "cell_type": "code",
   "execution_count": null,
   "metadata": {},
   "outputs": [],
   "source": []
  },
  {
   "cell_type": "markdown",
   "metadata": {},
   "source": [
    "### 2. Hannanum"
   ]
  },
  {
   "cell_type": "code",
   "execution_count": 53,
   "metadata": {},
   "outputs": [],
   "source": [
    "from konlpy.tag import Hannanum\n",
    "\n",
    "hannanum = Hannanum()"
   ]
  },
  {
   "cell_type": "code",
   "execution_count": 64,
   "metadata": {},
   "outputs": [],
   "source": [
    "'''\n",
    "1. 토큰화 후 명사/영어 & 불용어 외 select\n",
    "2. 길이가 1이하 단어 삭제\n",
    "3. 중복단어 제거\n",
    "4. 단어들로만 이어진 문장 형태로 바꿔주기\n",
    "'''\n",
    "\n",
    "#토큰화 해주고 난 후 중복 값 제거.\n",
    "#Twitter\n",
    "\n",
    "def hannanum_tokenize(text):\n",
    "    han_nouns=[]\n",
    "    text_pos_list = hannanum.pos(text)\n",
    "    for word, tag in text_pos_list:\n",
    "        if (tag in ('F', \"N\")) and (not word in stopword):\n",
    "            if len(word)>1:\n",
    "                han_nouns.append(word)\n",
    "\n",
    "    han_nouns=list(set(han_nouns))\n",
    "    \n",
    "    han_nouns=' '.join(han_nouns)\n",
    "\n",
    "    return han_nouns\n"
   ]
  },
  {
   "cell_type": "code",
   "execution_count": 65,
   "metadata": {},
   "outputs": [
    {
     "name": "stderr",
     "output_type": "stream",
     "text": [
      "<ipython-input-65-c083a6dcfaac>:6: TqdmDeprecationWarning: This function will be removed in tqdm==5.0.0\n",
      "Please use `tqdm.notebook.tqdm` instead of `tqdm.tqdm_notebook`\n",
      "  for row in tqdm_notebook(krwordrank_data['연구']):\n"
     ]
    },
    {
     "data": {
      "application/vnd.jupyter.widget-view+json": {
       "model_id": "71f2a07717cb4145953a3d9da90c0243",
       "version_major": 2,
       "version_minor": 0
      },
      "text/plain": [
       "HBox(children=(HTML(value=''), FloatProgress(value=0.0, max=16736.0), HTML(value='')))"
      ]
     },
     "metadata": {},
     "output_type": "display_data"
    },
    {
     "name": "stdout",
     "output_type": "stream",
     "text": [
      "\n",
      "실행시간 :  434.03483605384827\n"
     ]
    }
   ],
   "source": [
    "start_time = time.time()\n",
    "krwordrank_data['연구_hannanum']=''\n",
    "\n",
    "i=0\n",
    "try:\n",
    "    for row in tqdm_notebook(krwordrank_data['연구']): \n",
    "        krwordrank_data['연구_hannanum'].iloc[i]=hannanum_tokenize(row)\n",
    "        i+=1\n",
    "\n",
    "    end_time = time.time()\n",
    "    print(\"실행시간 : \", end_time-start_time)\n",
    "except:\n",
    "    print(i)\n",
    "    pass\n",
    "    "
   ]
  },
  {
   "cell_type": "code",
   "execution_count": 84,
   "metadata": {},
   "outputs": [
    {
     "data": {
      "text/plain": [
       "([1],\n",
       " 1    2019년 창업성장기술개발사업 혁신형 창업과제 혁신성장패키지\n",
       " Name: 과제명(국문), dtype: object,\n",
       " 1    0\n",
       " Name: category, dtype: int64)"
      ]
     },
     "execution_count": 84,
     "metadata": {},
     "output_type": "execute_result"
    }
   ],
   "source": [
    "tfidf = TfidfVectorizer(analyzer = 'word', ngram_range = (1, 2), min_df = 2)\n",
    "tfidf_matrix = tfidf.fit_transform(hannaum_token)\n",
    "\n",
    "# 코사인 유사도를 통해 문사 유사도 구하기\n",
    "hn_cosine_sim = linear_kernel(tfidf_matrix, tfidf_matrix)\n",
    "\n",
    "get_recommendations(0,hn_cosine_sim)"
   ]
  },
  {
   "cell_type": "code",
   "execution_count": null,
   "metadata": {},
   "outputs": [],
   "source": []
  },
  {
   "cell_type": "markdown",
   "metadata": {},
   "source": [
    "### 3. Kkma"
   ]
  },
  {
   "cell_type": "code",
   "execution_count": 58,
   "metadata": {},
   "outputs": [],
   "source": [
    "from konlpy.tag import Kkma  \n",
    "kkma=Kkma() "
   ]
  },
  {
   "cell_type": "code",
   "execution_count": 59,
   "metadata": {},
   "outputs": [],
   "source": [
    "'''\n",
    "1. 토큰화 후 명사/영어 & 불용어 외 select\n",
    "2. 길이가 1이하 단어 삭제\n",
    "3. 중복단어 제거\n",
    "4. 단어들로만 이어진 문장 형태로 바꿔주기\n",
    "'''\n",
    "def kkma_tokenize(text):\n",
    "    kkma_nouns=[]\n",
    "    text_pos_list = kkma.pos(text)\n",
    "    for word, tag in text_pos_list:\n",
    "        if (tag in ('OL', \"NNG\")) and (not word in stopword):\n",
    "            if len(word)>1:\n",
    "                kkma_nouns.append(word)\n",
    "\n",
    "    kkma_nouns=list(set(kkma_nouns))\n",
    "    \n",
    "    kkma_nouns=' '.join(kkma_nouns)\n",
    "\n",
    "    return kkma_nouns\n"
   ]
  },
  {
   "cell_type": "code",
   "execution_count": 60,
   "metadata": {},
   "outputs": [
    {
     "name": "stderr",
     "output_type": "stream",
     "text": [
      "<ipython-input-60-07b409572937>:6: TqdmDeprecationWarning: This function will be removed in tqdm==5.0.0\n",
      "Please use `tqdm.notebook.tqdm` instead of `tqdm.tqdm_notebook`\n",
      "  for row in tqdm_notebook(krwordrank_data['연구']):\n"
     ]
    },
    {
     "data": {
      "application/vnd.jupyter.widget-view+json": {
       "model_id": "d6b92fdec2e941d6ae27daaa2406e183",
       "version_major": 2,
       "version_minor": 0
      },
      "text/plain": [
       "HBox(children=(HTML(value=''), FloatProgress(value=0.0, max=16736.0), HTML(value='')))"
      ]
     },
     "metadata": {},
     "output_type": "display_data"
    },
    {
     "name": "stdout",
     "output_type": "stream",
     "text": [
      "\n",
      "Kkma 실행시간 :  4186.323458433151\n"
     ]
    }
   ],
   "source": [
    "start_time = time.time()\n",
    "krwordrank_data['연구_kkma']=''\n",
    "\n",
    "i=0\n",
    "try:\n",
    "    for row in tqdm_notebook(krwordrank_data['연구']): \n",
    "        krwordrank_data['연구_kkma'].iloc[i]=kkma_tokenize(row)\n",
    "        i+=1\n",
    "\n",
    "    end_time = time.time()\n",
    "    print(\"Kkma 실행시간 : \", end_time-start_time)\n",
    "except:\n",
    "    print(i)\n",
    "    pass\n",
    "    "
   ]
  },
  {
   "cell_type": "code",
   "execution_count": 97,
   "metadata": {},
   "outputs": [
    {
     "data": {
      "text/plain": [
       "([1],\n",
       " 1    2019년 창업성장기술개발사업 혁신형 창업과제 혁신성장패키지\n",
       " Name: 과제명(국문), dtype: object,\n",
       " 1    0\n",
       " Name: category, dtype: int64)"
      ]
     },
     "execution_count": 97,
     "metadata": {},
     "output_type": "execute_result"
    }
   ],
   "source": [
    "tfidf = TfidfVectorizer(analyzer = 'word', ngram_range = (1, 2), min_df = 2)\n",
    "tfidf_matrix = tfidf.fit_transform(kkma_token)\n",
    "\n",
    "# 코사인 유사도를 통해 문사 유사도 구하기\n",
    "kk_cosine_sim = linear_kernel(tfidf_matrix, tfidf_matrix)\n",
    "\n",
    "get_recommendations(0,kk_cosine_sim)"
   ]
  },
  {
   "cell_type": "code",
   "execution_count": null,
   "metadata": {},
   "outputs": [],
   "source": []
  },
  {
   "cell_type": "code",
   "execution_count": null,
   "metadata": {},
   "outputs": [],
   "source": []
  },
  {
   "cell_type": "code",
   "execution_count": null,
   "metadata": {},
   "outputs": [],
   "source": []
  },
  {
   "cell_type": "code",
   "execution_count": 79,
   "metadata": {},
   "outputs": [],
   "source": [
    "#토큰화 -- 엑셀파일 저장\n",
    "writer = pd.ExcelWriter('./project_data/company_token_210208.xlsx', engine='openpyxl')  #경로 각자에 맞게 변경\n",
    "krwordrank_data.to_excel(writer)\n",
    "writer.save()"
   ]
  },
  {
   "cell_type": "code",
   "execution_count": null,
   "metadata": {},
   "outputs": [],
   "source": []
  }
 ],
 "metadata": {
  "kernelspec": {
   "display_name": "Python 3",
   "language": "python",
   "name": "python3"
  },
  "language_info": {
   "codemirror_mode": {
    "name": "ipython",
    "version": 3
   },
   "file_extension": ".py",
   "mimetype": "text/x-python",
   "name": "python",
   "nbconvert_exporter": "python",
   "pygments_lexer": "ipython3",
   "version": "3.8.5"
  }
 },
 "nbformat": 4,
 "nbformat_minor": 4
}
