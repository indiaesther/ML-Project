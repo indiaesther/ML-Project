{
 "cells": [
  {
   "cell_type": "code",
   "execution_count": 31,
   "metadata": {},
   "outputs": [],
   "source": [
    "import pandas as pd\n",
    "import time\n",
    "from tqdm import tqdm_notebook"
   ]
  },
  {
   "cell_type": "code",
   "execution_count": 43,
   "metadata": {},
   "outputs": [],
   "source": [
    "comp=pd.read_excel('./project_data/comp_full_token_ver6_210219')"
   ]
  },
  {
   "cell_type": "code",
   "execution_count": 44,
   "metadata": {},
   "outputs": [
    {
     "data": {
      "text/plain": [
       "Index(['Unnamed: 0', 'Unnamed: 0.1', '내역사업명', 'title', '연구목표', '연구내용', '기대효과',\n",
       "       '사업명', '부처명', '지역구분', '6T관련기술분류', '국가전략기술', '한글키워드', '영문키워드',\n",
       "       '과제관리(전문)기관명', '연구', '연구_okt', '연구_hannanum', '연구_krwordrank',\n",
       "       '연구_kkma'],\n",
       "      dtype='object')"
      ]
     },
     "execution_count": 44,
     "metadata": {},
     "output_type": "execute_result"
    }
   ],
   "source": [
    "comp.columns"
   ]
  },
  {
   "cell_type": "code",
   "execution_count": 45,
   "metadata": {},
   "outputs": [],
   "source": [
    "del comp['Unnamed: 0']"
   ]
  },
  {
   "cell_type": "code",
   "execution_count": 46,
   "metadata": {},
   "outputs": [],
   "source": [
    "del comp['Unnamed: 0.1']"
   ]
  },
  {
   "cell_type": "code",
   "execution_count": 47,
   "metadata": {},
   "outputs": [],
   "source": [
    "data=comp"
   ]
  },
  {
   "cell_type": "code",
   "execution_count": 48,
   "metadata": {},
   "outputs": [
    {
     "data": {
      "text/plain": [
       "Index(['내역사업명', 'title', '연구목표', '연구내용', '기대효과', '사업명', '부처명', '지역구분',\n",
       "       '6T관련기술분류', '국가전략기술', '한글키워드', '영문키워드', '과제관리(전문)기관명', '연구', '연구_okt',\n",
       "       '연구_hannanum', '연구_krwordrank', '연구_kkma'],\n",
       "      dtype='object')"
      ]
     },
     "execution_count": 48,
     "metadata": {},
     "output_type": "execute_result"
    }
   ],
   "source": [
    "data.columns"
   ]
  },
  {
   "cell_type": "code",
   "execution_count": 49,
   "metadata": {},
   "outputs": [],
   "source": [
    "#불용어 제거\n",
    "\n",
    "'''============불용어 stopword 정의============'''\n",
    "stopword=''\n",
    "f =open(\"./project_data/stop_words.txt\",\"r\", encoding = 'utf-8')\n",
    "for line in f:\n",
    "    stopword += line"
   ]
  },
  {
   "cell_type": "markdown",
   "metadata": {},
   "source": [
    "# krwordrank에 hannanum 돌리기"
   ]
  },
  {
   "cell_type": "code",
   "execution_count": 50,
   "metadata": {},
   "outputs": [
    {
     "name": "stderr",
     "output_type": "stream",
     "text": [
      "C:\\Users\\user\\anaconda3\\lib\\site-packages\\konlpy\\tag\\_okt.py:16: UserWarning: \"Twitter\" has changed to \"Okt\" since KoNLPy v0.4.5.\n",
      "  warn('\"Twitter\" has changed to \"Okt\" since KoNLPy v0.4.5.')\n"
     ]
    }
   ],
   "source": [
    "from ckonlpy.tag import Twitter\n",
    "twitter = Twitter()\n",
    "\n",
    "def okt_tokenize(text):\n",
    "    okt_nouns=[]\n",
    "    \n",
    "    text_pos_list = twitter.pos(text)\n",
    "    for word, tag in text_pos_list:\n",
    "        if (tag in ('Alpha', \"Noun\")) and (not word in stopword):\n",
    "            if len(word)>1:\n",
    "                okt_nouns.append(word)\n",
    "\n",
    "    okt_nouns=list(set(okt_nouns))\n",
    "    \n",
    "    okt_nouns=' '.join(okt_nouns)\n",
    "\n",
    "    return okt_nouns"
   ]
  },
  {
   "cell_type": "code",
   "execution_count": 51,
   "metadata": {},
   "outputs": [],
   "source": [
    "twitter.add_dictionary(['머신러닝','딥러닝','인공지능','빅데이터','machine Learning','machineLearning',\n",
    "                        'deep learning','bigdata','의과학','의공학','데이터','라이센서','핸드피스',\n",
    "                        'hand piece','handpiece','sw','하이브리드','보철물','지르코니아','성형체','우회기법',\n",
    "                        '고반응성','3d','o2o','5g','4세대','2d','5세대','co2','4k','2차원','3차원'], 'Noun')\n"
   ]
  },
  {
   "cell_type": "code",
   "execution_count": 52,
   "metadata": {},
   "outputs": [
    {
     "name": "stderr",
     "output_type": "stream",
     "text": [
      "<ipython-input-52-2068862e00c7>:5: TqdmDeprecationWarning: This function will be removed in tqdm==5.0.0\n",
      "Please use `tqdm.notebook.tqdm` instead of `tqdm.tqdm_notebook`\n",
      "  for row in tqdm_notebook(data['연구_krwordrank']):\n"
     ]
    },
    {
     "data": {
      "application/vnd.jupyter.widget-view+json": {
       "model_id": "4b61372133fc4a9fbb9cb701837c4f6f",
       "version_major": 2,
       "version_minor": 0
      },
      "text/plain": [
       "HBox(children=(HTML(value=''), FloatProgress(value=0.0, max=7202.0), HTML(value='')))"
      ]
     },
     "metadata": {},
     "output_type": "display_data"
    },
    {
     "name": "stdout",
     "output_type": "stream",
     "text": [
      "\n",
      "실행시간 :  51.93623495101929\n"
     ]
    }
   ],
   "source": [
    "start_time = time.time()\n",
    "data['krwr_okt']=''\n",
    "\n",
    "i=0\n",
    "for row in tqdm_notebook(data['연구_krwordrank']): \n",
    "    data['krwr_okt'].iloc[i]=okt_tokenize(row)\n",
    "    i+=1\n",
    "    \n",
    "end_time = time.time()\n",
    "print(\"실행시간 : \", end_time-start_time)\n",
    "    "
   ]
  },
  {
   "cell_type": "code",
   "execution_count": null,
   "metadata": {},
   "outputs": [],
   "source": []
  },
  {
   "cell_type": "markdown",
   "metadata": {},
   "source": [
    "# krwordrank에 hannanum 돌리기"
   ]
  },
  {
   "cell_type": "code",
   "execution_count": 53,
   "metadata": {},
   "outputs": [],
   "source": [
    "from konlpy.tag import Hannanum\n",
    "\n",
    "hannanum = Hannanum()\n",
    "\n",
    "def hannanum_tokenize(text):\n",
    "    han_nouns=[]\n",
    "    text_pos_list = hannanum.pos(text)\n",
    "    for word, tag in text_pos_list:\n",
    "        if (tag in ('F', \"N\")) and (not word in stopword):\n",
    "            if len(word)>1:\n",
    "                han_nouns.append(word)\n",
    "\n",
    "    han_nouns=list(set(han_nouns))\n",
    "    \n",
    "    han_nouns=' '.join(han_nouns)\n",
    "\n",
    "    return han_nouns"
   ]
  },
  {
   "cell_type": "code",
   "execution_count": 54,
   "metadata": {},
   "outputs": [
    {
     "name": "stderr",
     "output_type": "stream",
     "text": [
      "<ipython-input-54-2ac2c0b6543f>:6: TqdmDeprecationWarning: This function will be removed in tqdm==5.0.0\n",
      "Please use `tqdm.notebook.tqdm` instead of `tqdm.tqdm_notebook`\n",
      "  for row in tqdm_notebook(data['연구_krwordrank']):\n"
     ]
    },
    {
     "data": {
      "application/vnd.jupyter.widget-view+json": {
       "model_id": "6a6b0799351a49eebe4c13ae2a2344c8",
       "version_major": 2,
       "version_minor": 0
      },
      "text/plain": [
       "HBox(children=(HTML(value=''), FloatProgress(value=0.0, max=7202.0), HTML(value='')))"
      ]
     },
     "metadata": {},
     "output_type": "display_data"
    },
    {
     "name": "stdout",
     "output_type": "stream",
     "text": [
      "\n",
      "실행시간 :  100.76774382591248\n"
     ]
    }
   ],
   "source": [
    "start_time = time.time()\n",
    "data['krwr_han']=''\n",
    "\n",
    "i=0\n",
    "try:\n",
    "    for row in tqdm_notebook(data['연구_krwordrank']): \n",
    "        data['krwr_han'].iloc[i]=hannanum_tokenize(row)\n",
    "        i+=1\n",
    "\n",
    "    end_time = time.time()\n",
    "    print(\"실행시간 : \", end_time-start_time)\n",
    "except:\n",
    "    print(i)\n",
    "    pass\n",
    "    "
   ]
  },
  {
   "cell_type": "code",
   "execution_count": null,
   "metadata": {},
   "outputs": [],
   "source": []
  },
  {
   "cell_type": "code",
   "execution_count": 56,
   "metadata": {},
   "outputs": [],
   "source": [
    "#엑셀파일 저장\n",
    "writer = pd.ExcelWriter('./project_data/comp_ver7_210219.xlsx', engine='xlsxwriter')  #경로 각자에 맞게 변경\n",
    "data.to_excel(writer)\n",
    "writer.save()"
   ]
  },
  {
   "cell_type": "code",
   "execution_count": null,
   "metadata": {},
   "outputs": [],
   "source": []
  }
 ],
 "metadata": {
  "kernelspec": {
   "display_name": "Python 3",
   "language": "python",
   "name": "python3"
  },
  "language_info": {
   "codemirror_mode": {
    "name": "ipython",
    "version": 3
   },
   "file_extension": ".py",
   "mimetype": "text/x-python",
   "name": "python",
   "nbconvert_exporter": "python",
   "pygments_lexer": "ipython3",
   "version": "3.8.5"
  }
 },
 "nbformat": 4,
 "nbformat_minor": 4
}
